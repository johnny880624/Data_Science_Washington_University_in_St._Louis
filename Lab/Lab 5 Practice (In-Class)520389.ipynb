{
 "cells": [
  {
   "cell_type": "markdown",
   "metadata": {},
   "source": [
    "# Scope Practice"
   ]
  },
  {
   "cell_type": "code",
   "execution_count": 12,
   "metadata": {},
   "outputs": [
    {
     "name": "stdout",
     "output_type": "stream",
     "text": [
      "10\n",
      "None\n"
     ]
    }
   ],
   "source": [
    "# Exercise 1.a: What does this code print out?\n",
    "\n",
    "a = 10\n",
    "\n",
    "def plus_one(a):\n",
    "    a = a + 1\n",
    "    \n",
    "\n",
    "print(a)\n",
    "print(plus_one(a))\n",
    "\n",
    "# print(plus_one) this function will not print out anything because there is no return in this function."
   ]
  },
  {
   "cell_type": "code",
   "execution_count": 13,
   "metadata": {},
   "outputs": [],
   "source": [
    "#Paste ChatGPT code here\n"
   ]
  },
  {
   "cell_type": "code",
   "execution_count": 14,
   "metadata": {},
   "outputs": [
    {
     "name": "stdout",
     "output_type": "stream",
     "text": [
      "10\n",
      "None\n"
     ]
    }
   ],
   "source": [
    "# Exercise 1.b: What does this code print out?\n",
    "def plus_one(a):\n",
    "    a = a + 1\n",
    "\n",
    "a = 10\n",
    "print(a)\n",
    "print(plus_one(a))\n",
    "\n",
    "# In this question, print(plus_one) this function will not print out anything as well because there is no return in this function."
   ]
  },
  {
   "cell_type": "code",
   "execution_count": 15,
   "metadata": {},
   "outputs": [],
   "source": [
    "#Paste ChatGPT code here\n"
   ]
  },
  {
   "cell_type": "code",
   "execution_count": 16,
   "metadata": {},
   "outputs": [
    {
     "name": "stdout",
     "output_type": "stream",
     "text": [
      "10\n",
      "11\n"
     ]
    }
   ],
   "source": [
    "# Exercise 1.c: What does this code print out?\n",
    "def plus_one(a):\n",
    "    a = a + 1\n",
    "    return a\n",
    "\n",
    "a = 10\n",
    "print(a)\n",
    "print(plus_one(a))\n",
    "\n",
    "# The a will be plused up 1 value because there is return in this function. The added value can be updated and ruturn to the outer range."
   ]
  },
  {
   "cell_type": "code",
   "execution_count": 17,
   "metadata": {},
   "outputs": [],
   "source": [
    "#Paste ChatGPT code here\n"
   ]
  },
  {
   "cell_type": "code",
   "execution_count": 18,
   "metadata": {},
   "outputs": [
    {
     "name": "stdout",
     "output_type": "stream",
     "text": [
      "10\n",
      "11\n"
     ]
    }
   ],
   "source": [
    "def plus_one(a):\n",
    "    a = a + 1\n",
    "    return a\n",
    "\n",
    "b = 10\n",
    "print(b)\n",
    "print(plus_one(b))\n",
    "\n",
    "# The dafault parameter of the function doesn't influence the result. The result will be only influenced by the input value, which is b."
   ]
  },
  {
   "cell_type": "code",
   "execution_count": 19,
   "metadata": {},
   "outputs": [],
   "source": [
    "#Paste ChatGPT code here\n"
   ]
  },
  {
   "cell_type": "code",
   "execution_count": 20,
   "metadata": {},
   "outputs": [
    {
     "name": "stdout",
     "output_type": "stream",
     "text": [
      "10\n",
      "11\n",
      "10\n"
     ]
    }
   ],
   "source": [
    "# Exercise 1.d: What does this code print out?\n",
    "def plus_one(a):\n",
    "    a = a + 1\n",
    "    return a\n",
    "\n",
    "a = 10\n",
    "print(a)\n",
    "print(plus_one(a))\n",
    "print(a)\n",
    "\n",
    "# The reason why the second print(a) is still the original value is because after we return the added value a we didn't update the value of a variable."
   ]
  },
  {
   "cell_type": "code",
   "execution_count": 21,
   "metadata": {},
   "outputs": [],
   "source": [
    "#Paste ChatGPT code here\n",
    "\n"
   ]
  },
  {
   "cell_type": "code",
   "execution_count": 22,
   "metadata": {},
   "outputs": [
    {
     "name": "stdout",
     "output_type": "stream",
     "text": [
      "10\n",
      "11\n",
      "11\n"
     ]
    }
   ],
   "source": [
    "# Exercise 1.e: What does this code print out?\n",
    "def plus_one(a):\n",
    "    a = a + 1\n",
    "    return a \n",
    "\n",
    "a = 10\n",
    "print(a)\n",
    "print(plus_one(a))\n",
    "a = plus_one(a)\n",
    "print(a)\n",
    "\n",
    "# Here we update or assign the added value a into the a variable so the final value of variable a will be added up 1."
   ]
  },
  {
   "cell_type": "code",
   "execution_count": 23,
   "metadata": {},
   "outputs": [],
   "source": [
    "#Paste ChatGPT code here\n",
    "\n"
   ]
  },
  {
   "cell_type": "markdown",
   "metadata": {},
   "source": [
    "# Function Practice\n",
    "\n",
    "Define the following function:\n",
    "\n",
    "- Input: list of numbers\n",
    "- Output: sum of these numbers"
   ]
  },
  {
   "cell_type": "code",
   "execution_count": 24,
   "metadata": {},
   "outputs": [
    {
     "data": {
      "text/plain": [
       "10"
      ]
     },
     "execution_count": 24,
     "metadata": {},
     "output_type": "execute_result"
    }
   ],
   "source": [
    "#Write your code here\n",
    "L = [1,2,3,4]\n",
    "\n",
    "def sum_up(L: list):\n",
    "    sum = 0\n",
    "    for ele in L:\n",
    "        sum += ele\n",
    "    return sum\n",
    "\n",
    "sum_up(L)"
   ]
  },
  {
   "cell_type": "code",
   "execution_count": 25,
   "metadata": {},
   "outputs": [
    {
     "name": "stdout",
     "output_type": "stream",
     "text": [
      "Sum: 10\n"
     ]
    }
   ],
   "source": [
    "#Paste ChatGPT code here\n",
    "def sum_numbers(number_list):\n",
    "    # Use the built-in sum() function to calculate the sum of the numbers\n",
    "    total_sum = sum(number_list)\n",
    "    return total_sum\n",
    "\n",
    "# Example usage:\n",
    "numbers_list = [1, 2, 3, 4]\n",
    "result = sum_numbers(numbers_list)\n",
    "print(\"Sum:\", result)\n"
   ]
  },
  {
   "cell_type": "markdown",
   "metadata": {},
   "source": [
    "Define the following function:\n",
    "\n",
    "- Input: string and number\n",
    "- Output: The character of the string in the index given by number.  If this index does not exist, then return -1."
   ]
  },
  {
   "cell_type": "code",
   "execution_count": 26,
   "metadata": {},
   "outputs": [
    {
     "data": {
      "text/plain": [
       "'e'"
      ]
     },
     "execution_count": 26,
     "metadata": {},
     "output_type": "execute_result"
    }
   ],
   "source": [
    "#Write you code here\n",
    "number = 3\n",
    "string = \"base\"\n",
    "\n",
    "def which_character(number, string):\n",
    "    if len(string) <= number:\n",
    "        return -1\n",
    "    else:\n",
    "        return string[number]\n",
    "\n",
    "which_character(number,string)"
   ]
  },
  {
   "cell_type": "code",
   "execution_count": 27,
   "metadata": {},
   "outputs": [
    {
     "name": "stdout",
     "output_type": "stream",
     "text": [
      "Character: W\n"
     ]
    }
   ],
   "source": [
    "#Paste ChatGPT code here\n",
    "def get_character_at_index(input_string, index):\n",
    "    # Check if the index is within the valid range\n",
    "    if index >= 0 and index < len(input_string):\n",
    "        # Return the character at the specified index\n",
    "        return input_string[index]\n",
    "    else:\n",
    "        # Return -1 if the index is out of bounds\n",
    "        return -1\n",
    "\n",
    "# Example usage:\n",
    "input_string = \"Hello, World!\"\n",
    "index = 7\n",
    "result = get_character_at_index(input_string, index)\n",
    "print(\"Character:\", result)\n",
    "\n"
   ]
  },
  {
   "cell_type": "markdown",
   "metadata": {},
   "source": [
    "Define the following function:\n",
    "\n",
    "- Input: list of string\n",
    "- Output single string with elements separated by  space\n",
    "\n",
    "Example:  string_join([\"test\", \"test\", \"test\"]) => \"test test test\""
   ]
  },
  {
   "cell_type": "code",
   "execution_count": 28,
   "metadata": {},
   "outputs": [
    {
     "name": "stdout",
     "output_type": "stream",
     "text": [
      "1 2 3 \n"
     ]
    }
   ],
   "source": [
    "#Write you code here\n",
    "list_strings = ['1','2','3']\n",
    "\n",
    "def string_join(l: list):\n",
    "    temp_str = ''\n",
    "    for ele in l:\n",
    "        temp_str = temp_str + ele\n",
    "        temp_str = temp_str + \" \"\n",
    "    return temp_str\n",
    "        \n",
    "print(string_join(list_strings))\n",
    "        \n",
    "#output = '1 2 3'\n"
   ]
  },
  {
   "cell_type": "code",
   "execution_count": 29,
   "metadata": {},
   "outputs": [
    {
     "name": "stdout",
     "output_type": "stream",
     "text": [
      "Result: test test test\n"
     ]
    }
   ],
   "source": [
    "#Paste ChatGPT code here\n",
    "def string_join(string_list):\n",
    "    # Use the join method to concatenate the strings with spaces in between\n",
    "    result = ' '.join(string_list)\n",
    "    return result\n",
    "\n",
    "# Example usage:\n",
    "string_list = [\"test\", \"test\", \"test\"]\n",
    "result = string_join(string_list)\n",
    "print(\"Result:\", result)\n",
    "\n"
   ]
  },
  {
   "cell_type": "markdown",
   "metadata": {},
   "source": [
    "Define the following function:\n",
    "    \n",
    "- Input: String separated by commas\n",
    "- Output: The sum of this numbers\n",
    "\n",
    "Example: sum_numbers_in_string(\"1,2,3,4\") => 10"
   ]
  },
  {
   "cell_type": "code",
   "execution_count": 30,
   "metadata": {},
   "outputs": [
    {
     "data": {
      "text/plain": [
       "21"
      ]
     },
     "execution_count": 30,
     "metadata": {},
     "output_type": "execute_result"
    }
   ],
   "source": [
    "#Write you code here\n",
    "str_nums = \"1,2,3,4,5,6\"\n",
    "\n",
    "def sum_numbers_in_string(str):\n",
    "    str=str.split(\",\")\n",
    "    sum = 0\n",
    "    for ele in str:\n",
    "       sum += int(ele) \n",
    "    return sum\n",
    "\n",
    "sum_numbers_in_string(str_nums)\n",
    "#output = 21"
   ]
  },
  {
   "cell_type": "code",
   "execution_count": 31,
   "metadata": {},
   "outputs": [
    {
     "name": "stdout",
     "output_type": "stream",
     "text": [
      "Sum: 21\n"
     ]
    }
   ],
   "source": [
    "#Paste ChatGPT code here\n",
    "def sum_numbers_in_string(input_string):\n",
    "    # Split the input string by commas and convert each part to an integer\n",
    "    numbers = [int(num) for num in input_string.split(',') if num.isdigit()]\n",
    "    \n",
    "    # Calculate the sum of the numbers\n",
    "    total_sum = sum(numbers)\n",
    "    \n",
    "    return total_sum\n",
    "\n",
    "# Example usage:\n",
    "input_string = \"1,2,3,4,5,6\"\n",
    "result = sum_numbers_in_string(input_string)\n",
    "print(\"Sum:\", result)\n",
    "\n"
   ]
  },
  {
   "cell_type": "markdown",
   "metadata": {},
   "source": [
    "Define the following functions:\n",
    "\n",
    "Read_File(file_name)\n",
    "\n",
    "- Input: file_name (materials/numbers.txt)\n",
    "- Output: list of all numbers as ints\n",
    "\n",
    "Mode(list_nums)\n",
    "\n",
    "- Input: list of nums\n",
    "- Ouput: mode of the list"
   ]
  },
  {
   "cell_type": "code",
   "execution_count": 41,
   "metadata": {},
   "outputs": [
    {
     "name": "stdout",
     "output_type": "stream",
     "text": [
      "[1, 2, 1, 4, 5, 34, 23, 23, 23, 1, 5, 5, 5, 2, 6, 7, 5, 3, 5, 43, 54, 23, 6, 42, 23, 1, 2, 3, 4, 5, 6, 7, 8, 1, 3, 5, 34, 23, 35, 56, 3, 2, 4, 2, 34, 23, 5, 6, 7, 87, 54, 234, 2, 1, 5, 45, 34, 2, 4, 6, 8, 9, 56, 34, 2, 4]\n"
     ]
    }
   ],
   "source": [
    "file_path = \"data/numbers.txt\"\n",
    "\n",
    "def Read_File(file_path):\n",
    "    list = []\n",
    "    #Write your code here\n",
    "    with open(file_path, \"r\") as f:\n",
    "        for row in f:\n",
    "            row = row.split(\",\")\n",
    "            for ele in row:\n",
    "                list.append(int(ele))\n",
    "    \n",
    "    return list \n",
    "\n",
    "print(Read_File(file_path))"
   ]
  },
  {
   "cell_type": "code",
   "execution_count": 33,
   "metadata": {},
   "outputs": [
    {
     "name": "stdout",
     "output_type": "stream",
     "text": [
      "Error: File 'data/numbers.txt' contains non-integer values.\n",
      "[]\n"
     ]
    }
   ],
   "source": [
    "#Paste ChatGPT code here\n",
    "def Read_File(file_name):\n",
    "    try:\n",
    "        with open(file_name, 'r') as file:\n",
    "            # Read the file line by line and convert each line to an integer\n",
    "            numbers = [int(line.strip()) for line in file]\n",
    "        return numbers\n",
    "    except FileNotFoundError:\n",
    "        print(f\"File '{file_name}' not found.\")\n",
    "        return []\n",
    "    except ValueError:\n",
    "        print(f\"Error: File '{file_name}' contains non-integer values.\")\n",
    "        return []\n",
    "\n",
    "# Example usage:\n",
    "file_name = \"data/numbers.txt\"\n",
    "numbers_list = Read_File(file_name)\n",
    "print(numbers_list)\n"
   ]
  },
  {
   "cell_type": "code",
   "execution_count": 42,
   "metadata": {},
   "outputs": [
    {
     "name": "stdout",
     "output_type": "stream",
     "text": [
      "The mode is 5\n",
      "The number of mode is 10\n"
     ]
    }
   ],
   "source": [
    "def Mode(list_nums):\n",
    "    \n",
    "    #Write your code here\n",
    "    temp_dic ={}\n",
    "    for ele in list_nums:\n",
    "        if ele not in temp_dic:\n",
    "            temp_dic[ele] = 1\n",
    "        else:\n",
    "            temp_dic[ele] += 1\n",
    "    \n",
    "    max = 0\n",
    "    max_value = 0\n",
    "    for ele,val in temp_dic.items():\n",
    "        if val > max_value:\n",
    "            max = ele\n",
    "            max_value = val\n",
    "    \n",
    "    \n",
    "    return max, max_value\n",
    "max, max_value = Mode(Read_File(file_path))\n",
    "print(\"The mode is \" +str(max))\n",
    "print(\"The number of mode is \" +str(max_value))"
   ]
  },
  {
   "cell_type": "code",
   "execution_count": 35,
   "metadata": {},
   "outputs": [
    {
     "ename": "TypeError",
     "evalue": "'int' object is not callable",
     "output_type": "error",
     "traceback": [
      "\u001b[0;31m---------------------------------------------------------------------------\u001b[0m",
      "\u001b[0;31mTypeError\u001b[0m                                 Traceback (most recent call last)",
      "Cell \u001b[0;32mIn[35], line 16\u001b[0m\n\u001b[1;32m     14\u001b[0m \u001b[38;5;66;03m# Example usage:\u001b[39;00m\n\u001b[1;32m     15\u001b[0m numbers_list \u001b[38;5;241m=\u001b[39m [\u001b[38;5;241m1\u001b[39m, \u001b[38;5;241m2\u001b[39m, \u001b[38;5;241m2\u001b[39m, \u001b[38;5;241m3\u001b[39m, \u001b[38;5;241m3\u001b[39m, \u001b[38;5;241m3\u001b[39m, \u001b[38;5;241m4\u001b[39m, \u001b[38;5;241m4\u001b[39m, \u001b[38;5;241m4\u001b[39m, \u001b[38;5;241m4\u001b[39m]\n\u001b[0;32m---> 16\u001b[0m result \u001b[38;5;241m=\u001b[39m Mode(numbers_list)\n\u001b[1;32m     17\u001b[0m \u001b[38;5;28mprint\u001b[39m(\u001b[38;5;124m\"\u001b[39m\u001b[38;5;124mMode:\u001b[39m\u001b[38;5;124m\"\u001b[39m, result)\n",
      "Cell \u001b[0;32mIn[35], line 9\u001b[0m, in \u001b[0;36mMode\u001b[0;34m(list_nums)\u001b[0m\n\u001b[1;32m      6\u001b[0m counts \u001b[38;5;241m=\u001b[39m Counter(list_nums)\n\u001b[1;32m      8\u001b[0m \u001b[38;5;66;03m# Find the mode(s) (numbers with the highest count)\u001b[39;00m\n\u001b[0;32m----> 9\u001b[0m max_count \u001b[38;5;241m=\u001b[39m \u001b[38;5;28mmax\u001b[39m(counts\u001b[38;5;241m.\u001b[39mvalues())\n\u001b[1;32m     10\u001b[0m mode \u001b[38;5;241m=\u001b[39m [num \u001b[38;5;28;01mfor\u001b[39;00m num, count \u001b[38;5;129;01min\u001b[39;00m counts\u001b[38;5;241m.\u001b[39mitems() \u001b[38;5;28;01mif\u001b[39;00m count \u001b[38;5;241m==\u001b[39m max_count]\n\u001b[1;32m     12\u001b[0m \u001b[38;5;28;01mreturn\u001b[39;00m mode\n",
      "\u001b[0;31mTypeError\u001b[0m: 'int' object is not callable"
     ]
    }
   ],
   "source": [
    "#Paste ChatGPT code here\n",
    "from collections import Counter\n",
    "\n",
    "def Mode(list_nums):\n",
    "    # Count the occurrences of each number in the list\n",
    "    counts = Counter(list_nums)\n",
    "    \n",
    "    # Find the mode(s) (numbers with the highest count)\n",
    "    max_count = max(counts.values())\n",
    "    mode = [num for num, count in counts.items() if count == max_count]\n",
    "    \n",
    "    return mode\n",
    "\n",
    "# Example usage:\n",
    "numbers_list = [1, 2, 2, 3, 3, 3, 4, 4, 4, 4]\n",
    "result = Mode(numbers_list)\n",
    "print(\"Mode:\", result)\n",
    "\n"
   ]
  },
  {
   "cell_type": "markdown",
   "metadata": {},
   "source": [
    "String you functions together in the cell below"
   ]
  },
  {
   "cell_type": "code",
   "execution_count": 43,
   "metadata": {},
   "outputs": [
    {
     "name": "stdout",
     "output_type": "stream",
     "text": [
      "The mode is 5\n",
      "The number of mode is 10\n"
     ]
    }
   ],
   "source": [
    "#Write you code here\n",
    "file_path = \"data/numbers.txt\"\n",
    "\n",
    "def Read_File(file_path):\n",
    "    list = []\n",
    "    #Write your code here\n",
    "    with open(file_path, \"r\") as f:\n",
    "        for row in f:\n",
    "            row = row.split(\",\")\n",
    "            for ele in row:\n",
    "                list.append(int(ele))\n",
    "    \n",
    "    return list \n",
    "\n",
    "def Mode(list_nums):\n",
    "    \n",
    "    #Write your code here\n",
    "    temp_dic ={}\n",
    "    for ele in list_nums:\n",
    "        if ele not in temp_dic:\n",
    "            temp_dic[ele] = 1\n",
    "        else:\n",
    "            temp_dic[ele] += 1\n",
    "    \n",
    "    max = 0\n",
    "    max_value = 0\n",
    "    for ele,val in temp_dic.items():\n",
    "        if val > max_value:\n",
    "            max = ele\n",
    "            max_value = val\n",
    "    \n",
    "    \n",
    "    return max, max_value\n",
    "max, max_value = Mode(Read_File(file_path))\n",
    "print(\"The mode is \" +str(max))\n",
    "print(\"The number of mode is \" +str(max_value))\n"
   ]
  },
  {
   "cell_type": "code",
   "execution_count": null,
   "metadata": {},
   "outputs": [],
   "source": [
    "#Paste ChatGPT code here\n"
   ]
  }
 ],
 "metadata": {
  "kernelspec": {
   "display_name": "Python 3 (ipykernel)",
   "language": "python",
   "name": "python3"
  },
  "language_info": {
   "codemirror_mode": {
    "name": "ipython",
    "version": 3
   },
   "file_extension": ".py",
   "mimetype": "text/x-python",
   "name": "python",
   "nbconvert_exporter": "python",
   "pygments_lexer": "ipython3",
   "version": "3.11.4"
  },
  "toc": {
   "nav_menu": {
    "height": "48px",
    "width": "252px"
   },
   "number_sections": true,
   "sideBar": true,
   "skip_h1_title": false,
   "toc_cell": false,
   "toc_position": {},
   "toc_section_display": "block",
   "toc_window_display": false
  }
 },
 "nbformat": 4,
 "nbformat_minor": 2
}
