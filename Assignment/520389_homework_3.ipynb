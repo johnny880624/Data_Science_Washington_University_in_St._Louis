{
 "cells": [
  {
   "cell_type": "markdown",
   "metadata": {
    "deletable": false,
    "editable": false,
    "nbgrader": {
     "checksum": "de5746f23b8e1f582d010e28bb1d6c87",
     "grade": false,
     "grade_id": "cell-a4c41f39205051c2",
     "locked": true,
     "schema_version": 1,
     "solution": false
    }
   },
   "source": [
    "# Homework 3\n",
    "\n",
    "\n",
    "## Problem 1 (Reocurring Characters: dictionaries) \n",
    "\n",
    "For a given string s, return the first reoccuring character in the string.  Try to get an approach that is $O(n)$, where $n$ is the number of characters in the string. If there is no such character, return None. \n",
    "    \n",
    "    -- Input:\"ABCA\"\n",
    "    -- Output:\"A\""
   ]
  },
  {
   "cell_type": "code",
   "execution_count": 15,
   "metadata": {},
   "outputs": [],
   "source": [
    "def problem1(s):\n",
    "    occurent_letter = None\n",
    "    final_dict ={}\n",
    "    # YOUR CODE HERE\n",
    "    for str in s:\n",
    "        if str not in final_dict:\n",
    "            final_dict[str] = 1\n",
    "        else:\n",
    "            occurent_letter = str\n",
    "            return(occurent_letter)\n",
    "# s =\"ABCA\"\n",
    "# problem1(s)"
   ]
  },
  {
   "cell_type": "code",
   "execution_count": 16,
   "metadata": {
    "deletable": false,
    "editable": false,
    "nbgrader": {
     "checksum": "7819be8506064d497aa7c761c8f6d4c2",
     "grade": true,
     "grade_id": "cell-2853176972493b6e",
     "locked": true,
     "points": 10,
     "schema_version": 1,
     "solution": false
    }
   },
   "outputs": [],
   "source": [
    "assert problem1(\"ABCA\") == \"A\""
   ]
  },
  {
   "cell_type": "code",
   "execution_count": 17,
   "metadata": {
    "deletable": false,
    "editable": false,
    "nbgrader": {
     "checksum": "a587e1f63dc1915d4208d0f245abaeb9",
     "grade": true,
     "grade_id": "cell-b16dd3056b5a9f95",
     "locked": true,
     "points": 10,
     "schema_version": 1,
     "solution": false
    }
   },
   "outputs": [],
   "source": [
    "assert problem1(\"ABC\") == None"
   ]
  },
  {
   "cell_type": "code",
   "execution_count": 18,
   "metadata": {
    "deletable": false,
    "editable": false,
    "nbgrader": {
     "checksum": "46a9a57ddf0534f37788241b03e29e46",
     "grade": true,
     "grade_id": "cell-ab1b1d0a5f7b1fce",
     "locked": true,
     "points": 10,
     "schema_version": 1,
     "solution": false
    }
   },
   "outputs": [],
   "source": [
    "assert problem1(\"ABCBA\") == \"B\""
   ]
  },
  {
   "cell_type": "code",
   "execution_count": 53,
   "metadata": {
    "deletable": false,
    "nbgrader": {
     "checksum": "d1e15965270c6cc6b535924ef0566472",
     "grade": false,
     "grade_id": "cell-b78086c290d4a60c",
     "locked": false,
     "schema_version": 1,
     "solution": true
    }
   },
   "outputs": [
    {
     "name": "stdout",
     "output_type": "stream",
     "text": [
      "A\n"
     ]
    }
   ],
   "source": [
    "#Write ChatGPT code here\n",
    "def first_reoccuring(s):\n",
    "    seen = set()\n",
    "    for char in s:\n",
    "        if char in seen:\n",
    "            return char\n",
    "        seen.add(char)\n",
    "    return None\n",
    "\n",
    "# Test\n",
    "s = \"ABCA\"\n",
    "print(first_reoccuring(s))  # Outputs: A\n"
   ]
  },
  {
   "cell_type": "markdown",
   "metadata": {
    "deletable": false,
    "editable": false,
    "nbgrader": {
     "checksum": "8c1597fa523fe5fbe7d233a6ecece15d",
     "grade": false,
     "grade_id": "cell-1c14a1786a26dc5a",
     "locked": true,
     "schema_version": 1,
     "solution": false
    }
   },
   "source": [
    "## Problem 2 (String Methods):\n",
    "\n",
    "We have learnt that strings are immutable objects. In the following, you are asked to write a code to \"mutate\" a string. In particular, you are given a string, a position number and a character. You should return a different string such that this string is the same as the input string except the character in the position is changed to the given character. \n",
    "\n",
    "Example:\n",
    "\n",
    "    input: \n",
    "        original_string = \"Hello world!\"\n",
    "        position=6\n",
    "        character=\"W\"\n",
    "    ouput: \"Hello World!\""
   ]
  },
  {
   "cell_type": "code",
   "execution_count": 21,
   "metadata": {},
   "outputs": [],
   "source": [
    "def problem2(original_string, position, character):\n",
    "    return_string = \"\"\n",
    "    \n",
    "    # YOUR CODE HERE\n",
    "    return_string = original_string[:position] + character + original_string[position+1:]\n",
    "    \n",
    "    return(return_string)"
   ]
  },
  {
   "cell_type": "code",
   "execution_count": 22,
   "metadata": {
    "deletable": false,
    "editable": false,
    "nbgrader": {
     "checksum": "e540b6bc7b64200a081ed67388b03b95",
     "grade": true,
     "grade_id": "cell-681343a4d7e22bbd",
     "locked": true,
     "points": 10,
     "schema_version": 1,
     "solution": false
    }
   },
   "outputs": [],
   "source": [
    "# Test cases for Problem Set 4\n",
    "assert problem2(\"Hello world!\", 6, \"W\") == \"Hello World!\""
   ]
  },
  {
   "cell_type": "code",
   "execution_count": 23,
   "metadata": {
    "deletable": false,
    "editable": false,
    "nbgrader": {
     "checksum": "f3e30a92c6fdcc307797ae58bfe57c6e",
     "grade": true,
     "grade_id": "cell-402bf89f76c4bd42",
     "locked": true,
     "points": 10,
     "schema_version": 1,
     "solution": false
    }
   },
   "outputs": [],
   "source": [
    "assert problem2(\"Hello world!\", 11, \".\") == \"Hello world.\""
   ]
  },
  {
   "cell_type": "code",
   "execution_count": 54,
   "metadata": {
    "deletable": false,
    "nbgrader": {
     "checksum": "88f23b4cea108e928b42742a82a781e2",
     "grade": false,
     "grade_id": "cell-562beecb93f03f23",
     "locked": false,
     "schema_version": 1,
     "solution": true
    }
   },
   "outputs": [
    {
     "name": "stdout",
     "output_type": "stream",
     "text": [
      "Hello World!\n"
     ]
    }
   ],
   "source": [
    "#Write ChatGPT code here (same as mine)\n",
    "def mutate_string(original_string, position, character):\n",
    "    # Use slicing to create a new string with the desired modification\n",
    "    return original_string[:position] + character + original_string[position+1:]\n",
    "\n",
    "original_string = \"Hello world!\"\n",
    "position = 6\n",
    "character = \"W\"\n",
    "print(mutate_string(original_string, position, character))  # Outputs: Hello World!\n"
   ]
  },
  {
   "cell_type": "markdown",
   "metadata": {},
   "source": [
    "## Problem 3 (Function)\n",
    "\n",
    "Write a function that checks whether two words are anagrams. Two words are anagrams if they contain the same letters. For example, silent and listen are anagrams, dog and god are anagrams.\n",
    "\n",
    "Your code must be able to deal with follwoing three cases:\n",
    "\n",
    "Input: \"silent\", \"listen\"\n",
    "\n",
    "output: silent and listen are anagrams\n",
    "\n",
    "        1\n",
    "        \n",
    "Input: \"dog\", \"good\"\n",
    "\n",
    "output: The two strings do not have the same lenght\n",
    "\n",
    "        -1\n",
    "\n",
    "Input: \"cat\", \"tag\"\n",
    "\n",
    "output: cat and tag are not anagrams\n",
    "\n",
    "        0"
   ]
  },
  {
   "cell_type": "code",
   "execution_count": 41,
   "metadata": {},
   "outputs": [],
   "source": [
    "def problem3(s1, s2):\n",
    "    if sorted(s1)==sorted(s2):\n",
    "        print(s1 + \" and \" + s2 + \" are anagrams\")\n",
    "        return 1\n",
    "    elif len(s1) != len(s2):\n",
    "        print(\"The two strings do not have the same length\")\n",
    "        return -1\n",
    "    else:\n",
    "        print(s1 + \" and \" + s2 + \" are not anagrams\")\n",
    "        return 0\n",
    "    \n",
    "    #Write your code here"
   ]
  },
  {
   "cell_type": "code",
   "execution_count": 42,
   "metadata": {},
   "outputs": [
    {
     "name": "stdout",
     "output_type": "stream",
     "text": [
      "silent and listen are anagrams\n"
     ]
    }
   ],
   "source": [
    "assert problem3(\"silent\", \"listen\") == 1"
   ]
  },
  {
   "cell_type": "code",
   "execution_count": 43,
   "metadata": {},
   "outputs": [
    {
     "name": "stdout",
     "output_type": "stream",
     "text": [
      "The two strings do not have the same length\n"
     ]
    }
   ],
   "source": [
    "assert problem3(\"dog\", \"good\") == -1"
   ]
  },
  {
   "cell_type": "code",
   "execution_count": 44,
   "metadata": {},
   "outputs": [
    {
     "name": "stdout",
     "output_type": "stream",
     "text": [
      "create and regret are not anagrams\n"
     ]
    }
   ],
   "source": [
    "assert problem3(\"create\", \"regret\") == 0"
   ]
  },
  {
   "cell_type": "code",
   "execution_count": 45,
   "metadata": {},
   "outputs": [
    {
     "name": "stdout",
     "output_type": "stream",
     "text": [
      "silent and listen are anagrams\n"
     ]
    },
    {
     "data": {
      "text/plain": [
       "1"
      ]
     },
     "execution_count": 45,
     "metadata": {},
     "output_type": "execute_result"
    }
   ],
   "source": [
    "problem3(\"silent\", \"listen\")"
   ]
  },
  {
   "cell_type": "code",
   "execution_count": 46,
   "metadata": {},
   "outputs": [
    {
     "name": "stdout",
     "output_type": "stream",
     "text": [
      "The two strings do not have the same length\n"
     ]
    },
    {
     "data": {
      "text/plain": [
       "-1"
      ]
     },
     "execution_count": 46,
     "metadata": {},
     "output_type": "execute_result"
    }
   ],
   "source": [
    "problem3(\"dog\", \"good\")"
   ]
  },
  {
   "cell_type": "code",
   "execution_count": 47,
   "metadata": {},
   "outputs": [
    {
     "name": "stdout",
     "output_type": "stream",
     "text": [
      "create and regret are not anagrams\n"
     ]
    },
    {
     "data": {
      "text/plain": [
       "0"
      ]
     },
     "execution_count": 47,
     "metadata": {},
     "output_type": "execute_result"
    }
   ],
   "source": [
    "problem3(\"create\", \"regret\")"
   ]
  },
  {
   "cell_type": "code",
   "execution_count": 48,
   "metadata": {},
   "outputs": [
    {
     "name": "stdout",
     "output_type": "stream",
     "text": [
      "cat and act are anagrams\n"
     ]
    },
    {
     "data": {
      "text/plain": [
       "1"
      ]
     },
     "execution_count": 48,
     "metadata": {},
     "output_type": "execute_result"
    }
   ],
   "source": [
    "problem3(\"cat\", \"act\")"
   ]
  },
  {
   "cell_type": "code",
   "execution_count": 49,
   "metadata": {},
   "outputs": [],
   "source": [
    "#Write ChatGPT code here"
   ]
  },
  {
   "cell_type": "code",
   "execution_count": 55,
   "metadata": {},
   "outputs": [
    {
     "name": "stdout",
     "output_type": "stream",
     "text": [
      "silent and listen are anagrams\n",
      "1\n",
      "The two strings do not have the same length\n",
      "-1\n",
      "cat and tag are not anagrams\n",
      "0\n"
     ]
    }
   ],
   "source": [
    "def are_anagrams(word1, word2):\n",
    "    # Check for same length\n",
    "    if len(word1) != len(word2):\n",
    "        return f\"The two strings do not have the same length\\n-1\"\n",
    "\n",
    "    # Check if sorted versions of the words are the same\n",
    "    if sorted(word1) == sorted(word2):\n",
    "        return f\"{word1} and {word2} are anagrams\\n1\"\n",
    "    else:\n",
    "        return f\"{word1} and {word2} are not anagrams\\n0\"\n",
    "\n",
    "# Test cases\n",
    "print(are_anagrams(\"silent\", \"listen\"))\n",
    "print(are_anagrams(\"dog\", \"good\"))\n",
    "print(are_anagrams(\"cat\", \"tag\"))\n"
   ]
  },
  {
   "cell_type": "code",
   "execution_count": null,
   "metadata": {},
   "outputs": [],
   "source": []
  }
 ],
 "metadata": {
  "kernelspec": {
   "display_name": "Python 3 (ipykernel)",
   "language": "python",
   "name": "python3"
  },
  "language_info": {
   "codemirror_mode": {
    "name": "ipython",
    "version": 3
   },
   "file_extension": ".py",
   "mimetype": "text/x-python",
   "name": "python",
   "nbconvert_exporter": "python",
   "pygments_lexer": "ipython3",
   "version": "3.11.4"
  },
  "toc": {
   "colors": {
    "hover_highlight": "#DAA520",
    "navigate_num": "#000000",
    "navigate_text": "#333333",
    "running_highlight": "#FF0000",
    "selected_highlight": "#FFD700",
    "sidebar_border": "#EEEEEE",
    "wrapper_background": "#FFFFFF"
   },
   "moveMenuLeft": true,
   "nav_menu": {
    "height": "30px",
    "width": "252px"
   },
   "navigate_menu": true,
   "number_sections": true,
   "sideBar": true,
   "skip_h1_title": false,
   "threshold": 4,
   "toc_cell": false,
   "toc_position": {},
   "toc_section_display": "block",
   "toc_window_display": false,
   "widenNotebook": false
  }
 },
 "nbformat": 4,
 "nbformat_minor": 2
}
