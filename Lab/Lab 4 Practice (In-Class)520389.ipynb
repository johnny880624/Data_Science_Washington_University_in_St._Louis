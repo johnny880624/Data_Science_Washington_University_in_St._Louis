{
 "cells": [
  {
   "cell_type": "markdown",
   "metadata": {},
   "source": [
    "# Files Practice"
   ]
  },
  {
   "cell_type": "markdown",
   "metadata": {},
   "source": [
    "Q1 - Read in the text file 'Pizza_File.txt'  and find the number of times the letter a (upper or lower case) appears. Also compute the average number of slices consumed."
   ]
  },
  {
   "cell_type": "code",
   "execution_count": 11,
   "metadata": {},
   "outputs": [
    {
     "name": "stdout",
     "output_type": "stream",
     "text": [
      "So far in NYC, Jake has eaten the following number of slices of pizza each day:\n",
      "\n",
      "5\n",
      "6.166666666666667\n"
     ]
    }
   ],
   "source": [
    "#Write you code here\n",
    "file_location = \"./data/Pizza_File.txt\"\n",
    "with open(file_location, 'r') as f:\n",
    "    first_line = True\n",
    "    for row in f:\n",
    "        if first_line == False:\n",
    "            line = row.split(\",\")\n",
    "            total = 0\n",
    "            count = 0\n",
    "            for ele in line:\n",
    "                count +=1\n",
    "                total = total + int(ele)\n",
    "            average = total/count\n",
    "            print(average)\n",
    "        else:\n",
    "            first_line = False\n",
    "            print(row)\n",
    "            count = 0\n",
    "            for ele in row:\n",
    "                if ele.isupper():\n",
    "                    count+=1\n",
    "            print(count)\n"
   ]
  },
  {
   "cell_type": "markdown",
   "metadata": {},
   "source": [
    "Q2 -Read in the text file 'scores.txt' and create a dictionary where the keys are the names and the values are lists of scores (as integers)."
   ]
  },
  {
   "cell_type": "code",
   "execution_count": 18,
   "metadata": {},
   "outputs": [
    {
     "name": "stdout",
     "output_type": "stream",
     "text": [
      "{'Jake': [100, 100, 100, 101, 99], 'Dennis': [101, 99, 101, 99], 'Amr': [0, 1, 2, 3, 4, 5]}\n"
     ]
    }
   ],
   "source": [
    "#Write your code here\n",
    "file_location = \"./data/scores.txt\"\n",
    "dic_ = {}\n",
    "with open(file_location, 'r') as f:\n",
    "    for row in f:\n",
    "#         print(row)\n",
    "        line = row.split(\",\")\n",
    "        key = line[0]\n",
    "        temp_list = []\n",
    "        for i in range(len(line)-1):\n",
    "            temp_list.append(int(line[i+1]))\n",
    "        dic_[key] = temp_list\n",
    "print(dic_)"
   ]
  },
  {
   "cell_type": "markdown",
   "metadata": {},
   "source": [
    "Q3 - Read in the file 'user_likes.txt' and create a dictionary where the keys are the movies and the values are the fraction of times this movie was liked."
   ]
  },
  {
   "cell_type": "code",
   "execution_count": 42,
   "metadata": {},
   "outputs": [
    {
     "name": "stdout",
     "output_type": "stream",
     "text": [
      "{'Suicide Squad': 0.4, 'The Great Wall': 0.5, 'La La Land': 1.0, 'Rogue One': 1.0}\n"
     ]
    }
   ],
   "source": [
    "#Write your code here\n",
    "file_location = \"./data/user_likes.txt\"\n",
    "dict_ = {}\n",
    "with open(file_location, 'r') as f:\n",
    "    for row in f:\n",
    "#         print(row)\n",
    "        line = row.split(',')\n",
    "#         print(type(line[2]))\n",
    "        for i in range(len(line)-1):\n",
    "            if i == 0:\n",
    "                if line[i+1] not in dict_:\n",
    "                    dict_[line[i+1]] = [0,0]\n",
    "            if i == 1:\n",
    "                if int(line[i+1]) == 1:\n",
    "                    dict_[line[i]][0] = dict_[line[i]][0] +1\n",
    "                elif int(line[i+1]) ==0:\n",
    "                     dict_[line[i]][1] = dict_[line[i]][1] +1\n",
    "                        \n",
    "final_dict ={}\n",
    "for key,val in dict_.items():\n",
    "    if key not in final_dict:\n",
    "        final_dict[key] = val[0]/(val[0]+val[1])\n",
    "print(final_dict)\n"
   ]
  },
  {
   "cell_type": "markdown",
   "metadata": {},
   "source": [
    "Q4 - The folder Stock_Data contains stock price information (open, hi, low, close, adj close, volume) on all of the stocks listed in stock_tickers.csv.  For each of the stocks listed in this file, we would like to compute the average open price for the first quarter and write these results to new csv called Q1_Results.csv.\n",
    "\n",
    "\n",
    "a)First read the 20 stock tickers into a list from the file stock_tickers.csv"
   ]
  },
  {
   "cell_type": "code",
   "execution_count": 2,
   "metadata": {},
   "outputs": [
    {
     "name": "stdout",
     "output_type": "stream",
     "text": [
      "['ABB', 'ACN', 'ATVI', 'ADBE', 'AAPL', 'AMAT', 'ASML', 'ADP', 'BIDU', 'CA', 'CAJ', 'CSCO', 'CTSH', 'GLW', 'DVMT', 'EBAY', 'EMR', 'ERIC', 'GOOG', 'HPQ']\n"
     ]
    }
   ],
   "source": [
    "#Write your code here\n",
    "file_location = \"./data/stock_data/stock_tickers.csv\"\n",
    "company_list = []\n",
    "with open(file_location, 'r') as f:\n",
    "    for row in f:\n",
    "        company_list.append(row.strip())\n",
    "print(company_list)"
   ]
  },
  {
   "cell_type": "markdown",
   "metadata": {},
   "source": [
    "   b) Next, create a dictionary where there is a key for each stock and the values are a list of the opening prices for the first quarter"
   ]
  },
  {
   "cell_type": "code",
   "execution_count": 3,
   "metadata": {},
   "outputs": [],
   "source": [
    "#Write your code here\n",
    "dic_ = {}\n",
    "for i in range(len(company_list)):\n",
    "    file_location = \"./data/stock_data/\" + company_list[i]+\".csv\"\n",
    "    with open(file_location, 'r') as f:\n",
    "        first_line = True\n",
    "        temp_list = []\n",
    "        for row in f:\n",
    "            row = row.split(\",\")\n",
    "            if row[1] <\"2017-04-01\":\n",
    "                temp_list.append(row[2])\n",
    "        dic_[company_list[i]] = temp_list\n",
    "# print(dic_)\n",
    "            "
   ]
  },
  {
   "cell_type": "markdown",
   "metadata": {},
   "source": [
    "c)The final step is writing the result to a new csv called Q1_results.csv"
   ]
  },
  {
   "cell_type": "code",
   "execution_count": 6,
   "metadata": {},
   "outputs": [],
   "source": [
    "import csv\n",
    "\n",
    "# Open the CSV file in write mode\n",
    "new_list =[]\n",
    "for key,val in dic_.items():\n",
    "    temp_list = []\n",
    "    temp_list.append(key)\n",
    "    for ele in val:\n",
    "        temp_list.append(ele)\n",
    "    new_list.append(temp_list)\n",
    "with open('Q1_results.csv', 'w', newline='') as csvfile:\n",
    "    # Create a CSV writer object\n",
    "    csv_writer = csv.writer(csvfile)\n",
    "    for ele in new_list:\n",
    "        csv_writer.writerow(ele)\n",
    "\n",
    "    "
   ]
  },
  {
   "cell_type": "code",
   "execution_count": null,
   "metadata": {},
   "outputs": [],
   "source": []
  }
 ],
 "metadata": {
  "kernelspec": {
   "display_name": "Python 3 (ipykernel)",
   "language": "python",
   "name": "python3"
  },
  "language_info": {
   "codemirror_mode": {
    "name": "ipython",
    "version": 3
   },
   "file_extension": ".py",
   "mimetype": "text/x-python",
   "name": "python",
   "nbconvert_exporter": "python",
   "pygments_lexer": "ipython3",
   "version": "3.11.4"
  },
  "toc": {
   "colors": {
    "hover_highlight": "#DAA520",
    "navigate_num": "#000000",
    "navigate_text": "#333333",
    "running_highlight": "#FF0000",
    "selected_highlight": "#FFD700",
    "sidebar_border": "#EEEEEE",
    "wrapper_background": "#FFFFFF"
   },
   "moveMenuLeft": true,
   "nav_menu": {
    "height": "30px",
    "width": "252px"
   },
   "navigate_menu": true,
   "number_sections": true,
   "sideBar": true,
   "threshold": 4,
   "toc_cell": false,
   "toc_section_display": "block",
   "toc_window_display": false,
   "widenNotebook": false
  }
 },
 "nbformat": 4,
 "nbformat_minor": 2
}
