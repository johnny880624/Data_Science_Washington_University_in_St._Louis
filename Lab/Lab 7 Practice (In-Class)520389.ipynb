{
 "cells": [
  {
   "cell_type": "markdown",
   "metadata": {},
   "source": [
    "# List Comprehension Practice"
   ]
  },
  {
   "cell_type": "markdown",
   "metadata": {},
   "source": [
    "Create list of all the even number below 100 using list comprehension."
   ]
  },
  {
   "cell_type": "code",
   "execution_count": 4,
   "metadata": {},
   "outputs": [
    {
     "name": "stdout",
     "output_type": "stream",
     "text": [
      "[0, 2, 4, 6, 8, 10, 12, 14, 16, 18, 20, 22, 24, 26, 28, 30, 32, 34, 36, 38, 40, 42, 44, 46, 48, 50, 52, 54, 56, 58, 60, 62, 64, 66, 68, 70, 72, 74, 76, 78, 80, 82, 84, 86, 88, 90, 92, 94, 96, 98, 100]\n"
     ]
    }
   ],
   "source": [
    "#Write you code here\n",
    "# Syntax = [expression for i in range(num) if statement]\n",
    "even_number = [i for i in range(101) if i%2==0]\n",
    "print(even_number)\n"
   ]
  },
  {
   "cell_type": "markdown",
   "metadata": {},
   "source": [
    "Create a poker deck with list of lists. For example, your deck should be [[\"H\", 1], ...[\"H\", 13], ...., [\"C\", 1], ....]"
   ]
  },
  {
   "cell_type": "code",
   "execution_count": 17,
   "metadata": {},
   "outputs": [
    {
     "name": "stdout",
     "output_type": "stream",
     "text": [
      "[['S', 1], ['H', 1], ['C', 1], ['D', 1], ['S', 2], ['H', 2], ['C', 2], ['D', 2], ['S', 3], ['H', 3], ['C', 3], ['D', 3], ['S', 4], ['H', 4], ['C', 4], ['D', 4], ['S', 5], ['H', 5], ['C', 5], ['D', 5], ['S', 6], ['H', 6], ['C', 6], ['D', 6], ['S', 7], ['H', 7], ['C', 7], ['D', 7], ['S', 8], ['H', 8], ['C', 8], ['D', 8], ['S', 9], ['H', 9], ['C', 9], ['D', 9], ['S', 10], ['H', 10], ['C', 10], ['D', 10], ['S', 11], ['H', 11], ['C', 11], ['D', 11], ['S', 12], ['H', 12], ['C', 12], ['D', 12], ['S', 13], ['H', 13], ['C', 13], ['D', 13]]\n"
     ]
    }
   ],
   "source": [
    "#Write you code here\n",
    "# [[expression for inner_item in inner_iterable] for outer_item in outer_iterable]\n",
    "# it should have spade, heart, club, dianmond(4 combinations) with 1-13 (13 combinations)\n",
    "\n",
    "# type_of_poker = [\"S\", \"H\", \"C\", \"D\"]\n",
    "# poker_deck = [[i,j] for j in range(1,14) for i in type_of_poker]\n",
    "\n",
    "poker_deck = [[i,j] for j in range(1,14) for i in [\"S\", \"H\", \"C\", \"D\"]]\n",
    "print(poker_deck)\n"
   ]
  },
  {
   "cell_type": "markdown",
   "metadata": {},
   "source": [
    "Generate an $n\\times n$ identity matrix as a list of lists using list comprehension. This should be one line of code"
   ]
  },
  {
   "cell_type": "code",
   "execution_count": 19,
   "metadata": {},
   "outputs": [
    {
     "name": "stdout",
     "output_type": "stream",
     "text": [
      "[[1, 1], [2, 1], [3, 1], [4, 1], [5, 1], [6, 1], [7, 1], [8, 1], [9, 1], [10, 1], [1, 2], [2, 2], [3, 2], [4, 2], [5, 2], [6, 2], [7, 2], [8, 2], [9, 2], [10, 2], [1, 3], [2, 3], [3, 3], [4, 3], [5, 3], [6, 3], [7, 3], [8, 3], [9, 3], [10, 3], [1, 4], [2, 4], [3, 4], [4, 4], [5, 4], [6, 4], [7, 4], [8, 4], [9, 4], [10, 4], [1, 5], [2, 5], [3, 5], [4, 5], [5, 5], [6, 5], [7, 5], [8, 5], [9, 5], [10, 5], [1, 6], [2, 6], [3, 6], [4, 6], [5, 6], [6, 6], [7, 6], [8, 6], [9, 6], [10, 6], [1, 7], [2, 7], [3, 7], [4, 7], [5, 7], [6, 7], [7, 7], [8, 7], [9, 7], [10, 7], [1, 8], [2, 8], [3, 8], [4, 8], [5, 8], [6, 8], [7, 8], [8, 8], [9, 8], [10, 8], [1, 9], [2, 9], [3, 9], [4, 9], [5, 9], [6, 9], [7, 9], [8, 9], [9, 9], [10, 9], [1, 10], [2, 10], [3, 10], [4, 10], [5, 10], [6, 10], [7, 10], [8, 10], [9, 10], [10, 10]]\n"
     ]
    }
   ],
   "source": [
    "n=10\n",
    "\n",
    "#Write you code here\n",
    "n_n_matrix = [[i,j] for j in range(1, n+1) for i in range(1, n+1)]\n",
    "print(n_n_matrix)\n",
    "\n"
   ]
  },
  {
   "cell_type": "markdown",
   "metadata": {},
   "source": [
    "Take a string, make a list of strings where each element is the original string without a character. For example, \"Jake\" => [\"ake\", \"Jke\", \"Jae\", \"Jak\"]"
   ]
  },
  {
   "cell_type": "code",
   "execution_count": 8,
   "metadata": {},
   "outputs": [
    {
     "name": "stdout",
     "output_type": "stream",
     "text": [
      "['ake', 'Jke', 'Jae', 'Jak']\n"
     ]
    }
   ],
   "source": [
    "s= \"Jake\"\n",
    "\n",
    "\n",
    "#Write your code here\n",
    "# lst = []\n",
    "# for i in range(len(s)):\n",
    "#     lst.append(s[:i]+s[i+1:])\n",
    "# print(lst)\n",
    "\n",
    "print([s[:i]+s[i+1:] for i in range(len(s))])\n",
    "\n"
   ]
  },
  {
   "cell_type": "markdown",
   "metadata": {},
   "source": [
    "Take a string, make a list of strings where we insert a single \"x\" or \"y\" in every possible location between two letters. For example, \"Jake\" => [\"Jxake\", \"Jyake\", \"Jaxke\", \"Jayke\",...]"
   ]
  },
  {
   "cell_type": "code",
   "execution_count": 12,
   "metadata": {},
   "outputs": [
    {
     "name": "stdout",
     "output_type": "stream",
     "text": [
      "['Jxake', 'Jyake', 'Jaxke', 'Jayke', 'Jakxe', 'Jakye']\n",
      "['Jyake', 'Jxake', 'Jayke', 'Jaxke', 'Jakye', 'Jakxe']\n"
     ]
    }
   ],
   "source": [
    "s= \"Jake\"\n",
    "\n",
    "# [expression_if_true if condition else expression_if_false for item in iterable]\n",
    "\n",
    "\n",
    "#Write your code here\n",
    "# lst = []\n",
    "# for i in range(len(s)-1):\n",
    "#     lst.append(s[:i+1]+ \"x\" +s[i+1:])\n",
    "#     lst.append(s[:i+1]+ \"y\" +s[i+1:])\n",
    "# print(lst)\n",
    "\n",
    "print([s[:i+1]+ \"x\" +s[i+1:] if j==1 else s[:i+1]+ \"y\" +s[i+1:] for i in range(len(s)-1) for j in range(2)])\n",
    "\n"
   ]
  },
  {
   "cell_type": "markdown",
   "metadata": {},
   "source": [
    "Let build a spell checker that will recommend spelling changes for a given input word. We will recommend words that have a small \"edit distance\" (start with edit distance of one) from the input word. The edit distance will be fewest number of edits needed to go from the input word to the correct English word where an edit is either a delete, replace, transpose (flip any two letters), or an insert. The file \"English_Words.txt\" contains a list of 58,000 common English words.\n",
    "\n",
    "First function is **Read_Words()**:\n",
    "\n",
    "- Input: None\n",
    "- Output: List of of all English Words\n",
    "\n",
    "\n",
    "\n",
    "Second function is **Edits(word)**:\n",
    "\n",
    "- Input: incorrectly spelled word\n",
    "- Output: list of all edits\n",
    "\n",
    "Third function is **Get_English_Words(list_edits, english_words)**:\n",
    "\n",
    "- Input: list of potential edits and list of english words.\n",
    "- Output: all words in list_edits that are english words."
   ]
  },
  {
   "cell_type": "code",
   "execution_count": 64,
   "metadata": {},
   "outputs": [],
   "source": [
    "file = \"English_Words.txt\"\n",
    "def Read_Words(file):\n",
    "    \"\"\"Reads list of English words\"\"\"\n",
    "    with open(file, \"r\") as f:\n",
    "        lst = [ele.strip() for ele in f]\n",
    "    return lst\n",
    "\n",
    "english_words = Read_Words(file)"
   ]
  },
  {
   "cell_type": "code",
   "execution_count": 67,
   "metadata": {},
   "outputs": [
    {
     "data": {
      "text/plain": [
       "['iice',\n",
       " 'wce',\n",
       " 'ite',\n",
       " 'yice',\n",
       " 'jice',\n",
       " 'vice',\n",
       " 'icep',\n",
       " 'icer',\n",
       " 'icu',\n",
       " 'fice',\n",
       " 'iceu',\n",
       " 'iceg',\n",
       " 'icl',\n",
       " 'icy',\n",
       " 'icg',\n",
       " 'qce',\n",
       " 'cce',\n",
       " 'ict',\n",
       " 'icte',\n",
       " 'xce',\n",
       " 'kice',\n",
       " 'icj',\n",
       " 'tce',\n",
       " 'iec',\n",
       " 'tice',\n",
       " 'iceh',\n",
       " 'imce',\n",
       " 'iced',\n",
       " 'icej',\n",
       " 'sce',\n",
       " 'ide',\n",
       " 'ife',\n",
       " 'ine',\n",
       " 'ich',\n",
       " 'ije',\n",
       " 'icek',\n",
       " 'icfe',\n",
       " 'ipe',\n",
       " 'gice',\n",
       " 'cie',\n",
       " 'icd',\n",
       " 'icqe',\n",
       " 'mce',\n",
       " 'icve',\n",
       " 'hce',\n",
       " 'ice',\n",
       " 'iae',\n",
       " 'irce',\n",
       " 'iwce',\n",
       " 'icef',\n",
       " 'idce',\n",
       " 'ics',\n",
       " 'sice',\n",
       " 'icf',\n",
       " 'icpe',\n",
       " 'icre',\n",
       " 'cice',\n",
       " 'jce',\n",
       " 'ico',\n",
       " 'icde',\n",
       " 'eice',\n",
       " 'iche',\n",
       " 'icje',\n",
       " 'kce',\n",
       " 'ices',\n",
       " 'xice',\n",
       " 'ize',\n",
       " 'uce',\n",
       " 'icb',\n",
       " 'ikce',\n",
       " 'iwe',\n",
       " 'icec',\n",
       " 'uice',\n",
       " 'dce',\n",
       " 'iuce',\n",
       " 'igce',\n",
       " 'ifce',\n",
       " 'bce',\n",
       " 'ijce',\n",
       " 'qice',\n",
       " 'icbe',\n",
       " 'icex',\n",
       " 'ige',\n",
       " 'icee',\n",
       " 'iceb',\n",
       " 'ce',\n",
       " 'hice',\n",
       " 'ime',\n",
       " 'icei',\n",
       " 'aice',\n",
       " 'icie',\n",
       " 'icne',\n",
       " 'ace',\n",
       " 'icv',\n",
       " 'oce',\n",
       " 'vce',\n",
       " 'icwe',\n",
       " 'ici',\n",
       " 'rce',\n",
       " 'oice',\n",
       " 'icq',\n",
       " 'ise',\n",
       " 'iceq',\n",
       " 'lice',\n",
       " 'icle',\n",
       " 'isce',\n",
       " 'iie',\n",
       " 'ivce',\n",
       " 'icm',\n",
       " 'ic',\n",
       " 'nice',\n",
       " 'ioe',\n",
       " 'ibce',\n",
       " 'icue',\n",
       " 'iue',\n",
       " 'ihe',\n",
       " 'rice',\n",
       " 'pce',\n",
       " 'iqe',\n",
       " 'ire',\n",
       " 'iye',\n",
       " 'icen',\n",
       " 'ixe',\n",
       " 'iyce',\n",
       " 'mice',\n",
       " 'icez',\n",
       " 'ick',\n",
       " 'ipce',\n",
       " 'icme',\n",
       " 'icz',\n",
       " 'zce',\n",
       " 'icel',\n",
       " 'icce',\n",
       " 'icp',\n",
       " 'ibe',\n",
       " 'icse',\n",
       " 'dice',\n",
       " 'fce',\n",
       " 'iece',\n",
       " 'ixce',\n",
       " 'icoe',\n",
       " 'icx',\n",
       " 'eci',\n",
       " 'ile',\n",
       " 'icet',\n",
       " 'ihce',\n",
       " 'izce',\n",
       " 'yce',\n",
       " 'icke',\n",
       " 'zice',\n",
       " 'icem',\n",
       " 'ece',\n",
       " 'nce',\n",
       " 'pice',\n",
       " 'lce',\n",
       " 'ilce',\n",
       " 'icae',\n",
       " 'icye',\n",
       " 'icge',\n",
       " 'icze',\n",
       " 'itce',\n",
       " 'icew',\n",
       " 'iceo',\n",
       " 'ike',\n",
       " 'ince',\n",
       " 'icxe',\n",
       " 'wice',\n",
       " 'gce',\n",
       " 'iace',\n",
       " 'icw',\n",
       " 'ioce',\n",
       " 'icea',\n",
       " 'ica',\n",
       " 'icn',\n",
       " 'icc',\n",
       " 'icr',\n",
       " 'icev',\n",
       " 'icey',\n",
       " 'bice',\n",
       " 'iee',\n",
       " 'ive',\n",
       " 'ie',\n",
       " 'iqce']"
      ]
     },
     "execution_count": 67,
     "metadata": {},
     "output_type": "execute_result"
    }
   ],
   "source": [
    "word = \"ice\"\n",
    "def Edits(word):\n",
    "    \"\"\"Gets all edits for misplelled word\"\"\"\n",
    "    letter = \"abcdefghijklmnopqrstuvwxyz\"\n",
    "    \n",
    "    letter_list =list(letter)\n",
    "    \n",
    "    delete = [word[:i]+ word[i+1:] for i in range(len(word))]\n",
    "    \n",
    "    insert = [word[:i]+ letter[j] + word[i:] for i in range(len(word)) for j in range(len(letter))]\n",
    "    \n",
    "    insert2 = [word + letter[i] for i in range(len(letter))]\n",
    "    \n",
    "    replace = [word[:i]+ letter[j] + word[i+1:] for i in range(len(word)) for j in range(len(letter))]\n",
    "    \n",
    "#     transpose = []\n",
    "#     for i in range(len(word)):\n",
    "#         for j in range(i+1,len(word)):\n",
    "#             transpose.append(word[:i]+word[j]+word[i+1:j]+word[i]+word[j+1:])\n",
    "        \n",
    "    transpose = [word[:k] + word[j] + word[k+1:j] + word[k] + word[j+1:] \\\n",
    "                 for k in range(len(word)) for j in range(1+k,len(word))]\n",
    "\n",
    "    return list(set(delete + insert + insert2 + replace + transpose))\n",
    "\n",
    "Edits(word)\n"
   ]
  },
  {
   "cell_type": "code",
   "execution_count": 69,
   "metadata": {},
   "outputs": [
    {
     "data": {
      "text/plain": [
       "['vice',\n",
       " 'icy',\n",
       " 'iced',\n",
       " 'ice',\n",
       " 'ices',\n",
       " 'ace',\n",
       " 'lice',\n",
       " 'nice',\n",
       " 'rice',\n",
       " 'ire',\n",
       " 'mice',\n",
       " 'dice',\n",
       " 'ive']"
      ]
     },
     "execution_count": 69,
     "metadata": {},
     "output_type": "execute_result"
    }
   ],
   "source": [
    "def Get_English_Words(list_edits, english_words):\n",
    "    \n",
    "    \"\"\"Filters list of edits to make sure they are all English words\"\"\"\n",
    "#     final_list = []\n",
    "#     for i in range(len(list_edits)):\n",
    "#         for j in range(len(english_words)):\n",
    "#             if list_edits[i] == english_words[j]:\n",
    "#                 final_list.append(list_edits[i])\n",
    "    final_list =[list_edits[i] for i in range(len(list_edits)) for j in range(len(english_words))  if list_edits[i] == english_words[j]]        \n",
    "    \n",
    "    return final_list\n",
    "\n",
    "Get_English_Words(Edits(word), english_words)"
   ]
  },
  {
   "cell_type": "code",
   "execution_count": 70,
   "metadata": {},
   "outputs": [
    {
     "name": "stdout",
     "output_type": "stream",
     "text": [
      "['vice', 'icy', 'iced', 'ice', 'ices', 'ace', 'lice', 'nice', 'rice', 'ire', 'mice', 'dice', 'ive']\n"
     ]
    }
   ],
   "source": [
    "#Combine functions here\n",
    "file = \"English_Words.txt\"\n",
    "word = \"ice\"\n",
    "english_words = Read_Words(file)\n",
    "list_edits = Edits(word)\n",
    "print(Get_English_Words(list_edits, english_words))"
   ]
  },
  {
   "cell_type": "markdown",
   "metadata": {},
   "source": [
    "# Package Practice\n",
    "\n",
    "Generate N = 5,10,100,1000,10000,1000000 normal random variables with mean 10 and standard deviation 5.  For each value of N, compute the average of these random variables and write the results to a csv file where there is a column for N and another column for the averages."
   ]
  },
  {
   "cell_type": "code",
   "execution_count": 90,
   "metadata": {},
   "outputs": [
    {
     "name": "stdout",
     "output_type": "stream",
     "text": [
      "8.82435993807881\n"
     ]
    }
   ],
   "source": [
    "import numpy as np\n",
    "import pandas as pd\n",
    "\n",
    "def Get_Avg(mean, stdev, N):\n",
    "    \"\"\"Return the avg of N normal RVs with given mean and stdev\"\"\"\n",
    "    sum = 0\n",
    "    for i in range(N):\n",
    "       sum = sum + np.random.normal(mean, stdev)\n",
    "    random_vars = sum/N\n",
    "    \n",
    "    return random_vars\n",
    "\n",
    "print(Get_Avg(10, 2, 10))\n"
   ]
  },
  {
   "cell_type": "code",
   "execution_count": 94,
   "metadata": {},
   "outputs": [
    {
     "data": {
      "text/html": [
       "<div>\n",
       "<style scoped>\n",
       "    .dataframe tbody tr th:only-of-type {\n",
       "        vertical-align: middle;\n",
       "    }\n",
       "\n",
       "    .dataframe tbody tr th {\n",
       "        vertical-align: top;\n",
       "    }\n",
       "\n",
       "    .dataframe thead th {\n",
       "        text-align: right;\n",
       "    }\n",
       "</style>\n",
       "<table border=\"1\" class=\"dataframe\">\n",
       "  <thead>\n",
       "    <tr style=\"text-align: right;\">\n",
       "      <th></th>\n",
       "      <th>N</th>\n",
       "      <th>Mean</th>\n",
       "    </tr>\n",
       "  </thead>\n",
       "  <tbody>\n",
       "    <tr>\n",
       "      <th>0</th>\n",
       "      <td>5</td>\n",
       "      <td>9.488472</td>\n",
       "    </tr>\n",
       "    <tr>\n",
       "      <th>1</th>\n",
       "      <td>10</td>\n",
       "      <td>9.258053</td>\n",
       "    </tr>\n",
       "    <tr>\n",
       "      <th>2</th>\n",
       "      <td>100</td>\n",
       "      <td>10.183979</td>\n",
       "    </tr>\n",
       "    <tr>\n",
       "      <th>3</th>\n",
       "      <td>1000</td>\n",
       "      <td>10.066712</td>\n",
       "    </tr>\n",
       "    <tr>\n",
       "      <th>4</th>\n",
       "      <td>10000</td>\n",
       "      <td>10.024590</td>\n",
       "    </tr>\n",
       "    <tr>\n",
       "      <th>5</th>\n",
       "      <td>1000000</td>\n",
       "      <td>9.998132</td>\n",
       "    </tr>\n",
       "  </tbody>\n",
       "</table>\n",
       "</div>"
      ],
      "text/plain": [
       "         N       Mean\n",
       "0        5   9.488472\n",
       "1       10   9.258053\n",
       "2      100  10.183979\n",
       "3     1000  10.066712\n",
       "4    10000  10.024590\n",
       "5  1000000   9.998132"
      ]
     },
     "execution_count": 94,
     "metadata": {},
     "output_type": "execute_result"
    }
   ],
   "source": [
    "N = [5,10,100,1000,10000,1000000]\n",
    "\n",
    "def Write_Results(mean, stdev, list_N):\n",
    "    \"\"\"Write the results to a csv\"\"\"\n",
    "    data = {\"N\":list_N,\n",
    "        \"Mean\":[Get_Avg(mean, stdev, list_N[i]) for i in range(len(list_N))]}\n",
    "    df = pd.DataFrame(data)\n",
    "    df.to_csv(\"output.csv\", index=False)\n",
    "    return df\n",
    "    \n",
    "Write_Results(10, 2, N)"
   ]
  },
  {
   "cell_type": "code",
   "execution_count": 95,
   "metadata": {},
   "outputs": [
    {
     "data": {
      "text/html": [
       "<div>\n",
       "<style scoped>\n",
       "    .dataframe tbody tr th:only-of-type {\n",
       "        vertical-align: middle;\n",
       "    }\n",
       "\n",
       "    .dataframe tbody tr th {\n",
       "        vertical-align: top;\n",
       "    }\n",
       "\n",
       "    .dataframe thead th {\n",
       "        text-align: right;\n",
       "    }\n",
       "</style>\n",
       "<table border=\"1\" class=\"dataframe\">\n",
       "  <thead>\n",
       "    <tr style=\"text-align: right;\">\n",
       "      <th></th>\n",
       "      <th>N</th>\n",
       "      <th>Mean</th>\n",
       "    </tr>\n",
       "  </thead>\n",
       "  <tbody>\n",
       "    <tr>\n",
       "      <th>0</th>\n",
       "      <td>5</td>\n",
       "      <td>9.324704</td>\n",
       "    </tr>\n",
       "    <tr>\n",
       "      <th>1</th>\n",
       "      <td>10</td>\n",
       "      <td>11.058875</td>\n",
       "    </tr>\n",
       "    <tr>\n",
       "      <th>2</th>\n",
       "      <td>100</td>\n",
       "      <td>10.375683</td>\n",
       "    </tr>\n",
       "    <tr>\n",
       "      <th>3</th>\n",
       "      <td>1000</td>\n",
       "      <td>9.983035</td>\n",
       "    </tr>\n",
       "    <tr>\n",
       "      <th>4</th>\n",
       "      <td>10000</td>\n",
       "      <td>9.990796</td>\n",
       "    </tr>\n",
       "    <tr>\n",
       "      <th>5</th>\n",
       "      <td>1000000</td>\n",
       "      <td>9.999243</td>\n",
       "    </tr>\n",
       "  </tbody>\n",
       "</table>\n",
       "</div>"
      ],
      "text/plain": [
       "         N       Mean\n",
       "0        5   9.324704\n",
       "1       10  11.058875\n",
       "2      100  10.375683\n",
       "3     1000   9.983035\n",
       "4    10000   9.990796\n",
       "5  1000000   9.999243"
      ]
     },
     "execution_count": 95,
     "metadata": {},
     "output_type": "execute_result"
    }
   ],
   "source": [
    "#Combine functions here\n",
    "Write_Results(10, 2, N)"
   ]
  },
  {
   "cell_type": "markdown",
   "metadata": {},
   "source": [
    "Which has a higher average max. roll: one 8-sided die + one 6-sided die or three 6-sided die.  Simulate 1000000 rolls for each option and compute the average max roll for these two scenarios over the all the rolls."
   ]
  },
  {
   "cell_type": "code",
   "execution_count": 128,
   "metadata": {},
   "outputs": [
    {
     "data": {
      "text/plain": [
       "5"
      ]
     },
     "execution_count": 128,
     "metadata": {},
     "output_type": "execute_result"
    }
   ],
   "source": [
    "#Write you code here\n",
    "\n",
    "\n",
    "def Roll_Dice(list_die):\n",
    "    \"\"\"list_die is a list whose elements give the number of sides\n",
    "    on each die. so for three 6 sides you have list_die = [6,6,6].\n",
    "    This function executes a single roll of all the dice and return the max.\"\"\"\n",
    "#     a = [np.random.randint(1, list_die[i]+1) for i in range(len(list_die))]\n",
    "#     print(a)\n",
    "#     print(max(a))\n",
    "#     return max(a)\n",
    "    return max([np.random.randint(1, list_die[i]+1) for i in range(len(list_die))]) # Random integer between 1 (inclusive) and 10 (exclusive)\n",
    "\n",
    "Roll_Dice([6,8])"
   ]
  },
  {
   "cell_type": "code",
   "execution_count": 129,
   "metadata": {},
   "outputs": [
    {
     "data": {
      "text/plain": [
       "5.2"
      ]
     },
     "execution_count": 129,
     "metadata": {},
     "output_type": "execute_result"
    }
   ],
   "source": [
    "def Simulate(N,list_die):\n",
    "    \"\"\"Rolls dice N times and find the average max roll of list_die.\"\"\"\n",
    "    sum = 0\n",
    "    for i in range(N):\n",
    "        sum = sum + Roll_Dice(list_die)\n",
    "    avg = sum/N\n",
    "\n",
    "    return avg\n",
    "\n",
    "Simulate(10,[6,8])"
   ]
  },
  {
   "cell_type": "code",
   "execution_count": 130,
   "metadata": {},
   "outputs": [
    {
     "name": "stdout",
     "output_type": "stream",
     "text": [
      "5.094361\n"
     ]
    }
   ],
   "source": [
    "#Combine your functions here\n",
    "print((Simulate(1000000,[6,8]) + Simulate(1000000,[6,6,6]))/2)"
   ]
  },
  {
   "cell_type": "code",
   "execution_count": null,
   "metadata": {},
   "outputs": [],
   "source": []
  }
 ],
 "metadata": {
  "kernelspec": {
   "display_name": "Python 3 (ipykernel)",
   "language": "python",
   "name": "python3"
  },
  "language_info": {
   "codemirror_mode": {
    "name": "ipython",
    "version": 3
   },
   "file_extension": ".py",
   "mimetype": "text/x-python",
   "name": "python",
   "nbconvert_exporter": "python",
   "pygments_lexer": "ipython3",
   "version": "3.11.4"
  },
  "toc": {
   "nav_menu": {
    "height": "30px",
    "width": "252px"
   },
   "number_sections": true,
   "sideBar": true,
   "skip_h1_title": false,
   "toc_cell": false,
   "toc_position": {},
   "toc_section_display": "block",
   "toc_window_display": false
  }
 },
 "nbformat": 4,
 "nbformat_minor": 2
}
