{
 "cells": [
  {
   "cell_type": "markdown",
   "metadata": {},
   "source": [
    "# Variable Assignment Practice\n",
    "\n",
    "For each block of code, predict what will be printed out."
   ]
  },
  {
   "cell_type": "code",
   "execution_count": 88,
   "metadata": {},
   "outputs": [],
   "source": [
    "from IPython.core.interactiveshell import InteractiveShell\n",
    "InteractiveShell.ast_node_interactivity = \"all\"\n"
   ]
  },
  {
   "cell_type": "code",
   "execution_count": 2,
   "metadata": {},
   "outputs": [
    {
     "name": "stdout",
     "output_type": "stream",
     "text": [
      "Today is \n",
      "Monday\n",
      "\n",
      "\n",
      "\n",
      "\n",
      "Today is Monday\n",
      "Today is \n",
      "Monday\n",
      "\n",
      "\n",
      "\n",
      "\n",
      "Today is Monday\n",
      "Monday\n",
      "\n",
      "\n",
      "\tToday is actually Wednesday\n"
     ]
    }
   ],
   "source": [
    "def concatenate(str_1, str_2):\n",
    "    str_1 = str_1 + str_2\n",
    "    return str_1 \n",
    "\n",
    "str_1 = \"Today is \"\n",
    "str_2 = \"Monday\"\n",
    "\n",
    "print(str_1)\n",
    "print(str_2)\n",
    "print(\"\\n\\n\\n\")\n",
    "      \n",
    "print(concatenate(str_1, str_2))\n",
    "print(str_1)\n",
    "print(str_2)\n",
    "print(\"\\n\\n\\n\")\n",
    "\n",
    "str_1 = concatenate(str_1, str_2)\n",
    "print(str_1)\n",
    "print(str_2)\n",
    "\n",
    "str3 = \"\\tToday is actually \"\n",
    "str4 = \"Wednesday\"\n",
    "print('\\n\\n'+str3+str4)"
   ]
  },
  {
   "cell_type": "code",
   "execution_count": 89,
   "metadata": {},
   "outputs": [
    {
     "name": "stdout",
     "output_type": "stream",
     "text": [
      "Before calling Sum1, x is a\n",
      "Before calling Sum1, y is b\n",
      "Inside function Sum1, x is 5\n",
      "Inside function Sum1, y is 1\n",
      "Inside function Sum2, x is a\n",
      "Inside function Sum2, y is 5\n"
     ]
    }
   ],
   "source": [
    "def Sum1():\n",
    "    x = 5\n",
    "    y = 1\n",
    "    print(\"Inside function Sum1, x is %s\" % x)\n",
    "    print(\"Inside function Sum1, y is %s\" % y)    \n",
    "    Sum2(x)\n",
    "    return\n",
    "\n",
    "def Sum2(y):\n",
    "    print(\"Inside function Sum2, x is %s\" % x)\n",
    "    print(\"Inside function Sum2, y is %s\" % y)\n",
    "\n",
    "x = \"a\"\n",
    "y = \"b\"\n",
    "print(\"Before calling Sum1, x is %s\" % x)\n",
    "print(\"Before calling Sum1, y is %s\" % y)\n",
    "Sum1() #No value was entered\n"
   ]
  },
  {
   "cell_type": "code",
   "execution_count": 90,
   "metadata": {},
   "outputs": [
    {
     "name": "stdout",
     "output_type": "stream",
     "text": [
      "Before function call GetMedianIndex, l = [4, 3, 1, 4, 2, 6, 7]\n",
      "Inside the function GetMedianIndex, l = [1, 2, 3, 4, 4, 6, 7]\n",
      "After function call GetMedianIndex, l = [1, 2, 3, 4, 4, 6, 7]\n",
      "The index for the median is 3\n",
      "The median is 4\n",
      "After function call CutList, l = [1, 2, 3]\n"
     ]
    }
   ],
   "source": [
    "def GetMedianIndex(l):\n",
    "    print(\"Inside the function GetMedianIndex, l = %s\" % str(l))\n",
    "    index = int(len(l) / 2)\n",
    "    return index\n",
    "\n",
    "def CutList(middle, sortedList):\n",
    "    cutList = sortedList[:middle]\n",
    "    return cutList\n",
    "\n",
    "l = [4,3,1,4,2,6,7]\n",
    "print(\"Before function call GetMedianIndex, l = %s\" % str(l))\n",
    "l.sort()\n",
    "\n",
    "middle = GetMedianIndex(l)\n",
    "print(\"After function call GetMedianIndex, l = %s\" % str(l))\n",
    "print(f\"The index for the median is {middle}\")\n",
    "print(f\"The median is {l[middle]}\")\n",
    "l = CutList(middle, l)\n",
    "print(\"After function call CutList, l = %s\" % str(l))\n"
   ]
  },
  {
   "cell_type": "code",
   "execution_count": 91,
   "metadata": {},
   "outputs": [
    {
     "name": "stdout",
     "output_type": "stream",
     "text": [
      "name_1 =  Charlie Dilly\n",
      "name_2 =  Charlie\n"
     ]
    }
   ],
   "source": [
    "name_1 = \"Charlie\"\n",
    "\n",
    "name_2 = name_1\n",
    "\n",
    "name_1 += \" Dilly\"\n",
    "\n",
    "#There is not a copy functon for a string\n",
    "\n",
    "print(\"name_1 = \", name_1)\n",
    "print(\"name_2 = \", name_2)"
   ]
  },
  {
   "cell_type": "code",
   "execution_count": 92,
   "metadata": {},
   "outputs": [
    {
     "data": {
      "text/plain": [
       "[10, 2, 3]"
      ]
     },
     "execution_count": 92,
     "metadata": {},
     "output_type": "execute_result"
    },
    {
     "data": {
      "text/plain": [
       "[4, 5, 6]"
      ]
     },
     "execution_count": 92,
     "metadata": {},
     "output_type": "execute_result"
    },
    {
     "data": {
      "text/plain": [
       "[<function list.copy()>, <function list.copy()>]"
      ]
     },
     "execution_count": 92,
     "metadata": {},
     "output_type": "execute_result"
    }
   ],
   "source": [
    "L1 = [1,2,3]\n",
    "L2 = [4,5,6]\n",
    "L3 = [L1.copy,L2.copy] #missing parentheses for the copy function\n",
    "\n",
    "L1[0]= 10\n",
    "\n",
    "L1\n",
    "L2\n",
    "L3"
   ]
  },
  {
   "cell_type": "code",
   "execution_count": 93,
   "metadata": {},
   "outputs": [
    {
     "data": {
      "text/plain": [
       "[10, 2, 3]"
      ]
     },
     "execution_count": 93,
     "metadata": {},
     "output_type": "execute_result"
    },
    {
     "data": {
      "text/plain": [
       "[4, 5, 6]"
      ]
     },
     "execution_count": 93,
     "metadata": {},
     "output_type": "execute_result"
    },
    {
     "data": {
      "text/plain": [
       "[<function list.copy()>, <function list.copy()>]"
      ]
     },
     "execution_count": 93,
     "metadata": {},
     "output_type": "execute_result"
    }
   ],
   "source": [
    "L1 = [1,2,3]\n",
    "L2 = [4,5,6]\n",
    "L3 = [L1.copy,L2.copy]\n",
    "\n",
    "L1[0]= 10\n",
    "\n",
    "L1\n",
    "L2\n",
    "L3"
   ]
  },
  {
   "cell_type": "code",
   "execution_count": 94,
   "metadata": {},
   "outputs": [
    {
     "name": "stdout",
     "output_type": "stream",
     "text": [
      "[10, 2, 3]\n",
      "[11, 5, 6]\n",
      "[[1, 2, 3], [4, 5, 6]]\n"
     ]
    }
   ],
   "source": [
    "L1 = [1,2,3]\n",
    "L2 = [4,5,6]\n",
    "L3 = [L1.copy(),L2.copy()]\n",
    "\n",
    "L1[0]= 10\n",
    "L2[0]=11\n",
    "\n",
    "print(L1)\n",
    "print(L2)\n",
    "print(L3)"
   ]
  },
  {
   "cell_type": "code",
   "execution_count": 95,
   "metadata": {},
   "outputs": [
    {
     "name": "stdout",
     "output_type": "stream",
     "text": [
      "[10, 2, 3]\n",
      "[11, 5, 6]\n",
      "[[1, 2, 3], [4, 5, 6]]\n"
     ]
    }
   ],
   "source": [
    "L3 = []\n",
    "L1 = [1,2,3]\n",
    "L2 = [4,5,6]\n",
    "#L3 = [L1.copy,L2.copy]\n",
    "L1_C = L1.copy()\n",
    "L2_C = L2.copy()\n",
    "L3.append(L1_C)\n",
    "L3.append(L2_C)\n",
    "\n",
    "L1[0]= 10\n",
    "L2[0] = 11\n",
    "\n",
    "print(L1)\n",
    "print(L2)\n",
    "print(L3)"
   ]
  },
  {
   "cell_type": "markdown",
   "metadata": {},
   "source": [
    "# More Function Practice"
   ]
  },
  {
   "cell_type": "markdown",
   "metadata": {},
   "source": [
    "In this problem, you will implement the mathematically interesting Look-and-Say sequence:\n",
    "\n",
    "1, 11, 21, 1211, 111221, 312211, 13112221, ...\n",
    "\n",
    "Construct the following functions to accomplish out task\n",
    "\n",
    "1. **Parse_String(term)**: Takes in a term of the sequence as a string a returns a list of lists, which keeps track of the the numbers appearing from left to right and the number of times the element appears. So Parse_String('1211') should return [['1','1'], ['1','2'], ['2','1']] since there is \"one 1\", then \"one 2\" and then \"two 1s\".\n",
    "\n",
    "2. **Next_Term(term)**: Takes as input a term of the sequence as a string and return the next term in the sequence.  So Parse_String('1211') should return '111221'.  This function should call the function Parse_String.\n",
    "\n",
    "3. **Read_It(init,n)**: Given an initital term in the sequence that is init, print out the next n-1 terms (in for loop, you will call Next_Term function n-1 times here).\n",
    "\n",
    "For example, if we can use as init = '1211' , n = 4, we will repeat Next_Term function 3 (n-1) times as seen below. \n",
    "\n",
    "1: 111221\n",
    "\n",
    "2: 312211\n",
    "\n",
    "3: 13112221"
   ]
  },
  {
   "cell_type": "markdown",
   "metadata": {},
   "source": [
    "The Look-and-Say (Count-and-Say)\n",
    "\n",
    "1 — “One” 1 (which becomes the next number in the series)\n",
    "\n",
    "11 — “Two” 1\n",
    "\n",
    "21 — “One” 2, “one” 1\n",
    "\n",
    "1211 — “One” 1, “one” 2, “two” 1\n",
    "\n",
    "111221 — and so on and so forth…\n"
   ]
  },
  {
   "cell_type": "code",
   "execution_count": 38,
   "metadata": {},
   "outputs": [
    {
     "name": "stdout",
     "output_type": "stream",
     "text": [
      "[['1', '1'], ['1', '2'], ['2', '1']]\n"
     ]
    }
   ],
   "source": [
    "term = '1211'\n",
    "        \n",
    "def Parse_String(term):\n",
    "    \"\"\"Term is a term in the sequence inputted as a string.\n",
    "    You should return a lists of lists that will help you\n",
    "    get the next term in the sequence\"\"\"\n",
    "    \n",
    "    #Write your code here\n",
    "    final_list =[]\n",
    "    inner_list =[]\n",
    "    check_num = term[0]\n",
    "    count = 0\n",
    "    for i in range(len(term)):\n",
    "        if term[i] == check_num:\n",
    "            count +=1\n",
    "            if len(inner_list) == 0:\n",
    "                inner_list.append(count) \n",
    "            # first time we have to add up which number we are calculating.\n",
    "            if len(inner_list) ==1:\n",
    "                inner_list.append(term[i]) \n",
    "            else:\n",
    "                # if check_num already exists, we only need to update our count num, no need to add up the check_num again.\n",
    "                inner_list[0] = count\n",
    "        # if the check_num is different from the new evaluted number, we reset the check_num and recount the number of new check_num\n",
    "        else:\n",
    "            # before storing the inner_list into the final_list, we have to change the type of count into string type.\n",
    "            inner_list[0] =  str(inner_list[0])\n",
    "            # store the inner_list into final_list\n",
    "            final_list.append(inner_list)\n",
    "            # reset the inner_list\n",
    "            inner_list = []\n",
    "            # set the new check_num\n",
    "            check_num = term[i]\n",
    "            # new number recount\n",
    "            count = 1\n",
    "            # Append the new value into the inner_list\n",
    "            inner_list.append(count)\n",
    "            inner_list.append(check_num)\n",
    "\n",
    "    inner_list[0] =  str(inner_list[0])\n",
    "    final_list.append(inner_list)\n",
    "\n",
    "    \n",
    "    return final_list      \n",
    "    \n",
    "print(Parse_String(term))\n"
   ]
  },
  {
   "cell_type": "code",
   "execution_count": 39,
   "metadata": {},
   "outputs": [
    {
     "name": "stdout",
     "output_type": "stream",
     "text": [
      "['111221']\n"
     ]
    }
   ],
   "source": [
    "def Next_Term(term):\n",
    "    \n",
    "    \"\"\"Term is again a string.  This should return the\n",
    "    next term in the sequence.\"\"\"\n",
    "    # Write your code here\n",
    "#     nested_list= [['1', '1'], ['1', '2'], ['2', '1']]\n",
    "    nested_list= Parse_String(term)\n",
    "    temp_str =\"\"\n",
    "    final_list = []\n",
    "    for i in range(len(nested_list)):\n",
    "        for j in range(len(nested_list[0])):\n",
    "            temp_str = temp_str + nested_list[i][j]\n",
    "    final_list.append(temp_str)\n",
    "    \n",
    "    \n",
    "    return final_list\n",
    "\n",
    "print(Next_Term(term))\n"
   ]
  },
  {
   "cell_type": "code",
   "execution_count": 45,
   "metadata": {},
   "outputs": [
    {
     "data": {
      "text/plain": [
       "['111221', '312211', '13112221']"
      ]
     },
     "execution_count": 45,
     "metadata": {},
     "output_type": "execute_result"
    }
   ],
   "source": [
    "def Read_It(init,n):\n",
    "    ans_list =[]\n",
    "    \"\"\"Writes the first n terms given the initial terms init.\"\"\"\n",
    "    for i in range(n-1):\n",
    "        new_term = Next_Term(init)[0]\n",
    "        ans_list.append(new_term)\n",
    "        init = new_term\n",
    "        \n",
    "    return ans_list\n",
    "\n",
    "Read_It(term,4)"
   ]
  },
  {
   "cell_type": "markdown",
   "metadata": {},
   "source": [
    "String you functions together in the cell below.\n"
   ]
  },
  {
   "cell_type": "code",
   "execution_count": 48,
   "metadata": {},
   "outputs": [
    {
     "data": {
      "text/plain": [
       "['11', '21', '1211', '111221', '312211', '13112221']"
      ]
     },
     "execution_count": 48,
     "metadata": {},
     "output_type": "execute_result"
    }
   ],
   "source": [
    "#Write your code here.\n",
    "term = '1'\n",
    "Read_It(term,7)"
   ]
  },
  {
   "cell_type": "markdown",
   "metadata": {},
   "source": [
    "Get the jacard similarity beween movies and users: user_likes.txt is a text file which contains the likes data from user. The first line of the file contains the movie names. Each line of the file contains \"a user,a list of binary variables indicating whether one likes the movie.\" The binary is 1 if the user likes the movie and the variable is 0 if the user does not like or has not seen the movie. \n",
    "\n",
    "For example, the file of Jake and Dennis is:\n",
    "\n",
    "         Star Wars  Spiderman  Shell\n",
    "    Jake     1         0        0\n",
    "\n",
    "    Dennis   0         0        1\n",
    "\n",
    "And according to the wikipedia, the Jaccard similarity is (0) / (1 + 1) = 0\n",
    "\n",
    "**Your task** is to write a series of  functions and the final goal is to do movie recomendation (challenging).\n",
    "\n",
    "1. **Read_Input()**: Read in the input and generate a dictionary where the key is the name and the list is a vector of binary vectors representing whether someone has liked the movie or not. The previous example will give a dictionary like {\"Jake\": [1, 0, 0], \"Dennis\": [0, 0, 1]}. \n",
    "\n",
    "2. **Get_Names(preference)**: takes in the dictionary from the previous function and generate names of all players in a list.\n",
    "\n",
    "3. **Similarity(name_1, name_2, preference)**: This function takes in two names and generates the jaccard similarity of these two people. Jaccard similarity = the common liked movies / (the total number of liked unique moives across two persons).\n",
    "\n",
    "4. **Movie_Soul_Mate(name_1, preference)**: This function takes a person's name and generate the soul mate for this person (soul mate = the person with largest jaccard similarity)\n"
   ]
  },
  {
   "attachments": {
    "image-2.png": {
     "image/png": "[encoded data removed]"
    },
    "image.png": {
     "image/png": "[encoded data removed]"
    }
   },
   "cell_type": "markdown",
   "metadata": {},
   "source": [
    "## Jaccard Similarity of asymmetric binary attributes\n",
    "\n",
    "The Jaccard similarity index measures the similarity between two sets of data. It can range from 0 to 1. The higher the number, the more similar the two sets of data.\n",
    "\n",
    "In this problem, we want to cosndier a specific application of Jaccard similarity to asymmetric binary attributes.\n",
    "\n",
    "A binary attribute is an attribute that has only two states, and those two states are:\n",
    "\n",
    "0, meaning an attribute is not present\n",
    "\n",
    "1, meaning an attribute is present\n",
    "\n",
    "The asymmetry comes from the point that if both attributes are present (both equal to 1), it is considered more important, than if both attributes weren’t present (both equal to 0).\n",
    "\n",
    "Suppose we have two vectors, A and B, each with 𝑛 binary attributes.\n",
    "\n",
    "In this case, the Jaccard similarity (index) can be calculated as:\n",
    "\n",
    "The Jaccard similarity index is calculated as:\n",
    "\n",
    "![image.png](attachment:image.png)\n",
    "![image-2.png](attachment:image-2.png)"
   ]
  },
  {
   "attachments": {
    "image.png": {
     "image/png": "[encoded data removed]"
    }
   },
   "cell_type": "markdown",
   "metadata": {},
   "source": [
    "![image.png](attachment:image.png)"
   ]
  },
  {
   "cell_type": "code",
   "execution_count": 64,
   "metadata": {},
   "outputs": [
    {
     "name": "stdout",
     "output_type": "stream",
     "text": [
      "{'Zach Becker': ['0', '0', '0', '0', '0', '1', '1', '0', '0', '0'], 'Andrew Sweren': ['0', '0', '0', '0', '0', '0', '0', '1', '0', '0'], 'Sabrina Alexandre': ['1', '0', '1', '1', '1', '1', '1', '1', '1', '0'], 'Chris Gohlke': ['1', '0', '1', '1', '0', '1', '1', '0', '0', '0'], 'Jacob Halladay-Glynn': ['1', '0', '0', '0', '1', '1', '1', '1', '1', '1'], 'Carl': ['1', '0', '1', '1', '0', '1', '1', '0', '0', '0'], 'Lisa Qu': ['1', '1', '0', '1', '1', '1', '1', '0', '1', '0'], 'Amal': ['1', '0', '0', '1', '0', '1', '1', '0', '1', '0'], 'Audrey Freeman': ['1', '0', '0', '0', '1', '1', '0', '1', '1', '0'], 'Taylor Benard': ['0', '0', '0', '0', '1', '1', '1', '1', '1', '0'], 'Ryan Farhat-Sabet': ['0', '1', '1', '0', '0', '1', '0', '0', '0', '0'], 'Philip Katz': ['1', '1', '1', '1', '0', '1', '1', '1', '1', '1'], 'Rachael Sondag': ['0', '0', '0', '0', '0', '0', '0', '1', '1', '0'], 'Huayu Gao': ['1', '0', '0', '0', '1', '1', '1', '1', '1', '0'], 'Ally Portelance': ['1', '0', '1', '0', '0', '0', '1', '1', '1', '0'], 'Jordan Smith': ['1', '0', '0', '0', '1', '0', '0', '1', '1', '0'], 'Natalia Boettcher': ['0', '0', '0', '0', '0', '0', '0', '1', '1', '0'], 'Caroline Stocking': ['1', '0', '1', '0', '1', '0', '0', '1', '1', '0'], 'Perry Gordon': ['0', '0', '1', '1', '1', '1', '0', '1', '1', '0'], 'Anthony Cortese': ['0', '0', '1', '1', '0', '1', '1', '1', '0', '1'], 'Cameron White': ['1', '1', '1', '1', '1', '1', '0', '1', '1', '0'], 'Tara Robinson': ['0', '1', '1', '1', '1', '1', '1', '0', '1', '0'], 'Jerry Abah': ['1', '1', '1', '1', '1', '1', '1', '1', '0', '0'], 'Daniel Podolsky': ['1', '0', '0', '0', '0', '1', '1', '1', '1', '0'], 'Margot Dupuis': ['1', '0', '1', '0', '1', '1', '0', '0', '1', '1'], 'Betsy Morgan': ['1', '0', '0', '1', '1', '1', '0', '1', '1', '1'], 'Savannah Zhang': ['0', '0', '1', '0', '1', '1', '1', '1', '1', '0'], 'Charlie': ['0', '0', '1', '0', '0', '0', '1', '1', '1', '0'], 'Jeri Glicksman': ['1', '0', '0', '0', '1', '1', '0', '1', '1', '0'], 'Chris Detloff': ['1', '0', '1', '1', '0', '1', '0', '0', '1', '0'], 'Salih': ['1', '1', '0', '1', '1', '1', '1', '1', '1', '1']}\n"
     ]
    }
   ],
   "source": [
    "file_name = \"data/Movie_Preferences.csv\"\n",
    "\n",
    "def Read_Input(file_name):\n",
    "    final_dict = {}\n",
    "    \"\"\"Read the movie data, and return a preference dictionary.\"\"\"\n",
    "    with open(file_name,\"r\") as f:\n",
    "        first_line = True\n",
    "        for line in f:\n",
    "            if first_line:\n",
    "                first_line = False\n",
    "            else:\n",
    "                list=line.strip().split(\",\")\n",
    "                temp_list = []\n",
    "                for i in range(len(list)-2):\n",
    "                    temp_list.append(list[i+2])\n",
    "                final_dict[list[1]] = temp_list\n",
    "            \n",
    "            \n",
    "    return final_dict\n",
    "\n",
    "test_dict=Read_Input(file_name)\n",
    "print(test_dict)"
   ]
  },
  {
   "cell_type": "code",
   "execution_count": 63,
   "metadata": {},
   "outputs": [
    {
     "data": {
      "text/plain": [
       "['Zach Becker',\n",
       " 'Andrew Sweren',\n",
       " 'Sabrina Alexandre',\n",
       " 'Chris Gohlke',\n",
       " 'Jacob Halladay-Glynn',\n",
       " 'Carl',\n",
       " 'Lisa Qu',\n",
       " 'Amal',\n",
       " 'Audrey Freeman',\n",
       " 'Taylor Benard',\n",
       " 'Ryan Farhat-Sabet',\n",
       " 'Philip Katz',\n",
       " 'Rachael Sondag',\n",
       " 'Huayu Gao',\n",
       " 'Ally Portelance',\n",
       " 'Jordan Smith',\n",
       " 'Natalia Boettcher',\n",
       " 'Caroline Stocking',\n",
       " 'Perry Gordon',\n",
       " 'Anthony Cortese',\n",
       " 'Cameron White',\n",
       " 'Tara Robinson',\n",
       " 'Jerry Abah',\n",
       " 'Daniel Podolsky',\n",
       " 'Margot Dupuis',\n",
       " 'Betsy Morgan',\n",
       " 'Savannah Zhang',\n",
       " 'Charlie',\n",
       " 'Jeri Glicksman',\n",
       " 'Chris Detloff',\n",
       " 'Salih']"
      ]
     },
     "execution_count": 63,
     "metadata": {},
     "output_type": "execute_result"
    }
   ],
   "source": [
    "def Get_Names(preference):\n",
    "    players_list = []\n",
    "    \"\"\"Given a preference dictionary, get the names of all players.\"\"\"\n",
    "    players_list =list(preference.keys())\n",
    "    \n",
    "    return players_list\n",
    "\n",
    "Get_Names(test_dict)"
   ]
  },
  {
   "cell_type": "code",
   "execution_count": 80,
   "metadata": {},
   "outputs": [
    {
     "name": "stdout",
     "output_type": "stream",
     "text": [
      "0.6666666666666666\n"
     ]
    }
   ],
   "source": [
    "def Similarity(name_1, name_2, preference):\n",
    "    \"\"\"Given two names and preference, get the similarity between two people\"\"\"\n",
    "    list_1 = preference[name_1]\n",
    "    list_2 = preference[name_2]\n",
    "    count_similarity = 0\n",
    "    total_count = 0\n",
    "    for i in range(len(list_1)):\n",
    "        if list_1[i]==list_2[i] and int(list_1[i])==1:\n",
    "            count_similarity +=1\n",
    "        if int(list_1[i])==1 and int(list_2[i])==0:\n",
    "            total_count +=1\n",
    "        if int(list_2[i])==1 and int(list_1[i])==0:\n",
    "            total_count +=1\n",
    "        if list_1[i]==list_2[i] and int(list_1[i])==0:\n",
    "            total_count +=1\n",
    "#     print(count_similarity, total_count)\n",
    "    return count_similarity/total_count\n",
    "\n",
    "print(Similarity('Chris Detloff','Salih',test_dict))"
   ]
  },
  {
   "cell_type": "code",
   "execution_count": 86,
   "metadata": {},
   "outputs": [
    {
     "name": "stdout",
     "output_type": "stream",
     "text": [
      "Philip Katz\n"
     ]
    }
   ],
   "source": [
    "def movie_soul_mate(name_1, preference):\n",
    "    \"\"\"Given a name, get the player that has highest Jaccard similarity with this person.\"\"\"\n",
    "    name_list = Get_Names(preference)\n",
    "    max_value = 0\n",
    "    max_name = ''\n",
    "    for i in range(len(name_list)):\n",
    "        if name_list[i] != name_1:\n",
    "            temp_value= Similarity(name_1, name_list[i], preference)\n",
    "            if temp_value > max_value:\n",
    "                max_value = temp_value\n",
    "                max_name = name_list[i]\n",
    "\n",
    "    return max_name\n",
    "\n",
    "print(movie_soul_mate('Salih',test_dict))"
   ]
  },
  {
   "cell_type": "markdown",
   "metadata": {},
   "source": [
    "String your functions together in the cell below"
   ]
  },
  {
   "cell_type": "code",
   "execution_count": 87,
   "metadata": {},
   "outputs": [
    {
     "name": "stdout",
     "output_type": "stream",
     "text": [
      "Enter a name: Philip Katz\n"
     ]
    },
    {
     "data": {
      "text/plain": [
       "'Salih'"
      ]
     },
     "execution_count": 87,
     "metadata": {},
     "output_type": "execute_result"
    }
   ],
   "source": [
    "#Write your code here\n",
    "preference = Read_Input(file_name)\n",
    "name_1 = input(\"Enter a name: \")\n",
    "# name_1 = \"Philip Katz\"\n",
    "movie_soul_mate(name_1, preference)"
   ]
  },
  {
   "cell_type": "code",
   "execution_count": null,
   "metadata": {},
   "outputs": [],
   "source": []
  }
 ],
 "metadata": {
  "kernelspec": {
   "display_name": "Python 3 (ipykernel)",
   "language": "python",
   "name": "python3"
  },
  "language_info": {
   "codemirror_mode": {
    "name": "ipython",
    "version": 3
   },
   "file_extension": ".py",
   "mimetype": "text/x-python",
   "name": "python",
   "nbconvert_exporter": "python",
   "pygments_lexer": "ipython3",
   "version": "3.11.4"
  },
  "toc": {
   "colors": {
    "hover_highlight": "#DAA520",
    "navigate_num": "#000000",
    "navigate_text": "#333333",
    "running_highlight": "#FF0000",
    "selected_highlight": "#FFD700",
    "sidebar_border": "#EEEEEE",
    "wrapper_background": "#FFFFFF"
   },
   "moveMenuLeft": true,
   "nav_menu": {
    "height": "30px",
    "width": "252px"
   },
   "navigate_menu": true,
   "number_sections": true,
   "sideBar": true,
   "skip_h1_title": false,
   "threshold": 4,
   "toc_cell": false,
   "toc_position": {},
   "toc_section_display": "block",
   "toc_window_display": false,
   "widenNotebook": false
  }
 },
 "nbformat": 4,
 "nbformat_minor": 2
}
