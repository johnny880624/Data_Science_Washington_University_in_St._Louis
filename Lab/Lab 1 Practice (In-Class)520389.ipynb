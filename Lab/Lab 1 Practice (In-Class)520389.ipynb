{
 "cells": [
  {
   "cell_type": "markdown",
   "metadata": {},
   "source": [
    "Reminder: For each question below, provide solutions using your own and ChatGPT. To get the ChatGPT solution, copy the question, paste it into ChatGPT, and then share the resulting code. However, you must write the code independently when it comes to your own solution."
   ]
  },
  {
   "cell_type": "markdown",
   "metadata": {},
   "source": [
    "#  Numbers"
   ]
  },
  {
   "cell_type": "markdown",
   "metadata": {},
   "source": [
    "Compute the number of bytes in one Gigabyte (1kb = 1024 bytes, 1mb = 1024 kb, 1gb = 1024 mb)"
   ]
  },
  {
   "cell_type": "code",
   "execution_count": 5,
   "metadata": {},
   "outputs": [
    {
     "data": {
      "text/plain": [
       "1073741824"
      ]
     },
     "execution_count": 5,
     "metadata": {},
     "output_type": "execute_result"
    }
   ],
   "source": [
    "#Write your code here\n",
    "number_Gigabyte = 1024 **3\n",
    "number_Gigabyte\n",
    "\n",
    "\n"
   ]
  },
  {
   "cell_type": "code",
   "execution_count": 42,
   "metadata": {},
   "outputs": [
    {
     "name": "stdout",
     "output_type": "stream",
     "text": [
      "One gigabyte is equal to 1073741824 bytes.\n"
     ]
    }
   ],
   "source": [
    "#Paste ChatGPT code here\n",
    "# Define the conversion factors\n",
    "bytes_per_kilobyte = 1024\n",
    "kilobytes_per_megabyte = 1024\n",
    "megabytes_per_gigabyte = 1024\n",
    "\n",
    "# Compute the number of bytes in one gigabyte\n",
    "bytes_in_one_gigabyte = bytes_per_kilobyte * kilobytes_per_megabyte * megabytes_per_gigabyte\n",
    "\n",
    "# Print the result\n",
    "print(f\"One gigabyte is equal to {bytes_in_one_gigabyte} bytes.\")"
   ]
  },
  {
   "cell_type": "markdown",
   "metadata": {},
   "source": [
    "You bought 500 shares of stock A at 600 dollars (for share) on day 0 and you sold it at  1000 dollars on day 700.\n",
    "The daily discount rate is 0.0001 percent. How much profit did you make in terms of net present value.\n"
   ]
  },
  {
   "cell_type": "code",
   "execution_count": 47,
   "metadata": {},
   "outputs": [
    {
     "data": {
      "text/plain": [
       "199650.12264632783"
      ]
     },
     "execution_count": 47,
     "metadata": {},
     "output_type": "execute_result"
    }
   ],
   "source": [
    "#Write you code here\n",
    "cost = 500 * 600\n",
    "price_of_stock = 500 * 1000\n",
    "daily_discount_rate = 0.0001/100\n",
    "current_price = price_of_stock/((1+daily_discount_rate)**700)\n",
    "net_profit = current_price - cost\n",
    "net_profit\n",
    "\n"
   ]
  },
  {
   "cell_type": "code",
   "execution_count": 43,
   "metadata": {},
   "outputs": [
    {
     "name": "stdout",
     "output_type": "stream",
     "text": [
      "The profit in terms of Net Present Value (NPV) is $199650.12\n"
     ]
    }
   ],
   "source": [
    "#Paste ChatGPT code here\n",
    "# Constants\n",
    "initial_investment = 500 * 600  # 500 shares at $600 each\n",
    "future_revenue = 500 * 1000  # 500 shares at $1000 each\n",
    "daily_discount_rate = 0.0001 / 100  # Convert to decimal\n",
    "\n",
    "# Calculate the present value of the future revenue\n",
    "discounted_revenue = future_revenue / ((1 + daily_discount_rate) ** 700)\n",
    "\n",
    "# Calculate the profit in terms of NPV\n",
    "profit_npv = discounted_revenue - initial_investment\n",
    "\n",
    "# Print the result\n",
    "print(f\"The profit in terms of Net Present Value (NPV) is ${profit_npv:.2f}\")\n"
   ]
  },
  {
   "cell_type": "markdown",
   "metadata": {},
   "source": [
    "For any value of x, create a variable called even_check that is True if x is even and False if x is odd. "
   ]
  },
  {
   "cell_type": "code",
   "execution_count": 7,
   "metadata": {},
   "outputs": [
    {
     "name": "stdout",
     "output_type": "stream",
     "text": [
      "Enter a number:3\n"
     ]
    },
    {
     "data": {
      "text/plain": [
       "False"
      ]
     },
     "execution_count": 7,
     "metadata": {},
     "output_type": "execute_result"
    }
   ],
   "source": [
    "#Write you code here\n",
    "even_check = int(input(\"Enter a number:\"))\n",
    "even_check % 2 == 0\n",
    "    \n",
    "\n",
    "\n"
   ]
  },
  {
   "cell_type": "code",
   "execution_count": 1,
   "metadata": {},
   "outputs": [
    {
     "name": "stdout",
     "output_type": "stream",
     "text": [
      "True\n"
     ]
    }
   ],
   "source": [
    "#Paste ChatGPT code here\n",
    "x = 10  # Replace this with your desired value of x\n",
    "\n",
    "even_check = x % 2 == 0\n",
    "\n",
    "print(even_check)\n"
   ]
  },
  {
   "cell_type": "markdown",
   "metadata": {},
   "source": [
    "You have num_shirts t-shirts, num_weekday_warriors pairs of shorts and num_shoes shoes.  Create a variable called num_outfits that stores the total number of different outfits you can make."
   ]
  },
  {
   "cell_type": "code",
   "execution_count": 3,
   "metadata": {},
   "outputs": [
    {
     "name": "stdout",
     "output_type": "stream",
     "text": [
      "Enter the number of shirts: 3\n",
      "Enter the number of warriors: 2\n",
      "Enter the number of shoes: 4\n",
      "24\n"
     ]
    }
   ],
   "source": [
    "#Write your code here \n",
    "number_shirts = int(input(\"Enter the number of shirts: \")) \n",
    "num_weekday_warriors = int(input(\"Enter the number of warriors: \")) \n",
    "num_shoes = int(input(\"Enter the number of shoes: \")) \n",
    "combination = number_shirts * num_weekday_warriors * num_shoes\n",
    "print(combination)\n",
    "\n"
   ]
  },
  {
   "cell_type": "code",
   "execution_count": 49,
   "metadata": {},
   "outputs": [
    {
     "name": "stdout",
     "output_type": "stream",
     "text": [
      "You can create 60 different outfits.\n"
     ]
    }
   ],
   "source": [
    "#Paste ChatGPT code here\n",
    "num_shirts = 5  # Replace with the number of T-shirts you have\n",
    "num_weekday_warriors = 3  # Replace with the number of pairs of shorts you have\n",
    "num_shoes = 4  # Replace with the number of shoes you have\n",
    "\n",
    "# Calculate the total number of outfits\n",
    "num_outfits = num_shirts * num_weekday_warriors * num_shoes\n",
    "\n",
    "# Print the result\n",
    "print(f\"You can create {num_outfits} different outfits.\")\n"
   ]
  },
  {
   "cell_type": "markdown",
   "metadata": {},
   "source": [
    "# String Practice\n",
    "\n",
    "Create variable called \"name\" that stores your full name. Find whether your name has an even or odd number of letters."
   ]
  },
  {
   "cell_type": "code",
   "execution_count": null,
   "metadata": {},
   "outputs": [],
   "source": [
    "#Write your code here\n",
    "name = input(\"Enter your name:\")\n",
    "if len(name.replace(\" \", \"\")) % 2 == 0:\n",
    "    print(\"even\")\n",
    "else:\n",
    "    print(\"odd\")\n",
    "\n"
   ]
  },
  {
   "cell_type": "code",
   "execution_count": null,
   "metadata": {},
   "outputs": [],
   "source": [
    "#Paste ChatGPT code here\n",
    "name = \"John Doe\"  # Replace this with your full name\n",
    "\n",
    "# Remove spaces from the name to count only letters\n",
    "name_without_spaces = name.replace(\" \", \"\")\n",
    "\n",
    "# Check if the length of the name without spaces is even or odd\n",
    "is_even_length = len(name_without_spaces) % 2 == 0\n",
    "\n",
    "if is_even_length:\n",
    "    print(f\"{name} has an even number of letters.\")\n",
    "else:\n",
    "    print(f\"{name} has an odd number of letters.\")\n"
   ]
  },
  {
   "cell_type": "markdown",
   "metadata": {},
   "source": [
    "Correct the following variable so it is equal to \"spammy\""
   ]
  },
  {
   "cell_type": "code",
   "execution_count": 16,
   "metadata": {},
   "outputs": [
    {
     "data": {
      "text/plain": [
       "'spammy'"
      ]
     },
     "execution_count": 16,
     "metadata": {},
     "output_type": "execute_result"
    }
   ],
   "source": [
    "#Write your code here\n",
    "s = 'spaxxy'\n",
    "for i in range(len(s)):\n",
    "    if s[i] == \"x\":\n",
    "        s = s[:i] + \"m\" + s[i+1:]\n",
    "s\n",
    "        \n",
    "\n",
    "\n"
   ]
  },
  {
   "cell_type": "code",
   "execution_count": null,
   "metadata": {},
   "outputs": [],
   "source": [
    "#Paste ChatGPT code here\n",
    "s = 'spaxxy'\n",
    "s = s.replace('x', 'm')\n",
    "\n",
    "print(s)  # Output will be 'spammy'\n"
   ]
  },
  {
   "cell_type": "markdown",
   "metadata": {},
   "source": [
    "Figure out a way to slice and combine the strings s1, s2, and s3 so that the variable consec_ints = \"123456789\"."
   ]
  },
  {
   "cell_type": "code",
   "execution_count": 19,
   "metadata": {},
   "outputs": [
    {
     "data": {
      "text/plain": [
       "'123456789'"
      ]
     },
     "execution_count": 19,
     "metadata": {},
     "output_type": "execute_result"
    }
   ],
   "source": [
    "#Write you code here\n",
    "s1 = \"12345\"\n",
    "s2 = \"34567\"\n",
    "s3 = \"789\"\n",
    "\n",
    "consec_ints = s1[:2] + s2[:4] +s3\n",
    "consec_ints\n",
    "\n",
    "\n"
   ]
  },
  {
   "cell_type": "code",
   "execution_count": null,
   "metadata": {},
   "outputs": [],
   "source": [
    "#Paste ChatGPT code here\n",
    "s1 = \"13579\"\n",
    "s2 = \"2468\"\n",
    "s3 = \"123\"\n",
    "\n",
    "consec_ints = s3 + s2[1:3] + s1 + s2[0] + s3\n",
    "print(consec_ints)  # Output: \"123456789\"\n"
   ]
  },
  {
   "cell_type": "markdown",
   "metadata": {},
   "source": [
    "#  List Practice\n",
    "\n"
   ]
  },
  {
   "cell_type": "markdown",
   "metadata": {},
   "source": [
    "Add the first and last elements of the list L. Store the result in a variable called sum_first_last. Your code should work if I change L."
   ]
  },
  {
   "cell_type": "code",
   "execution_count": 23,
   "metadata": {},
   "outputs": [
    {
     "data": {
      "text/plain": [
       "[5, 1, 43, 2, 4, 56, 7, 90, 67, 5, 67]"
      ]
     },
     "execution_count": 23,
     "metadata": {},
     "output_type": "execute_result"
    }
   ],
   "source": [
    "#Write your code here\n",
    "L = [5,1,43,2,4,56,7,90,67]\n",
    "\n",
    "L.append(L[0])\n",
    "L.append(L[-2])\n",
    "L\n",
    "\n"
   ]
  },
  {
   "cell_type": "code",
   "execution_count": null,
   "metadata": {},
   "outputs": [],
   "source": [
    "#Paste ChatGPT code here\n",
    "L = [3, 7, 2, 8, 5]  # Replace this with your list\n",
    "\n",
    "if len(L) >= 2:\n",
    "    sum_first_last = L[0] + L[-1]\n",
    "else:\n",
    "    sum_first_last = None  # Handle the case when the list has less than two elements\n",
    "\n",
    "print(sum_first_last)\n"
   ]
  },
  {
   "cell_type": "markdown",
   "metadata": {},
   "source": [
    "Slice and combine the elements of the list L in a way to print out \"spam\"."
   ]
  },
  {
   "cell_type": "code",
   "execution_count": 28,
   "metadata": {},
   "outputs": [
    {
     "data": {
      "text/plain": [
       "'spam'"
      ]
     },
     "execution_count": 28,
     "metadata": {},
     "output_type": "execute_result"
    }
   ],
   "source": [
    "#Write your code here\n",
    "L = [1,\"s\", 2, 3, \"p\", \"a\", 34,1,\"m\", True]\n",
    "correct = \"spam\"\n",
    "ans = \"\"\n",
    "\n",
    "for ele in L:\n",
    "    ele = str(ele)\n",
    "    if ele in correct:\n",
    "       ans = ans + ele\n",
    "ans\n",
    "\n"
   ]
  },
  {
   "cell_type": "code",
   "execution_count": null,
   "metadata": {},
   "outputs": [],
   "source": [
    "#Paste ChatGPT code here\n",
    "L = [1, \"s\", 2, 3, \"p\", \"a\", 34, 1, \"m\", True]\n",
    "\n",
    "# Create a new list with the elements 's', 'p', 'a', and 'm'\n",
    "spam_list = [L[1], L[4], L[5], L[8]]\n",
    "\n",
    "# Use the join() method to concatenate the elements into a single string\n",
    "spam = ''.join(map(str, spam_list))\n",
    "\n",
    "print(spam)\n"
   ]
  },
  {
   "cell_type": "markdown",
   "metadata": {},
   "source": [
    "Create a variable called num_L which store the number represented by the list of strings in L.  For the example num_L should be 145. You may assume 3 digit numbers."
   ]
  },
  {
   "cell_type": "code",
   "execution_count": 31,
   "metadata": {},
   "outputs": [
    {
     "data": {
      "text/plain": [
       "145"
      ]
     },
     "execution_count": 31,
     "metadata": {},
     "output_type": "execute_result"
    }
   ],
   "source": [
    "#Write you code here\n",
    "L = [\"1\",\"4\",\"5\" ]\n",
    "ans = 0\n",
    "\n",
    "for i in range(len(L)):\n",
    "    if i ==0:\n",
    "        ans = ans + int(L[i])*100\n",
    "    elif i ==1:\n",
    "        ans = ans + int(L[i])*10\n",
    "    else:\n",
    "        ans = ans + int(L[i])\n",
    "ans\n",
    "    \n",
    "\n"
   ]
  },
  {
   "cell_type": "code",
   "execution_count": null,
   "metadata": {},
   "outputs": [],
   "source": [
    "#Paste ChatGPT code here\n",
    "L = [\"1\", \"4\", \"5\"]\n",
    "\n",
    "# Join the strings in the list and convert to an integer\n",
    "num_L = int(''.join(L))\n",
    "\n",
    "print(num_L)\n"
   ]
  },
  {
   "cell_type": "markdown",
   "metadata": {},
   "source": [
    "Create a list L of numbers of odd length.  Complete the following tasks:\n",
    "\n",
    " - Find the median element\n",
    " - Slice out all element indexed lower than the median element"
   ]
  },
  {
   "cell_type": "code",
   "execution_count": 39,
   "metadata": {},
   "outputs": [
    {
     "data": {
      "text/plain": [
       "5"
      ]
     },
     "execution_count": 39,
     "metadata": {},
     "output_type": "execute_result"
    }
   ],
   "source": [
    "#Write your code here\n",
    "L= [4,5,3,2,6,6,9]\n",
    "sorted_L = sorted(L)\n",
    "\n",
    "index_median = round(len(L)/2)-1\n",
    "\n",
    "sorted_L[index_median]\n",
    "\n"
   ]
  },
  {
   "cell_type": "code",
   "execution_count": null,
   "metadata": {},
   "outputs": [],
   "source": [
    "#Paste ChatGPT code here\n",
    "L = [4, 5, 3, 2, 6, 6, 9]\n",
    "\n",
    "# Step 1: Sort the list\n",
    "L.sort()\n",
    "\n",
    "# Step 2: Find the median\n",
    "length = len(L)\n",
    "if length % 2 == 1:  # If the length is odd\n",
    "    median = L[length // 2]\n",
    "else:  # If the length is even\n",
    "    middle1 = L[length // 2 - 1]\n",
    "    middle2 = L[length // 2]\n",
    "    median = (middle1 + middle2) / 2\n",
    "\n",
    "print(\"Median:\", median)\n"
   ]
  },
  {
   "cell_type": "code",
   "execution_count": 40,
   "metadata": {},
   "outputs": [
    {
     "data": {
      "text/plain": [
       "[2, 3, 4]"
      ]
     },
     "execution_count": 40,
     "metadata": {},
     "output_type": "execute_result"
    }
   ],
   "source": [
    "#Write your code here\n",
    "sorted_L[:index_median]"
   ]
  },
  {
   "cell_type": "code",
   "execution_count": 32,
   "metadata": {},
   "outputs": [],
   "source": [
    "L = [4, 5, 3, 2, 6, 6, 9]\n",
    "\n",
    "# Step 1: Find the median\n",
    "L.sort()\n",
    "length = len(L)\n",
    "if length % 2 == 1:  # If the length is odd\n",
    "    median = L[length // 2]\n",
    "else:  # If the length is even\n",
    "    middle1 = L[length // 2 - 1]\n",
    "    middle2 = L[length // 2]\n",
    "    median = (middle1 + middle2) / 2\n",
    "\n",
    "# Step 2: Slice out elements lower than the median\n",
    "result = L[:L.index(median)]\n",
    "\n",
    "print(\"Elements lower than the median:\", result)\n"
   ]
  }
 ],
 "metadata": {
  "kernelspec": {
   "display_name": "Python 3 (ipykernel)",
   "language": "python",
   "name": "python3"
  },
  "language_info": {
   "codemirror_mode": {
    "name": "ipython",
    "version": 3
   },
   "file_extension": ".py",
   "mimetype": "text/x-python",
   "name": "python",
   "nbconvert_exporter": "python",
   "pygments_lexer": "ipython3",
   "version": "3.11.4"
  },
  "toc": {
   "colors": {
    "hover_highlight": "#DAA520",
    "navigate_num": "#000000",
    "navigate_text": "#333333",
    "running_highlight": "#FF0000",
    "selected_highlight": "#FFD700",
    "sidebar_border": "#EEEEEE",
    "wrapper_background": "#FFFFFF"
   },
   "moveMenuLeft": true,
   "nav_menu": {
    "height": "12px",
    "width": "252px"
   },
   "navigate_menu": true,
   "number_sections": true,
   "sideBar": true,
   "skip_h1_title": false,
   "threshold": 4,
   "toc_cell": false,
   "toc_position": {},
   "toc_section_display": "block",
   "toc_window_display": false,
   "widenNotebook": false
  }
 },
 "nbformat": 4,
 "nbformat_minor": 2
}
