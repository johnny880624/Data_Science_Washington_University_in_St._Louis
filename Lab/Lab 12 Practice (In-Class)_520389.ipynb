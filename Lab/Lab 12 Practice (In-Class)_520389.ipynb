{
 "cells": [
  {
   "cell_type": "markdown",
   "metadata": {},
   "source": [
    "# Practice with Joins\n",
    "\n",
    "Use pandas SQL (pandasql and pysqldf) or join function for this practice exercises."
   ]
  },
  {
   "cell_type": "markdown",
   "metadata": {
    "collapsed": true
   },
   "source": [
    "Run the cells below to create the following dataframes."
   ]
  },
  {
   "cell_type": "markdown",
   "metadata": {},
   "source": [
    "df_purchases contains information on various customer purchases."
   ]
  },
  {
   "cell_type": "code",
   "execution_count": 5,
   "metadata": {},
   "outputs": [
    {
     "data": {
      "text/html": [
       "<div>\n",
       "<style scoped>\n",
       "    .dataframe tbody tr th:only-of-type {\n",
       "        vertical-align: middle;\n",
       "    }\n",
       "\n",
       "    .dataframe tbody tr th {\n",
       "        vertical-align: top;\n",
       "    }\n",
       "\n",
       "    .dataframe thead th {\n",
       "        text-align: right;\n",
       "    }\n",
       "</style>\n",
       "<table border=\"1\" class=\"dataframe\">\n",
       "  <thead>\n",
       "    <tr style=\"text-align: right;\">\n",
       "      <th></th>\n",
       "      <th>Name</th>\n",
       "      <th>Item_Purchased</th>\n",
       "    </tr>\n",
       "  </thead>\n",
       "  <tbody>\n",
       "    <tr>\n",
       "      <th>0</th>\n",
       "      <td>Jake</td>\n",
       "      <td>Ball</td>\n",
       "    </tr>\n",
       "    <tr>\n",
       "      <th>1</th>\n",
       "      <td>Joe</td>\n",
       "      <td>Shirt</td>\n",
       "    </tr>\n",
       "    <tr>\n",
       "      <th>2</th>\n",
       "      <td>Ellen</td>\n",
       "      <td>Shoes</td>\n",
       "    </tr>\n",
       "    <tr>\n",
       "      <th>3</th>\n",
       "      <td>Joe</td>\n",
       "      <td>Ball</td>\n",
       "    </tr>\n",
       "    <tr>\n",
       "      <th>4</th>\n",
       "      <td>Ellen</td>\n",
       "      <td>Shirt</td>\n",
       "    </tr>\n",
       "  </tbody>\n",
       "</table>\n",
       "</div>"
      ],
      "text/plain": [
       "    Name Item_Purchased\n",
       "0   Jake           Ball\n",
       "1    Joe          Shirt\n",
       "2  Ellen          Shoes\n",
       "3    Joe           Ball\n",
       "4  Ellen          Shirt"
      ]
     },
     "execution_count": 5,
     "metadata": {},
     "output_type": "execute_result"
    }
   ],
   "source": [
    "# !pip install pandasql\n",
    "\n",
    "import pandas as pd\n",
    "from pandasql import sqldf\n",
    "\n",
    "names = [\"Jake\", \"Joe\", \"Ellen\", \"Joe\", \"Ellen\"]\n",
    "item = [\"Ball\", \"Shirt\", \"Shoes\", \"Ball\", \"Shirt\"]\n",
    "\n",
    "df_purchases = pd.DataFrame({\"Name\": names, \"Item_Purchased\": item} )\n",
    "                    \n",
    "df_purchases"
   ]
  },
  {
   "cell_type": "markdown",
   "metadata": {},
   "source": [
    "df_items contains information on the prices of each item."
   ]
  },
  {
   "cell_type": "code",
   "execution_count": 6,
   "metadata": {},
   "outputs": [
    {
     "data": {
      "text/html": [
       "<div>\n",
       "<style scoped>\n",
       "    .dataframe tbody tr th:only-of-type {\n",
       "        vertical-align: middle;\n",
       "    }\n",
       "\n",
       "    .dataframe tbody tr th {\n",
       "        vertical-align: top;\n",
       "    }\n",
       "\n",
       "    .dataframe thead th {\n",
       "        text-align: right;\n",
       "    }\n",
       "</style>\n",
       "<table border=\"1\" class=\"dataframe\">\n",
       "  <thead>\n",
       "    <tr style=\"text-align: right;\">\n",
       "      <th></th>\n",
       "      <th>Item</th>\n",
       "      <th>Price</th>\n",
       "    </tr>\n",
       "  </thead>\n",
       "  <tbody>\n",
       "    <tr>\n",
       "      <th>0</th>\n",
       "      <td>Ball</td>\n",
       "      <td>10</td>\n",
       "    </tr>\n",
       "    <tr>\n",
       "      <th>1</th>\n",
       "      <td>Shirt</td>\n",
       "      <td>15</td>\n",
       "    </tr>\n",
       "    <tr>\n",
       "      <th>2</th>\n",
       "      <td>Shoes</td>\n",
       "      <td>75</td>\n",
       "    </tr>\n",
       "  </tbody>\n",
       "</table>\n",
       "</div>"
      ],
      "text/plain": [
       "    Item  Price\n",
       "0   Ball     10\n",
       "1  Shirt     15\n",
       "2  Shoes     75"
      ]
     },
     "execution_count": 6,
     "metadata": {},
     "output_type": "execute_result"
    }
   ],
   "source": [
    "item = [\"Ball\", \"Shirt\", \"Shoes\"]\n",
    "price = [10,15,75]\n",
    "\n",
    "df_items = pd.DataFrame({\"Item\": item, \"Price\":price})\n",
    "\n",
    "df_items"
   ]
  },
  {
   "cell_type": "markdown",
   "metadata": {},
   "source": [
    "df_customer contained information on the customers "
   ]
  },
  {
   "cell_type": "code",
   "execution_count": 16,
   "metadata": {},
   "outputs": [
    {
     "data": {
      "text/html": [
       "<div>\n",
       "<style scoped>\n",
       "    .dataframe tbody tr th:only-of-type {\n",
       "        vertical-align: middle;\n",
       "    }\n",
       "\n",
       "    .dataframe tbody tr th {\n",
       "        vertical-align: top;\n",
       "    }\n",
       "\n",
       "    .dataframe thead th {\n",
       "        text-align: right;\n",
       "    }\n",
       "</style>\n",
       "<table border=\"1\" class=\"dataframe\">\n",
       "  <thead>\n",
       "    <tr style=\"text-align: right;\">\n",
       "      <th></th>\n",
       "      <th>Allowance</th>\n",
       "      <th>Customers</th>\n",
       "    </tr>\n",
       "  </thead>\n",
       "  <tbody>\n",
       "    <tr>\n",
       "      <th>0</th>\n",
       "      <td>15</td>\n",
       "      <td>Jake</td>\n",
       "    </tr>\n",
       "    <tr>\n",
       "      <th>1</th>\n",
       "      <td>12</td>\n",
       "      <td>Joe</td>\n",
       "    </tr>\n",
       "    <tr>\n",
       "      <th>2</th>\n",
       "      <td>85</td>\n",
       "      <td>Ellen</td>\n",
       "    </tr>\n",
       "  </tbody>\n",
       "</table>\n",
       "</div>"
      ],
      "text/plain": [
       "   Allowance Customers\n",
       "0         15      Jake\n",
       "1         12       Joe\n",
       "2         85     Ellen"
      ]
     },
     "execution_count": 16,
     "metadata": {},
     "output_type": "execute_result"
    }
   ],
   "source": [
    "customers = [\"Jake\", \"Joe\", \"Ellen\"]\n",
    "allowance = [15, 12, 85]\n",
    "\n",
    "df_customers = pd.DataFrame({\"Allowance\":allowance, \"Customers\":customers})\n",
    "\n",
    "df_customers"
   ]
  },
  {
   "cell_type": "markdown",
   "metadata": {},
   "source": [
    "**Question 1:** Write a query that selects all purchases made from the customer stored in the variable customer name"
   ]
  },
  {
   "cell_type": "code",
   "execution_count": 14,
   "metadata": {},
   "outputs": [
    {
     "data": {
      "text/html": [
       "<div>\n",
       "<style scoped>\n",
       "    .dataframe tbody tr th:only-of-type {\n",
       "        vertical-align: middle;\n",
       "    }\n",
       "\n",
       "    .dataframe tbody tr th {\n",
       "        vertical-align: top;\n",
       "    }\n",
       "\n",
       "    .dataframe thead th {\n",
       "        text-align: right;\n",
       "    }\n",
       "</style>\n",
       "<table border=\"1\" class=\"dataframe\">\n",
       "  <thead>\n",
       "    <tr style=\"text-align: right;\">\n",
       "      <th></th>\n",
       "      <th>Name</th>\n",
       "      <th>Item_Purchased</th>\n",
       "    </tr>\n",
       "  </thead>\n",
       "  <tbody>\n",
       "    <tr>\n",
       "      <th>0</th>\n",
       "      <td>Jake</td>\n",
       "      <td>Ball</td>\n",
       "    </tr>\n",
       "    <tr>\n",
       "      <th>1</th>\n",
       "      <td>Joe</td>\n",
       "      <td>Shirt</td>\n",
       "    </tr>\n",
       "    <tr>\n",
       "      <th>2</th>\n",
       "      <td>Ellen</td>\n",
       "      <td>Shoes</td>\n",
       "    </tr>\n",
       "    <tr>\n",
       "      <th>3</th>\n",
       "      <td>Joe</td>\n",
       "      <td>Ball</td>\n",
       "    </tr>\n",
       "    <tr>\n",
       "      <th>4</th>\n",
       "      <td>Ellen</td>\n",
       "      <td>Shirt</td>\n",
       "    </tr>\n",
       "  </tbody>\n",
       "</table>\n",
       "</div>"
      ],
      "text/plain": [
       "    Name Item_Purchased\n",
       "0   Jake           Ball\n",
       "1    Joe          Shirt\n",
       "2  Ellen          Shoes\n",
       "3    Joe           Ball\n",
       "4  Ellen          Shirt"
      ]
     },
     "execution_count": 14,
     "metadata": {},
     "output_type": "execute_result"
    }
   ],
   "source": [
    "\n",
    "customer_name = [\"Jake\", \"Joe\", \"Ellen\", \"Joe\", \"Ellen\"]  \n",
    "names_tuple = tuple(customer_names)\n",
    "query = f\"SELECT * FROM df_purchases WHERE Name IN {names_tuple};\"\n",
    "purchases_of_customer = sqldf(query, globals())\n",
    "purchases_of_customer"
   ]
  },
  {
   "cell_type": "markdown",
   "metadata": {},
   "source": [
    "**Question 2:** Write a query that selects all items priced above threshold_price."
   ]
  },
  {
   "cell_type": "code",
   "execution_count": 15,
   "metadata": {},
   "outputs": [
    {
     "name": "stdout",
     "output_type": "stream",
     "text": [
      "    Item  Price\n",
      "0  Shirt     15\n",
      "1  Shoes     75\n"
     ]
    }
   ],
   "source": [
    "#Write your code here\n",
    "threshold_price = 10  \n",
    "query = f\"SELECT * FROM df_items WHERE Price > {threshold_price};\"\n",
    "items_above_threshold = sqldf(query, globals())\n",
    "print(items_above_threshold)"
   ]
  },
  {
   "cell_type": "markdown",
   "metadata": {},
   "source": [
    "**Question 3:** How many customers went over their allowance?"
   ]
  },
  {
   "cell_type": "markdown",
   "metadata": {},
   "source": [
    "Create df_1, which is df_purchases with an additional column that gives the price of each item"
   ]
  },
  {
   "cell_type": "code",
   "execution_count": 17,
   "metadata": {},
   "outputs": [
    {
     "data": {
      "text/html": [
       "<div>\n",
       "<style scoped>\n",
       "    .dataframe tbody tr th:only-of-type {\n",
       "        vertical-align: middle;\n",
       "    }\n",
       "\n",
       "    .dataframe tbody tr th {\n",
       "        vertical-align: top;\n",
       "    }\n",
       "\n",
       "    .dataframe thead th {\n",
       "        text-align: right;\n",
       "    }\n",
       "</style>\n",
       "<table border=\"1\" class=\"dataframe\">\n",
       "  <thead>\n",
       "    <tr style=\"text-align: right;\">\n",
       "      <th></th>\n",
       "      <th>Name</th>\n",
       "      <th>Item_Purchased</th>\n",
       "      <th>Price</th>\n",
       "    </tr>\n",
       "  </thead>\n",
       "  <tbody>\n",
       "    <tr>\n",
       "      <th>0</th>\n",
       "      <td>Jake</td>\n",
       "      <td>Ball</td>\n",
       "      <td>10</td>\n",
       "    </tr>\n",
       "    <tr>\n",
       "      <th>1</th>\n",
       "      <td>Joe</td>\n",
       "      <td>Ball</td>\n",
       "      <td>10</td>\n",
       "    </tr>\n",
       "    <tr>\n",
       "      <th>2</th>\n",
       "      <td>Joe</td>\n",
       "      <td>Shirt</td>\n",
       "      <td>15</td>\n",
       "    </tr>\n",
       "    <tr>\n",
       "      <th>3</th>\n",
       "      <td>Ellen</td>\n",
       "      <td>Shirt</td>\n",
       "      <td>15</td>\n",
       "    </tr>\n",
       "    <tr>\n",
       "      <th>4</th>\n",
       "      <td>Ellen</td>\n",
       "      <td>Shoes</td>\n",
       "      <td>75</td>\n",
       "    </tr>\n",
       "  </tbody>\n",
       "</table>\n",
       "</div>"
      ],
      "text/plain": [
       "    Name Item_Purchased  Price\n",
       "0   Jake           Ball     10\n",
       "1    Joe           Ball     10\n",
       "2    Joe          Shirt     15\n",
       "3  Ellen          Shirt     15\n",
       "4  Ellen          Shoes     75"
      ]
     },
     "execution_count": 17,
     "metadata": {},
     "output_type": "execute_result"
    }
   ],
   "source": [
    "#Write your code here\n",
    "df_1 = pd.merge(df_purchases, df_items, left_on='Item_Purchased', right_on='Item')\n",
    "df_1.drop('Item', axis=1, inplace=True)\n",
    "df_1"
   ]
  },
  {
   "cell_type": "markdown",
   "metadata": {},
   "source": [
    "Create df_2, which stores the total amount that each person spent."
   ]
  },
  {
   "cell_type": "code",
   "execution_count": 18,
   "metadata": {},
   "outputs": [
    {
     "data": {
      "text/html": [
       "<div>\n",
       "<style scoped>\n",
       "    .dataframe tbody tr th:only-of-type {\n",
       "        vertical-align: middle;\n",
       "    }\n",
       "\n",
       "    .dataframe tbody tr th {\n",
       "        vertical-align: top;\n",
       "    }\n",
       "\n",
       "    .dataframe thead th {\n",
       "        text-align: right;\n",
       "    }\n",
       "</style>\n",
       "<table border=\"1\" class=\"dataframe\">\n",
       "  <thead>\n",
       "    <tr style=\"text-align: right;\">\n",
       "      <th></th>\n",
       "      <th>Price</th>\n",
       "    </tr>\n",
       "    <tr>\n",
       "      <th>Name</th>\n",
       "      <th></th>\n",
       "    </tr>\n",
       "  </thead>\n",
       "  <tbody>\n",
       "    <tr>\n",
       "      <th>Ellen</th>\n",
       "      <td>90</td>\n",
       "    </tr>\n",
       "    <tr>\n",
       "      <th>Jake</th>\n",
       "      <td>10</td>\n",
       "    </tr>\n",
       "    <tr>\n",
       "      <th>Joe</th>\n",
       "      <td>25</td>\n",
       "    </tr>\n",
       "  </tbody>\n",
       "</table>\n",
       "</div>"
      ],
      "text/plain": [
       "       Price\n",
       "Name        \n",
       "Ellen     90\n",
       "Jake      10\n",
       "Joe       25"
      ]
     },
     "execution_count": 18,
     "metadata": {},
     "output_type": "execute_result"
    }
   ],
   "source": [
    "#Write your code here\n",
    "df_2 =  df_1.groupby(\"Name\").agg({\"Price\":\"sum\"})\n",
    "df_2"
   ]
  },
  {
   "cell_type": "markdown",
   "metadata": {},
   "source": [
    "Created df_3, which adds each person't allowance to df_2"
   ]
  },
  {
   "cell_type": "code",
   "execution_count": 19,
   "metadata": {},
   "outputs": [
    {
     "data": {
      "text/html": [
       "<div>\n",
       "<style scoped>\n",
       "    .dataframe tbody tr th:only-of-type {\n",
       "        vertical-align: middle;\n",
       "    }\n",
       "\n",
       "    .dataframe tbody tr th {\n",
       "        vertical-align: top;\n",
       "    }\n",
       "\n",
       "    .dataframe thead th {\n",
       "        text-align: right;\n",
       "    }\n",
       "</style>\n",
       "<table border=\"1\" class=\"dataframe\">\n",
       "  <thead>\n",
       "    <tr style=\"text-align: right;\">\n",
       "      <th></th>\n",
       "      <th>index</th>\n",
       "      <th>Price</th>\n",
       "      <th>Allowance</th>\n",
       "      <th>Customers</th>\n",
       "    </tr>\n",
       "  </thead>\n",
       "  <tbody>\n",
       "    <tr>\n",
       "      <th>0</th>\n",
       "      <td>2</td>\n",
       "      <td>90</td>\n",
       "      <td>85</td>\n",
       "      <td>Ellen</td>\n",
       "    </tr>\n",
       "    <tr>\n",
       "      <th>1</th>\n",
       "      <td>0</td>\n",
       "      <td>10</td>\n",
       "      <td>15</td>\n",
       "      <td>Jake</td>\n",
       "    </tr>\n",
       "    <tr>\n",
       "      <th>2</th>\n",
       "      <td>1</td>\n",
       "      <td>25</td>\n",
       "      <td>12</td>\n",
       "      <td>Joe</td>\n",
       "    </tr>\n",
       "  </tbody>\n",
       "</table>\n",
       "</div>"
      ],
      "text/plain": [
       "   index  Price  Allowance Customers\n",
       "0      2     90         85     Ellen\n",
       "1      0     10         15      Jake\n",
       "2      1     25         12       Joe"
      ]
     },
     "execution_count": 19,
     "metadata": {},
     "output_type": "execute_result"
    }
   ],
   "source": [
    "#Write your code here\n",
    "df_3 = pd.merge(df_2, df_customers, left_index=True, right_on='Customers').reset_index()\n",
    "df_3"
   ]
  },
  {
   "cell_type": "markdown",
   "metadata": {},
   "source": [
    "Add a column to df_3 which tells whether or not they went over their allowance or not."
   ]
  },
  {
   "cell_type": "code",
   "execution_count": 20,
   "metadata": {},
   "outputs": [
    {
     "data": {
      "text/html": [
       "<div>\n",
       "<style scoped>\n",
       "    .dataframe tbody tr th:only-of-type {\n",
       "        vertical-align: middle;\n",
       "    }\n",
       "\n",
       "    .dataframe tbody tr th {\n",
       "        vertical-align: top;\n",
       "    }\n",
       "\n",
       "    .dataframe thead th {\n",
       "        text-align: right;\n",
       "    }\n",
       "</style>\n",
       "<table border=\"1\" class=\"dataframe\">\n",
       "  <thead>\n",
       "    <tr style=\"text-align: right;\">\n",
       "      <th></th>\n",
       "      <th>index</th>\n",
       "      <th>Price</th>\n",
       "      <th>Allowance</th>\n",
       "      <th>Customers</th>\n",
       "      <th>Over_Allowance</th>\n",
       "    </tr>\n",
       "  </thead>\n",
       "  <tbody>\n",
       "    <tr>\n",
       "      <th>0</th>\n",
       "      <td>2</td>\n",
       "      <td>90</td>\n",
       "      <td>85</td>\n",
       "      <td>Ellen</td>\n",
       "      <td>True</td>\n",
       "    </tr>\n",
       "    <tr>\n",
       "      <th>1</th>\n",
       "      <td>0</td>\n",
       "      <td>10</td>\n",
       "      <td>15</td>\n",
       "      <td>Jake</td>\n",
       "      <td>False</td>\n",
       "    </tr>\n",
       "    <tr>\n",
       "      <th>2</th>\n",
       "      <td>1</td>\n",
       "      <td>25</td>\n",
       "      <td>12</td>\n",
       "      <td>Joe</td>\n",
       "      <td>True</td>\n",
       "    </tr>\n",
       "  </tbody>\n",
       "</table>\n",
       "</div>"
      ],
      "text/plain": [
       "   index  Price  Allowance Customers  Over_Allowance\n",
       "0      2     90         85     Ellen            True\n",
       "1      0     10         15      Jake           False\n",
       "2      1     25         12       Joe            True"
      ]
     },
     "execution_count": 20,
     "metadata": {},
     "output_type": "execute_result"
    }
   ],
   "source": [
    "#Write your code here\n",
    "df_3[\"Over_Allowance\"] = df_3[\"Allowance\"] - df_3[\"Price\"] < 0\n",
    "df_3"
   ]
  },
  {
   "cell_type": "markdown",
   "metadata": {},
   "source": [
    "Compute how many people went over."
   ]
  },
  {
   "cell_type": "code",
   "execution_count": 21,
   "metadata": {},
   "outputs": [
    {
     "data": {
      "text/plain": [
       "2"
      ]
     },
     "execution_count": 21,
     "metadata": {},
     "output_type": "execute_result"
    }
   ],
   "source": [
    "sum(df_3[\"Over_Allowance\"])"
   ]
  },
  {
   "cell_type": "markdown",
   "metadata": {},
   "source": [
    "# Scoot Data Set"
   ]
  },
  {
   "cell_type": "markdown",
   "metadata": {},
   "source": [
    "Use SQL (pandasql and pysqldf) to create a data frame df_travel that has three columns: trip_time, trip_dist, avg_speed (= trip_dist/trip_time)."
   ]
  },
  {
   "cell_type": "markdown",
   "metadata": {},
   "source": [
    "Import all necessary packages and read in the scoot data frame below."
   ]
  },
  {
   "cell_type": "code",
   "execution_count": 23,
   "metadata": {},
   "outputs": [],
   "source": [
    "#Write your code here\n",
    "df = pd.read_csv(\"data/Scoot_Data/Ride_Customer_Info.csv\")"
   ]
  },
  {
   "cell_type": "code",
   "execution_count": 33,
   "metadata": {},
   "outputs": [
    {
     "data": {
      "text/html": [
       "<div>\n",
       "<style scoped>\n",
       "    .dataframe tbody tr th:only-of-type {\n",
       "        vertical-align: middle;\n",
       "    }\n",
       "\n",
       "    .dataframe tbody tr th {\n",
       "        vertical-align: top;\n",
       "    }\n",
       "\n",
       "    .dataframe thead th {\n",
       "        text-align: right;\n",
       "    }\n",
       "</style>\n",
       "<table border=\"1\" class=\"dataframe\">\n",
       "  <thead>\n",
       "    <tr style=\"text-align: right;\">\n",
       "      <th></th>\n",
       "      <th>ride_id</th>\n",
       "      <th>trip_time</th>\n",
       "      <th>trip_dist</th>\n",
       "      <th>plan_id</th>\n",
       "      <th>hr_start</th>\n",
       "      <th>dow</th>\n",
       "      <th>time_slot</th>\n",
       "      <th>batt_perc</th>\n",
       "      <th>dist_h</th>\n",
       "      <th>price</th>\n",
       "      <th>start_location_id</th>\n",
       "      <th>lat</th>\n",
       "      <th>lng</th>\n",
       "      <th>end_location_id</th>\n",
       "      <th>lat.1</th>\n",
       "      <th>lng.1</th>\n",
       "      <th>avg_speed</th>\n",
       "    </tr>\n",
       "  </thead>\n",
       "  <tbody>\n",
       "    <tr>\n",
       "      <th>0</th>\n",
       "      <td>211870</td>\n",
       "      <td>11.336693</td>\n",
       "      <td>3.0</td>\n",
       "      <td>Pro</td>\n",
       "      <td>0</td>\n",
       "      <td>1</td>\n",
       "      <td>0</td>\n",
       "      <td>0.361143</td>\n",
       "      <td>0.287168</td>\n",
       "      <td>2.0</td>\n",
       "      <td>104</td>\n",
       "      <td>37.794700</td>\n",
       "      <td>-122.410960</td>\n",
       "      <td>56</td>\n",
       "      <td>37.771578</td>\n",
       "      <td>-122.442181</td>\n",
       "      <td>0.264627</td>\n",
       "    </tr>\n",
       "    <tr>\n",
       "      <th>1</th>\n",
       "      <td>211871</td>\n",
       "      <td>36.616880</td>\n",
       "      <td>2.0</td>\n",
       "      <td>Pro</td>\n",
       "      <td>0</td>\n",
       "      <td>1</td>\n",
       "      <td>0</td>\n",
       "      <td>0.979784</td>\n",
       "      <td>0.080456</td>\n",
       "      <td>4.0</td>\n",
       "      <td>21</td>\n",
       "      <td>37.775606</td>\n",
       "      <td>-122.416976</td>\n",
       "      <td>42</td>\n",
       "      <td>37.749810</td>\n",
       "      <td>-122.431790</td>\n",
       "      <td>0.054620</td>\n",
       "    </tr>\n",
       "    <tr>\n",
       "      <th>2</th>\n",
       "      <td>211885</td>\n",
       "      <td>17.900736</td>\n",
       "      <td>3.6</td>\n",
       "      <td>Go</td>\n",
       "      <td>4</td>\n",
       "      <td>1</td>\n",
       "      <td>0</td>\n",
       "      <td>0.500000</td>\n",
       "      <td>0.019225</td>\n",
       "      <td>3.0</td>\n",
       "      <td>90</td>\n",
       "      <td>37.784174</td>\n",
       "      <td>-122.480460</td>\n",
       "      <td>9</td>\n",
       "      <td>37.791758</td>\n",
       "      <td>-122.404929</td>\n",
       "      <td>0.201109</td>\n",
       "    </tr>\n",
       "    <tr>\n",
       "      <th>3</th>\n",
       "      <td>211890</td>\n",
       "      <td>15.330679</td>\n",
       "      <td>3.2</td>\n",
       "      <td>Other</td>\n",
       "      <td>5</td>\n",
       "      <td>1</td>\n",
       "      <td>1</td>\n",
       "      <td>0.897714</td>\n",
       "      <td>0.119214</td>\n",
       "      <td>3.0</td>\n",
       "      <td>97</td>\n",
       "      <td>37.804907</td>\n",
       "      <td>-122.441988</td>\n",
       "      <td>26</td>\n",
       "      <td>37.791638</td>\n",
       "      <td>-122.391761</td>\n",
       "      <td>0.208732</td>\n",
       "    </tr>\n",
       "    <tr>\n",
       "      <th>4</th>\n",
       "      <td>211894</td>\n",
       "      <td>138.113334</td>\n",
       "      <td>5.3</td>\n",
       "      <td>Other</td>\n",
       "      <td>6</td>\n",
       "      <td>1</td>\n",
       "      <td>1</td>\n",
       "      <td>0.848000</td>\n",
       "      <td>0.030645</td>\n",
       "      <td>8.0</td>\n",
       "      <td>55</td>\n",
       "      <td>37.777440</td>\n",
       "      <td>-122.464940</td>\n",
       "      <td>87</td>\n",
       "      <td>37.795342</td>\n",
       "      <td>-122.398735</td>\n",
       "      <td>0.038374</td>\n",
       "    </tr>\n",
       "    <tr>\n",
       "      <th>...</th>\n",
       "      <td>...</td>\n",
       "      <td>...</td>\n",
       "      <td>...</td>\n",
       "      <td>...</td>\n",
       "      <td>...</td>\n",
       "      <td>...</td>\n",
       "      <td>...</td>\n",
       "      <td>...</td>\n",
       "      <td>...</td>\n",
       "      <td>...</td>\n",
       "      <td>...</td>\n",
       "      <td>...</td>\n",
       "      <td>...</td>\n",
       "      <td>...</td>\n",
       "      <td>...</td>\n",
       "      <td>...</td>\n",
       "      <td>...</td>\n",
       "    </tr>\n",
       "    <tr>\n",
       "      <th>13784</th>\n",
       "      <td>272546</td>\n",
       "      <td>15.603986</td>\n",
       "      <td>3.8</td>\n",
       "      <td>Go</td>\n",
       "      <td>23</td>\n",
       "      <td>4</td>\n",
       "      <td>0</td>\n",
       "      <td>0.816000</td>\n",
       "      <td>0.459647</td>\n",
       "      <td>2.0</td>\n",
       "      <td>1</td>\n",
       "      <td>37.783622</td>\n",
       "      <td>-122.404401</td>\n",
       "      <td>55</td>\n",
       "      <td>37.777440</td>\n",
       "      <td>-122.464940</td>\n",
       "      <td>0.243528</td>\n",
       "    </tr>\n",
       "    <tr>\n",
       "      <th>13785</th>\n",
       "      <td>272552</td>\n",
       "      <td>7.664557</td>\n",
       "      <td>0.6</td>\n",
       "      <td>Intro_Pro</td>\n",
       "      <td>23</td>\n",
       "      <td>4</td>\n",
       "      <td>0</td>\n",
       "      <td>0.697143</td>\n",
       "      <td>0.112842</td>\n",
       "      <td>2.0</td>\n",
       "      <td>104</td>\n",
       "      <td>37.794700</td>\n",
       "      <td>-122.410960</td>\n",
       "      <td>109</td>\n",
       "      <td>37.800310</td>\n",
       "      <td>-122.417741</td>\n",
       "      <td>0.078282</td>\n",
       "    </tr>\n",
       "    <tr>\n",
       "      <th>13786</th>\n",
       "      <td>272553</td>\n",
       "      <td>11.499760</td>\n",
       "      <td>2.4</td>\n",
       "      <td>Pro</td>\n",
       "      <td>23</td>\n",
       "      <td>4</td>\n",
       "      <td>0</td>\n",
       "      <td>0.976000</td>\n",
       "      <td>0.092555</td>\n",
       "      <td>2.0</td>\n",
       "      <td>96</td>\n",
       "      <td>37.793017</td>\n",
       "      <td>-122.416574</td>\n",
       "      <td>112</td>\n",
       "      <td>37.802504</td>\n",
       "      <td>-122.441680</td>\n",
       "      <td>0.208700</td>\n",
       "    </tr>\n",
       "    <tr>\n",
       "      <th>13787</th>\n",
       "      <td>272554</td>\n",
       "      <td>27.651047</td>\n",
       "      <td>5.5</td>\n",
       "      <td>Go</td>\n",
       "      <td>23</td>\n",
       "      <td>4</td>\n",
       "      <td>0</td>\n",
       "      <td>0.464000</td>\n",
       "      <td>0.116866</td>\n",
       "      <td>2.0</td>\n",
       "      <td>109</td>\n",
       "      <td>37.800310</td>\n",
       "      <td>-122.417741</td>\n",
       "      <td>40</td>\n",
       "      <td>37.762109</td>\n",
       "      <td>-122.472704</td>\n",
       "      <td>0.198907</td>\n",
       "    </tr>\n",
       "    <tr>\n",
       "      <th>13788</th>\n",
       "      <td>272555</td>\n",
       "      <td>10.196079</td>\n",
       "      <td>1.8</td>\n",
       "      <td>Pro</td>\n",
       "      <td>23</td>\n",
       "      <td>4</td>\n",
       "      <td>0</td>\n",
       "      <td>0.777714</td>\n",
       "      <td>0.068214</td>\n",
       "      <td>2.0</td>\n",
       "      <td>43</td>\n",
       "      <td>37.777470</td>\n",
       "      <td>-122.433245</td>\n",
       "      <td>8</td>\n",
       "      <td>37.788628</td>\n",
       "      <td>-122.420008</td>\n",
       "      <td>0.176538</td>\n",
       "    </tr>\n",
       "  </tbody>\n",
       "</table>\n",
       "<p>13789 rows × 17 columns</p>\n",
       "</div>"
      ],
      "text/plain": [
       "       ride_id   trip_time  trip_dist    plan_id  hr_start  dow  time_slot  \\\n",
       "0       211870   11.336693        3.0        Pro         0    1          0   \n",
       "1       211871   36.616880        2.0        Pro         0    1          0   \n",
       "2       211885   17.900736        3.6         Go         4    1          0   \n",
       "3       211890   15.330679        3.2      Other         5    1          1   \n",
       "4       211894  138.113334        5.3      Other         6    1          1   \n",
       "...        ...         ...        ...        ...       ...  ...        ...   \n",
       "13784   272546   15.603986        3.8         Go        23    4          0   \n",
       "13785   272552    7.664557        0.6  Intro_Pro        23    4          0   \n",
       "13786   272553   11.499760        2.4        Pro        23    4          0   \n",
       "13787   272554   27.651047        5.5         Go        23    4          0   \n",
       "13788   272555   10.196079        1.8        Pro        23    4          0   \n",
       "\n",
       "       batt_perc    dist_h  price  start_location_id        lat         lng  \\\n",
       "0       0.361143  0.287168    2.0                104  37.794700 -122.410960   \n",
       "1       0.979784  0.080456    4.0                 21  37.775606 -122.416976   \n",
       "2       0.500000  0.019225    3.0                 90  37.784174 -122.480460   \n",
       "3       0.897714  0.119214    3.0                 97  37.804907 -122.441988   \n",
       "4       0.848000  0.030645    8.0                 55  37.777440 -122.464940   \n",
       "...          ...       ...    ...                ...        ...         ...   \n",
       "13784   0.816000  0.459647    2.0                  1  37.783622 -122.404401   \n",
       "13785   0.697143  0.112842    2.0                104  37.794700 -122.410960   \n",
       "13786   0.976000  0.092555    2.0                 96  37.793017 -122.416574   \n",
       "13787   0.464000  0.116866    2.0                109  37.800310 -122.417741   \n",
       "13788   0.777714  0.068214    2.0                 43  37.777470 -122.433245   \n",
       "\n",
       "       end_location_id      lat.1       lng.1  avg_speed  \n",
       "0                   56  37.771578 -122.442181   0.264627  \n",
       "1                   42  37.749810 -122.431790   0.054620  \n",
       "2                    9  37.791758 -122.404929   0.201109  \n",
       "3                   26  37.791638 -122.391761   0.208732  \n",
       "4                   87  37.795342 -122.398735   0.038374  \n",
       "...                ...        ...         ...        ...  \n",
       "13784               55  37.777440 -122.464940   0.243528  \n",
       "13785              109  37.800310 -122.417741   0.078282  \n",
       "13786              112  37.802504 -122.441680   0.208700  \n",
       "13787               40  37.762109 -122.472704   0.198907  \n",
       "13788                8  37.788628 -122.420008   0.176538  \n",
       "\n",
       "[13789 rows x 17 columns]"
      ]
     },
     "execution_count": 33,
     "metadata": {},
     "output_type": "execute_result"
    }
   ],
   "source": [
    "#Write your code here\n",
    "df['avg_speed'] = df['trip_dist'] / df['trip_time']\n",
    "df_travel = df[['trip_time', 'trip_dist', 'avg_speed']]\n",
    "df_travel\n",
    "# df.loc[:,[\"trip_time\", \"trip_dist\"]]\n",
    "df"
   ]
  },
  {
   "cell_type": "markdown",
   "metadata": {},
   "source": [
    "The dow column has the following interpretation:\n",
    "- 0: Monday\n",
    "- 1: Tuesday\n",
    "- 2: Wednesday\n",
    "- 3: Thursday\n",
    "- 4 Friday\n",
    "- 5: Saturday\n",
    "- 6: Sunday\n",
    "\n",
    "What was the average price of rides that take place on the weekend and started after noon (hr_start >= 12)."
   ]
  },
  {
   "cell_type": "code",
   "execution_count": 32,
   "metadata": {},
   "outputs": [
    {
     "data": {
      "text/plain": [
       "3.8766143911439115"
      ]
     },
     "execution_count": 32,
     "metadata": {},
     "output_type": "execute_result"
    }
   ],
   "source": [
    "#Write your code here\n",
    "weekend_rides = df[(df['dow'].isin([5, 6])) & (df['hr_start'] >= 12)]\n",
    "# print(weekend_rides)\n",
    "average_price = weekend_rides['price'].mean()\n",
    "average_price\n"
   ]
  },
  {
   "cell_type": "markdown",
   "metadata": {},
   "source": [
    "How many trips lasted longer than 30 minutes?\n"
   ]
  },
  {
   "cell_type": "code",
   "execution_count": 35,
   "metadata": {},
   "outputs": [
    {
     "name": "stdout",
     "output_type": "stream",
     "text": [
      "   long_trips_count\n",
      "0              4238\n"
     ]
    }
   ],
   "source": [
    "#Write your code here\n",
    "query = \"SELECT COUNT(*) as long_trips_count FROM df WHERE trip_time > 30;\"\n",
    "long_trips_result = sqldf(query, locals())\n",
    "print(long_trips_result)\n"
   ]
  },
  {
   "cell_type": "markdown",
   "metadata": {},
   "source": [
    "Write a query to get the number of rides starting in each hour.\n"
   ]
  },
  {
   "cell_type": "code",
   "execution_count": 36,
   "metadata": {},
   "outputs": [
    {
     "name": "stdout",
     "output_type": "stream",
     "text": [
      "    hr_start  number_of_rides\n",
      "0          0              113\n",
      "1          1               55\n",
      "2          2               43\n",
      "3          3               13\n",
      "4          4               27\n",
      "5          5              126\n",
      "6          6              355\n",
      "7          7             1101\n",
      "8          8             1104\n",
      "9          9              663\n",
      "10        10              513\n",
      "11        11              596\n",
      "12        12              631\n",
      "13        13              693\n",
      "14        14              682\n",
      "15        15              743\n",
      "16        16             1010\n",
      "17        17             1588\n",
      "18        18             1192\n",
      "19        19              930\n",
      "20        20              597\n",
      "21        21              460\n",
      "22        22              368\n",
      "23        23              186\n"
     ]
    }
   ],
   "source": [
    "#Write your code here\n",
    "query = \"SELECT hr_start, COUNT(*) as number_of_rides FROM df GROUP BY hr_start\t;\"\n",
    "number_of_ride= sqldf(query, locals())\n",
    "print(number_of_ride)"
   ]
  },
  {
   "cell_type": "markdown",
   "metadata": {},
   "source": [
    "Create a line plot - where the x-axis is the hour of the day and the y-axis is the number of rides.  Give an appropriate title and appropriate axes labels."
   ]
  },
  {
   "cell_type": "code",
   "execution_count": 38,
   "metadata": {},
   "outputs": [
    {
     "data": {
      "text/plain": [
       "Text(0, 0.5, 'Number of Rides')"
      ]
     },
     "execution_count": 38,
     "metadata": {},
     "output_type": "execute_result"
    },
    {
     "data": {
      "image/png": "[encoded data removed]",
      "text/plain": [
       "<Figure size 640x480 with 1 Axes>"
      ]
     },
     "metadata": {},
     "output_type": "display_data"
    }
   ],
   "source": [
    "#Write your code here\n",
    "import matplotlib.pyplot as plt\n",
    "plt.plot(number_of_ride['hr_start'], number_of_ride['number_of_rides'], marker='o')\n",
    "plt.title('Number of Rides per Hour')\n",
    "plt.xlabel('Hour of the Day')\n",
    "plt.ylabel('Number of Rides')\n"
   ]
  },
  {
   "cell_type": "markdown",
   "metadata": {},
   "source": [
    "Write a query to get the number of rides starting in each hour by plan.\n"
   ]
  },
  {
   "cell_type": "code",
   "execution_count": 40,
   "metadata": {},
   "outputs": [
    {
     "name": "stdout",
     "output_type": "stream",
     "text": [
      "    hr_start    plan_id  number_of_rides\n",
      "0          0         Go               25\n",
      "1          0  Intro_Pro               29\n",
      "2          0      Other               27\n",
      "3          0        Pro               32\n",
      "4          1         Go               16\n",
      "..       ...        ...              ...\n",
      "91        22        Pro              163\n",
      "92        23         Go               45\n",
      "93        23  Intro_Pro               51\n",
      "94        23      Other               29\n",
      "95        23        Pro               61\n",
      "\n",
      "[96 rows x 3 columns]\n"
     ]
    }
   ],
   "source": [
    "#Write your code here\n",
    "query = \"SELECT hr_start, plan_id, COUNT(*) as number_of_rides FROM df GROUP BY hr_start, plan_id;\"\n",
    "number_of_ride= sqldf(query, locals())\n",
    "print(number_of_ride)"
   ]
  },
  {
   "cell_type": "markdown",
   "metadata": {},
   "source": [
    "Write a query to find the average price of each ride that has an initial battery charge of more than 50$\\%$ originating at every hour of the day. Compare this with rides where the initial charge was below 50$\\%$. This helps answer the question: Are scooters with less charge, less valuable?"
   ]
  },
  {
   "cell_type": "code",
   "execution_count": 43,
   "metadata": {},
   "outputs": [
    {
     "name": "stdout",
     "output_type": "stream",
     "text": [
      "    hr_start  average_price\n",
      "0          0       2.688312\n",
      "1          1       2.971429\n",
      "2          2       2.160000\n",
      "3          3       2.285714\n",
      "4          4       2.777778\n",
      "5          5       2.413043\n",
      "6          6       3.199203\n",
      "7          7       3.021384\n",
      "8          8       3.267516\n",
      "9          9       3.941886\n",
      "10        10       4.295775\n",
      "11        11       4.721154\n",
      "12        12       5.361354\n",
      "13        13       4.708861\n",
      "14        14       4.602564\n",
      "15        15       4.145951\n",
      "16        16       4.004711\n",
      "17        17       3.769504\n",
      "18        18       3.700625\n",
      "19        19       3.116747\n",
      "20        20       2.856771\n",
      "21        21       2.570064\n",
      "22        22       2.532520\n",
      "23        23       2.700730\n"
     ]
    }
   ],
   "source": [
    "#Write your code here\n",
    "query = \"SELECT hr_start, avg(price) as average_price FROM df WHERE batt_perc >0.5 GROUP BY hr_start;\"\n",
    "avg_price_= sqldf(query, locals())\n",
    "print(avg_price)"
   ]
  },
  {
   "cell_type": "code",
   "execution_count": null,
   "metadata": {},
   "outputs": [],
   "source": []
  },
  {
   "cell_type": "markdown",
   "metadata": {},
   "source": [
    "Compute how many people went over."
   ]
  },
  {
   "cell_type": "markdown",
   "metadata": {},
   "source": []
  }
 ],
 "metadata": {
  "kernelspec": {
   "display_name": "Python 3 (ipykernel)",
   "language": "python",
   "name": "python3"
  },
  "language_info": {
   "codemirror_mode": {
    "name": "ipython",
    "version": 3
   },
   "file_extension": ".py",
   "mimetype": "text/x-python",
   "name": "python",
   "nbconvert_exporter": "python",
   "pygments_lexer": "ipython3",
   "version": "3.11.4"
  },
  "toc": {
   "nav_menu": {
    "height": "48px",
    "width": "252px"
   },
   "number_sections": true,
   "sideBar": true,
   "skip_h1_title": false,
   "toc_cell": false,
   "toc_position": {},
   "toc_section_display": "block",
   "toc_window_display": false
  }
 },
 "nbformat": 4,
 "nbformat_minor": 2
}
