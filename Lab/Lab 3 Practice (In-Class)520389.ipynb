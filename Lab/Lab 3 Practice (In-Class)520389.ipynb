{
 "cells": [
  {
   "cell_type": "markdown",
   "metadata": {},
   "source": [
    "# Practice with New Objects\n",
    "\n"
   ]
  },
  {
   "cell_type": "markdown",
   "metadata": {},
   "source": [
    "## Practice with Dictionaries"
   ]
  },
  {
   "cell_type": "markdown",
   "metadata": {},
   "source": [
    "From the dictionary, produce a list of strings, where each element in the list is a last name.  Your code should work for an arbitrary dictionary formatted as given below. Please print Last names in the dictionary."
   ]
  },
  {
   "cell_type": "code",
   "execution_count": 3,
   "metadata": {},
   "outputs": [
    {
     "name": "stdout",
     "output_type": "stream",
     "text": [
      "['Tutun', 'Jake']\n"
     ]
    }
   ],
   "source": [
    "d = {1: \"Salih Tutun\", 2 : \"Dennis Jake\"}\n",
    "\n",
    "#Write your code here\n",
    "last_names = []\n",
    "\n",
    "for key,value in d.items():\n",
    "    value = value.split()\n",
    "    last_names.append(value[1])\n",
    "print(last_names)"
   ]
  },
  {
   "cell_type": "code",
   "execution_count": null,
   "metadata": {},
   "outputs": [],
   "source": [
    "#Paste ChatGPT code here\n",
    "# Given dictionary\n",
    "d = {1: \"Salih Tutun\", 2: \"Dennis Jake\"}\n",
    "\n",
    "# Initialize an empty list to store last names\n",
    "last_names = []\n",
    "\n",
    "# Iterate through the dictionary values\n",
    "for full_name in d.values():\n",
    "    # Split the full name into parts using whitespace as the separator\n",
    "    name_parts = full_name.split()\n",
    "    \n",
    "    # Extract the last part (the last name) and append it to the list\n",
    "    last_name = name_parts[-1]\n",
    "    last_names.append(last_name)\n",
    "\n",
    "# Print the list of last names\n",
    "print(last_names)"
   ]
  },
  {
   "cell_type": "markdown",
   "metadata": {},
   "source": [
    "Consider the following dictionary D of scores.  From this dictionary, produce another dictionary where the keys are the names and the values are the average scores."
   ]
  },
  {
   "cell_type": "code",
   "execution_count": 9,
   "metadata": {},
   "outputs": [
    {
     "name": "stdout",
     "output_type": "stream",
     "text": [
      "{'Jake': 88.5, 'Charlie': 99.66666666666667, 'Ellen': 90.0}\n"
     ]
    }
   ],
   "source": [
    "# creating a new dictionary \n",
    "D = {\"Jake\" : [99,87,91, 77], \"Charlie\" : [100,100,99], \"Ellen\" : [95,70, 85,100,100]}\n",
    "\n",
    "#Write your code here\n",
    "D_new = {}\n",
    "for key, value in D.items():\n",
    "    count = 0\n",
    "    number = 0\n",
    "    for ele in value:\n",
    "        count += int(ele)\n",
    "        number += 1\n",
    "    D_new[key] = count/number\n",
    "\n",
    "print(D_new)\n"
   ]
  },
  {
   "cell_type": "code",
   "execution_count": 1,
   "metadata": {},
   "outputs": [
    {
     "name": "stdout",
     "output_type": "stream",
     "text": [
      "{'Jake': 88.5, 'Charlie': 99.66666666666667, 'Ellen': 90.0}\n"
     ]
    }
   ],
   "source": [
    "#Paste ChatGPT code here\n",
    "# Given dictionary of scores\n",
    "D = {\"Jake\": [99, 87, 91, 77], \"Charlie\": [100, 100, 99], \"Ellen\": [95, 70, 85, 100, 100]}\n",
    "\n",
    "# Initialize an empty dictionary to store average scores\n",
    "average_scores = {}\n",
    "\n",
    "# Iterate through the original dictionary\n",
    "for name, scores in D.items():\n",
    "    # Calculate the average score for each name\n",
    "    average_score = sum(scores) / len(scores)\n",
    "    \n",
    "    # Store the average score in the new dictionary\n",
    "    average_scores[name] = average_score\n",
    "\n",
    "# Print the new dictionary with average scores\n",
    "print(average_scores)"
   ]
  },
  {
   "cell_type": "code",
   "execution_count": 10,
   "metadata": {},
   "outputs": [
    {
     "name": "stdout",
     "output_type": "stream",
     "text": [
      "[('Jake', 1), ('Charlie', 2), ('Ellen', 3)] [100, 200, 300]\n"
     ]
    }
   ],
   "source": [
    "#Example of Tuples for using in Dictionaries\n",
    "\n",
    "my_dict = {(\"Jake\",1) : 100, (\"Charlie\",2) : 200, (\"Ellen\",3) : 300}  \n",
    "# list out keys and values separately \n",
    "key_list = []\n",
    "value_list =[]\n",
    "for key,value in my_dict.items():\n",
    "    key_list.append(key)\n",
    "    value_list.append(value)\n",
    "print(key_list, value_list)"
   ]
  },
  {
   "cell_type": "code",
   "execution_count": null,
   "metadata": {},
   "outputs": [],
   "source": [
    "#Paste ChatGPT code here\n"
   ]
  },
  {
   "cell_type": "markdown",
   "metadata": {},
   "source": [
    "Write the code to check whether the inputted sentence is a pangram, meaning that it contains all 26 letters.  "
   ]
  },
  {
   "cell_type": "code",
   "execution_count": 2,
   "metadata": {},
   "outputs": [
    {
     "name": "stdout",
     "output_type": "stream",
     "text": [
      "This sentence is a pangram.\n"
     ]
    }
   ],
   "source": [
    "sentence = \"the quick brown fox jumps over the lazy dog\"\n",
    "#Write your code here\n",
    "dict_ = {}\n",
    "sentence = sentence.replace(\" \",\"\")\n",
    "for char in sentence:\n",
    "    if char not in dict_:\n",
    "        dict_[char] = 0\n",
    "    else:\n",
    "        dict_[char] += 1\n",
    "a_list =[]\n",
    "for key in dict_.keys():\n",
    "    a_list.append(key)\n",
    "# print(len(a_list))\n",
    "\n",
    "if len(a_list)==26:\n",
    "    print(\"This sentence is a pangram.\")\n",
    "else:\n",
    "    print(\"This sentence is not a pangram.\")"
   ]
  },
  {
   "cell_type": "code",
   "execution_count": null,
   "metadata": {},
   "outputs": [],
   "source": [
    "#Paste ChatGPT code here\n",
    "import string\n",
    "\n",
    "def is_pangram(sentence):\n",
    "    # Create a set to store the unique letters encountered\n",
    "    unique_letters = set()\n",
    "    \n",
    "    # Iterate through the characters in the sentence\n",
    "    for char in sentence:\n",
    "        # Convert the character to lowercase (to handle case-insensitivity)\n",
    "        char = char.lower()\n",
    "        \n",
    "        # Check if the character is a lowercase letter\n",
    "        if char.isalpha():\n",
    "            unique_letters.add(char)\n",
    "    \n",
    "    # Check if the set of unique letters contains all 26 lowercase letters\n",
    "    return len(unique_letters) == 26\n",
    "\n",
    "# Input sentence\n",
    "input_sentence = input(\"Enter a sentence: \")\n",
    "\n",
    "# Check if the input sentence is a pangram\n",
    "if is_pangram(input_sentence):\n",
    "    print(\"The sentence is a pangram.\")\n",
    "else:\n",
    "    print(\"The sentence is not a pangram.\")\n"
   ]
  },
  {
   "cell_type": "markdown",
   "metadata": {},
   "source": [
    "## Practice with String Methods\n",
    "\n",
    "Use the **count** method to count the number of times that str1 appears in str2."
   ]
  },
  {
   "cell_type": "code",
   "execution_count": 16,
   "metadata": {},
   "outputs": [
    {
     "name": "stdout",
     "output_type": "stream",
     "text": [
      "2\n"
     ]
    }
   ],
   "source": [
    "str1 = \"co\"\n",
    "str2 = \"coding in school is cool\"\n",
    "#Write your code here\n",
    "\n",
    "count = 0\n",
    "for i in range(len(str2)-len(str1)+1):\n",
    "    if str2[i:i+len(str1)] == str1:\n",
    "        count += 1\n",
    "print(count)"
   ]
  },
  {
   "cell_type": "code",
   "execution_count": 5,
   "metadata": {},
   "outputs": [
    {
     "name": "stdout",
     "output_type": "stream",
     "text": [
      "The substring 'co' appears 2 times in 'coding in school is cool'.\n"
     ]
    }
   ],
   "source": [
    "#Paste ChatGPT code here\n",
    "str1 = \"co\"\n",
    "str2 = \"coding in school is cool\"\n",
    "\n",
    "# Use the count() method to count the occurrences of str1 in str2\n",
    "count = str2.count(str1)\n",
    "\n",
    "# Print the result\n",
    "print(f\"The substring '{str1}' appears {count} times in '{str2}'.\")\n"
   ]
  },
  {
   "cell_type": "markdown",
   "metadata": {},
   "source": [
    "Count the number of words that start with a vowel (a,e,i,o,u) in the following sentences.  The code should work for any sentence. The **split**, **replace** and **lower** methods will be useful here."
   ]
  },
  {
   "cell_type": "code",
   "execution_count": 22,
   "metadata": {},
   "outputs": [
    {
     "name": "stdout",
     "output_type": "stream",
     "text": [
      "7\n"
     ]
    }
   ],
   "source": [
    "sentence = \"\"\"Jake likes to eat apples. So, he went to the store to acquire some. \n",
    "He used his coupons and then he declared: I love apples.\"\"\"\n",
    "\n",
    "\n",
    "#Write your code here\n",
    "vowel_list = ['a','e','i','o','u']\n",
    "sentence = sentence.lower().split()\n",
    "count = 0\n",
    "for char in sentence:\n",
    "    if char[0] in vowel_list:\n",
    "        count += 1\n",
    "print(count)"
   ]
  },
  {
   "cell_type": "code",
   "execution_count": 6,
   "metadata": {},
   "outputs": [
    {
     "name": "stdout",
     "output_type": "stream",
     "text": [
      "The number of words starting with a vowel is: 7\n"
     ]
    }
   ],
   "source": [
    "#Paste ChatGPT code here\n",
    "sentence = \"\"\"Jake likes to eat apples. So, he went to the store to acquire some. \n",
    "He used his coupons and then he declared: I love apples.\"\"\"\n",
    "\n",
    "# Split the sentence into words and convert them to lowercase\n",
    "words = sentence.lower().split()\n",
    "\n",
    "# Define a set of vowels\n",
    "vowels = {'a', 'e', 'i', 'o', 'u'}\n",
    "\n",
    "# Initialize a count for words starting with a vowel\n",
    "count = 0\n",
    "\n",
    "# Iterate through the words and count words starting with a vowel\n",
    "for word in words:\n",
    "    # Remove punctuation and special characters from the word\n",
    "    word = ''.join(filter(str.isalnum, word))\n",
    "    \n",
    "    # Check if the word is not empty and starts with a vowel\n",
    "    if word and word[0] in vowels:\n",
    "        count += 1\n",
    "\n",
    "# Print the count of words starting with a vowel\n",
    "print(f\"The number of words starting with a vowel is: {count}\")\n"
   ]
  },
  {
   "cell_type": "markdown",
   "metadata": {},
   "source": [
    "\n",
    "## Practice with List Methods\n",
    " \n",
    "Store all of the words with more than 5 letters in a list. Use the **append** method for lists and the **strip** method for strings to get rid of punctuation."
   ]
  },
  {
   "cell_type": "code",
   "execution_count": 24,
   "metadata": {},
   "outputs": [
    {
     "name": "stdout",
     "output_type": "stream",
     "text": [
      "['apples', 'acquire', 'coupons', 'declared', 'apples']\n"
     ]
    }
   ],
   "source": [
    "sentence = \"\"\"Jake likes to eat apples. So, he went to the store to acquire some. \n",
    "He used his coupons and then he declared: I love apples.\"\"\"\n",
    "\n",
    "words_list = []\n",
    "#Write you code here\n",
    "sentence = sentence.split()\n",
    "for cha in sentence:\n",
    "    cha = cha.strip(\":\").strip(\",\").strip(\".\")\n",
    "    if len(cha) > 5:\n",
    "        words_list.append(cha)\n",
    "print(words_list)\n",
    "        \n"
   ]
  },
  {
   "cell_type": "code",
   "execution_count": 7,
   "metadata": {},
   "outputs": [
    {
     "name": "stdout",
     "output_type": "stream",
     "text": [
      "['apples', 'acquire', 'coupons', 'declared', 'apples']\n"
     ]
    }
   ],
   "source": [
    "#Paste ChatGPT code here\n",
    "import string\n",
    "\n",
    "sentence = \"\"\"Jake likes to eat apples. So, he went to the store to acquire some. \n",
    "He used his coupons and then he declared: I love apples.\"\"\"\n",
    "\n",
    "# Split the sentence into words and convert them to lowercase\n",
    "words = sentence.lower().split()\n",
    "\n",
    "# Initialize a list to store words with more than 5 letters\n",
    "long_words = []\n",
    "\n",
    "# Define a set of punctuation characters\n",
    "punctuation = set(string.punctuation)\n",
    "\n",
    "# Iterate through the words and filter out short words and strip punctuation\n",
    "for word in words:\n",
    "    # Remove punctuation and special characters from the word\n",
    "    cleaned_word = ''.join(char for char in word if char not in punctuation)\n",
    "    \n",
    "    # Check if the cleaned word has more than 5 letters\n",
    "    if len(cleaned_word) > 5:\n",
    "        long_words.append(cleaned_word)\n",
    "\n",
    "# Print the list of words with more than 5 letters\n",
    "print(long_words)\n"
   ]
  },
  {
   "cell_type": "markdown",
   "metadata": {},
   "source": [
    "From the list L, created a list of lists called Q, which slices around the number 4. For example, if  L = [1,2,3,4,5,6], then Q = [[1,2,3], [5,6]].  The code should work for general L with a single 4. Use the **index** and **append** methods. "
   ]
  },
  {
   "cell_type": "code",
   "execution_count": 9,
   "metadata": {},
   "outputs": [
    {
     "name": "stdout",
     "output_type": "stream",
     "text": [
      "[[1, 2, 3], [5, 6]]\n"
     ]
    }
   ],
   "source": [
    "L=[1,2,3,4,5,6]\n",
    "\n",
    "#Write you code here\n",
    "Q = []\n",
    "count = 0\n",
    "temp_list = []\n",
    "for i in range(len(L)):\n",
    "    count += 1\n",
    "    if L[i] == 4:\n",
    "        Q.append(temp_list)\n",
    "        temp_list = []\n",
    "    else:\n",
    "        temp_list.append(L[i])\n",
    "    if count == len(L):\n",
    "        Q.append(temp_list)\n",
    "print(Q)\n",
    "    \n",
    "    \n",
    "    \n"
   ]
  },
  {
   "cell_type": "code",
   "execution_count": 8,
   "metadata": {},
   "outputs": [
    {
     "name": "stdout",
     "output_type": "stream",
     "text": [
      "[[1, 2, 3], [5, 6]]\n"
     ]
    }
   ],
   "source": [
    "#Paste ChatGPT code here\n",
    "L = [1, 2, 3, 4, 5, 6]\n",
    "\n",
    "# Initialize an empty list to store the sublists\n",
    "Q = []\n",
    "\n",
    "# Find the index of the number 4 in the list\n",
    "index_of_4 = L.index(4)\n",
    "\n",
    "# Slice the list before and after the number 4\n",
    "list_before_4 = L[:index_of_4]\n",
    "list_after_4 = L[index_of_4 + 1:]\n",
    "\n",
    "# Append the sublists to Q\n",
    "Q.append(list_before_4)\n",
    "Q.append(list_after_4)\n",
    "\n",
    "# Print the list of lists Q\n",
    "print(Q)"
   ]
  },
  {
   "cell_type": "code",
   "execution_count": null,
   "metadata": {},
   "outputs": [],
   "source": []
  }
 ],
 "metadata": {
  "kernelspec": {
   "display_name": "Python 3 (ipykernel)",
   "language": "python",
   "name": "python3"
  },
  "language_info": {
   "codemirror_mode": {
    "name": "ipython",
    "version": 3
   },
   "file_extension": ".py",
   "mimetype": "text/x-python",
   "name": "python",
   "nbconvert_exporter": "python",
   "pygments_lexer": "ipython3",
   "version": "3.11.4"
  },
  "toc": {
   "colors": {
    "hover_highlight": "#DAA520",
    "navigate_num": "#000000",
    "navigate_text": "#333333",
    "running_highlight": "#FF0000",
    "selected_highlight": "#FFD700",
    "sidebar_border": "#EEEEEE",
    "wrapper_background": "#FFFFFF"
   },
   "moveMenuLeft": true,
   "nav_menu": {
    "height": "66px",
    "width": "252px"
   },
   "navigate_menu": true,
   "number_sections": true,
   "sideBar": true,
   "skip_h1_title": false,
   "threshold": 4,
   "toc_cell": false,
   "toc_position": {},
   "toc_section_display": "block",
   "toc_window_display": false,
   "widenNotebook": false
  }
 },
 "nbformat": 4,
 "nbformat_minor": 2
}
