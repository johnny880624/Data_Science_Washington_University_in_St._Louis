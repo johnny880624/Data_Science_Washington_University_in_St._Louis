{
 "cells": [
  {
   "cell_type": "markdown",
   "metadata": {
    "deletable": false,
    "editable": false,
    "nbgrader": {
     "checksum": "8687ca8d3d7dc5c23add0dd3d75cb1ba",
     "grade": false,
     "grade_id": "cell-a4c41f39205051c2",
     "locked": true,
     "schema_version": 1,
     "solution": false
    }
   },
   "source": [
    "# Homework 2\n",
    "\n",
    "\n",
    "## Problem 1 (Tuple):\n",
    "\n",
    "Given a list of integers, create a tuple of those integers. Then compute and print the result of hash of the tuple.\n",
    "\n",
    "Note: [hash()](https://docs.python.org/2/library/functions.html#hash) is one of the functions in the __builtins__ module, so it need not be imported.\n",
    "\n",
    "[Here is the tutorial on why hash function is important in computer science.](https://www.hackerearth.com/practice/data-structures/hash-tables/basics-of-hash-tables/tutorial/)\n",
    "\n",
    "\n",
    "Example:\n",
    "\n",
    "    input: int_list = [1, 2, 3]\n",
    "    output: 2528502973977326415"
   ]
  },
  {
   "cell_type": "code",
   "execution_count": 14,
   "metadata": {},
   "outputs": [
    {
     "name": "stdout",
     "output_type": "stream",
     "text": [
      "3.11.4 (main, Jul  5 2023, 08:54:11) [Clang 14.0.6 ]\n"
     ]
    }
   ],
   "source": [
    "import sys\n",
    "print(sys.version)\n"
   ]
  },
  {
   "cell_type": "code",
   "execution_count": 10,
   "metadata": {
    "deletable": false,
    "nbgrader": {
     "checksum": "34e860797d5921e75708d41e4964b0a4",
     "grade": false,
     "grade_id": "cell-b78086c290d4a60c",
     "locked": false,
     "schema_version": 1,
     "solution": true
    }
   },
   "outputs": [
    {
     "data": {
      "text/plain": [
       "529344067295497451"
      ]
     },
     "execution_count": 10,
     "metadata": {},
     "output_type": "execute_result"
    }
   ],
   "source": [
    "def problem1(l):\n",
    "    hash_result = 0\n",
    "    \n",
    "    # YOUR CODE HERE\n",
    "    int_tuple = tuple(l)\n",
    "    hash_result = hash(int_tuple)\n",
    "    return(hash_result)\n",
    "\n",
    "problem1([1,2,3])"
   ]
  },
  {
   "cell_type": "code",
   "execution_count": 2,
   "metadata": {
    "deletable": false,
    "editable": false,
    "nbgrader": {
     "checksum": "aaa8d8040dbe58e04844a9fe6503ba5b",
     "grade": true,
     "grade_id": "cell-2853176972493b6e",
     "locked": true,
     "points": 10,
     "schema_version": 1,
     "solution": false
    }
   },
   "outputs": [
    {
     "ename": "AssertionError",
     "evalue": "",
     "output_type": "error",
     "traceback": [
      "\u001b[0;31m---------------------------------------------------------------------------\u001b[0m",
      "\u001b[0;31mAssertionError\u001b[0m                            Traceback (most recent call last)",
      "Cell \u001b[0;32mIn[2], line 1\u001b[0m\n\u001b[0;32m----> 1\u001b[0m \u001b[38;5;28;01massert\u001b[39;00m problem1([\u001b[38;5;241m1\u001b[39m, \u001b[38;5;241m2\u001b[39m, \u001b[38;5;241m3\u001b[39m]) \u001b[38;5;241m==\u001b[39m \u001b[38;5;241m2528502973977326415\u001b[39m\n",
      "\u001b[0;31mAssertionError\u001b[0m: "
     ]
    }
   ],
   "source": [
    "assert problem1([1, 2, 3]) == 2528502973977326415"
   ]
  },
  {
   "cell_type": "code",
   "execution_count": 13,
   "metadata": {},
   "outputs": [
    {
     "data": {
      "text/plain": [
       "590899387183067792"
      ]
     },
     "execution_count": 13,
     "metadata": {},
     "output_type": "execute_result"
    }
   ],
   "source": [
    "value = hash((1,2,3,4))\n",
    "value"
   ]
  },
  {
   "cell_type": "code",
   "execution_count": 4,
   "metadata": {
    "deletable": false,
    "editable": false,
    "nbgrader": {
     "checksum": "41493d1c3ed8adf1a147a35799970de6",
     "grade": true,
     "grade_id": "cell-ab1b1d0a5f7b1fce",
     "locked": true,
     "points": 10,
     "schema_version": 1,
     "solution": false
    }
   },
   "outputs": [
    {
     "ename": "AssertionError",
     "evalue": "",
     "output_type": "error",
     "traceback": [
      "\u001b[0;31m---------------------------------------------------------------------------\u001b[0m",
      "\u001b[0;31mAssertionError\u001b[0m                            Traceback (most recent call last)",
      "Cell \u001b[0;32mIn[4], line 1\u001b[0m\n\u001b[0;32m----> 1\u001b[0m \u001b[38;5;28;01massert\u001b[39;00m problem1([\u001b[38;5;241m1\u001b[39m, \u001b[38;5;241m2\u001b[39m, \u001b[38;5;241m3\u001b[39m, \u001b[38;5;241m4\u001b[39m]) \u001b[38;5;241m==\u001b[39m \u001b[38;5;241m485696759010151909\u001b[39m\n",
      "\u001b[0;31mAssertionError\u001b[0m: "
     ]
    }
   ],
   "source": [
    "assert problem1([1, 2, 3, 4]) == 485696759010151909"
   ]
  },
  {
   "cell_type": "markdown",
   "metadata": {
    "deletable": false,
    "editable": false,
    "nbgrader": {
     "checksum": "8667642c8eaee79c7b3ded36e30dc54f",
     "grade": false,
     "grade_id": "cell-1c14a1786a26dc5a",
     "locked": true,
     "schema_version": 1,
     "solution": false
    }
   },
   "source": [
    "## Problem 2 (Dictionary and String Methods):\n",
    "\n",
    "You have a list of strings which contain student record. Each string contains the student's name, and their grades in Maths, Physics and Chemistry. The grades can be **floating values**. These values (names and grades) are separated by comma. You are required to save the record in a dictionary data type. The user then enters a student's name. Output the average percentage marks obtained by that student, correct to two decimal places.\n",
    "\n",
    "Example:\n",
    "\n",
    "    input:\n",
    "        grades = [\"Jake, 99, 70, 50\", \"Dennis, 100, 100, 98\"]\n",
    "        name = \"Dennis\"\n",
    "    output: \"The average grade of Dennis is 99.33\""
   ]
  },
  {
   "cell_type": "code",
   "execution_count": null,
   "metadata": {
    "deletable": false,
    "nbgrader": {
     "checksum": "6f1cffbcd07554cd2f967be27554c129",
     "grade": false,
     "grade_id": "cell-562beecb93f03f23",
     "locked": false,
     "schema_version": 1,
     "solution": true
    }
   },
   "outputs": [],
   "source": [
    "def problem2(grades, name):\n",
    "    output = \"\"\n",
    "    \n",
    "    # YOUR CODE HERE\n",
    "    student_dic ={}\n",
    "    for i in range(len(grades)):\n",
    "        temp_list = grades[i].split(\",\")\n",
    "        student_dic[temp_list[0]] = str(round((int(temp_list[1])+int(temp_list[2])+int(temp_list[3]))/3,2))\n",
    "    output =  \"The average grade of \"+ name +\" is \" +student_dic[name]\n",
    "    return(output)\n",
    "\n",
    "# grades = [\"Jake, 99, 70, 54\", \"Dennis, 100, 100, 98\"]\n",
    "# name = \"Dennis\"\n",
    "# problem2(grades, \"Dennis\")"
   ]
  },
  {
   "cell_type": "code",
   "execution_count": null,
   "metadata": {
    "deletable": false,
    "editable": false,
    "nbgrader": {
     "checksum": "511ffea51a67ce37059cddb3ba889fae",
     "grade": true,
     "grade_id": "cell-681343a4d7e22bbd",
     "locked": true,
     "points": 10,
     "schema_version": 1,
     "solution": false
    }
   },
   "outputs": [],
   "source": [
    "grades = [\"Jake, 99, 70, 54\", \"Dennis, 100, 100, 98\"]\n",
    "name = \"Dennis\"\n",
    "assert problem2(grades, \"Dennis\") == \"The average grade of Dennis is 99.33\""
   ]
  },
  {
   "cell_type": "code",
   "execution_count": null,
   "metadata": {
    "deletable": false,
    "editable": false,
    "nbgrader": {
     "checksum": "e19df70b1b38114ebb17ef3ffc0b7766",
     "grade": true,
     "grade_id": "cell-402bf89f76c4bd42",
     "locked": true,
     "points": 10,
     "schema_version": 1,
     "solution": false
    }
   },
   "outputs": [],
   "source": [
    "grades = [\"Jake, 99, 70, 55\", \"Dennis, 100, 100, 98\"]\n",
    "name = \"Jake\"\n",
    "assert problem2(grades, \"Jake\") == \"The average grade of Jake is 74.67\""
   ]
  },
  {
   "cell_type": "markdown",
   "metadata": {
    "deletable": false,
    "editable": false,
    "nbgrader": {
     "checksum": "18e8aed1fbe12e51dcb8a8fcda292650",
     "grade": false,
     "grade_id": "cell-a1c33503efa5fb31",
     "locked": true,
     "schema_version": 1,
     "solution": false
    }
   },
   "source": [
    "## Problem 3 (List Methods):\n",
    "\n",
    "You are given N positive numbers. Store them in a list and find the second largest number.\n",
    "(If there are two largest numbers, the second largest number must be smaller than both of them)\n",
    "\n",
    "Example:\n",
    "\n",
    "    input: int_list = [1,3,1,4,4,2]\n",
    "    ouput: 3"
   ]
  },
  {
   "cell_type": "code",
   "execution_count": null,
   "metadata": {
    "deletable": false,
    "nbgrader": {
     "checksum": "63cef3505540dc87062eeb951afc40a0",
     "grade": false,
     "grade_id": "cell-f16b41b82fe73df0",
     "locked": false,
     "schema_version": 1,
     "solution": true
    }
   },
   "outputs": [],
   "source": [
    "#Write your code here:\n",
    "def problem3(int_list):\n",
    "    second_largest = 0\n",
    "    \n",
    "    # YOUR CODE HERE\n",
    "    int_list = sorted(int_list, reverse=True)\n",
    "    num_store = int_list[0]\n",
    "    for i in range(len(int_list)):\n",
    "        if num_store > int_list[i]:\n",
    "            second_largest = int_list[i]\n",
    "            return(second_largest)\n",
    "        \n",
    "# print(problem3([1,3,1,4,4,2]))"
   ]
  },
  {
   "cell_type": "code",
   "execution_count": null,
   "metadata": {
    "deletable": false,
    "editable": false,
    "nbgrader": {
     "checksum": "841844151e0924bcbaafe650449c9861",
     "grade": true,
     "grade_id": "cell-b9a67e5a1cc6b7eb",
     "locked": true,
     "points": 10,
     "schema_version": 1,
     "solution": false
    }
   },
   "outputs": [],
   "source": [
    "assert problem3([1,3,1,4,4,2]) == 3"
   ]
  },
  {
   "cell_type": "code",
   "execution_count": null,
   "metadata": {
    "deletable": false,
    "editable": false,
    "nbgrader": {
     "checksum": "4ed56cb9eca2dd80395ccf1092ece318",
     "grade": true,
     "grade_id": "cell-2e2644d4a46134fc",
     "locked": true,
     "points": 10,
     "schema_version": 1,
     "solution": false
    }
   },
   "outputs": [],
   "source": [
    "assert problem3([1,2,3]) == 2"
   ]
  },
  {
   "cell_type": "markdown",
   "metadata": {
    "deletable": false,
    "editable": false,
    "nbgrader": {
     "checksum": "507e4a25b057c1368efbc0cf18a37f11",
     "grade": false,
     "grade_id": "cell-011f5e9600e03210",
     "locked": true,
     "schema_version": 1,
     "solution": false
    }
   },
   "source": [
    "## Problem 4 (All-in-one: list + string + file read):\n",
    "\n",
    "We downloaded several stock's daily level data for you in ./data/hw2_data/stock_data/. You will write code that takes stock tickers as inputs and output one dictinoary. The dictionary uses the stock tickers as keys and the values are these stocks' average open prices in 2017 (until the end of the file).\n",
    "\n",
    "Exmaple:\n",
    "\n",
    "    input: tickers = [\"AAPL\"]\n",
    "    output: {'AAPL': 143.465799260355}\n"
   ]
  },
  {
   "cell_type": "code",
   "execution_count": 67,
   "metadata": {
    "deletable": false,
    "nbgrader": {
     "checksum": "0565db99f763ff85b4cc82dfa17df2ec",
     "grade": false,
     "grade_id": "cell-0b99248c6f4c937e",
     "locked": false,
     "schema_version": 1,
     "solution": true
    }
   },
   "outputs": [
    {
     "data": {
      "text/plain": [
       "{'AAPL': 143.465799260355, 'GOOG': 884.3826611893493}"
      ]
     },
     "execution_count": 67,
     "metadata": {},
     "output_type": "execute_result"
    }
   ],
   "source": [
    "import csv\n",
    "def problem4(tickers):\n",
    "    return_dict = {}\n",
    "    for i in range(len(tickers)):\n",
    "        file_location = \"./data/hw2_data/stock_data/\"+tickers[i]+\".csv\"\n",
    "        # YOUR CODE HERE\n",
    "        sum_open_price = 0\n",
    "        count_row = 0\n",
    "        with open(file_location, 'r') as f:\n",
    "            reader = csv.reader(f)\n",
    "            next(reader)\n",
    "            for row in reader:\n",
    "                count_row +=1\n",
    "                sum_open_price = sum_open_price + float(row[2])\n",
    "        return_dict[tickers[i]] = sum_open_price/ count_row\n",
    "    \n",
    "    return(return_dict)\n",
    "problem4([\"AAPL\",\"GOOG\"])"
   ]
  },
  {
   "cell_type": "code",
   "execution_count": 68,
   "metadata": {
    "deletable": false,
    "editable": false,
    "nbgrader": {
     "checksum": "1d1d2991bbc9659055dc041ec6c33b2b",
     "grade": true,
     "grade_id": "cell-59169f1e7e9bdbdc",
     "locked": true,
     "points": 10,
     "schema_version": 1,
     "solution": false
    }
   },
   "outputs": [],
   "source": [
    "assert problem4([\"AAPL\"]) == {'AAPL': 143.465799260355}"
   ]
  },
  {
   "cell_type": "code",
   "execution_count": 69,
   "metadata": {
    "deletable": false,
    "editable": false,
    "nbgrader": {
     "checksum": "43e0c9a85ea5857ebe0ddadf188a4d68",
     "grade": true,
     "grade_id": "cell-14e4a8c2e0fdedf6",
     "locked": true,
     "points": 10,
     "schema_version": 1,
     "solution": false
    }
   },
   "outputs": [],
   "source": [
    "assert problem4([\"AAPL\", \"GOOG\"]) == {'AAPL': 143.465799260355, 'GOOG': 884.3826611893493}"
   ]
  },
  {
   "cell_type": "markdown",
   "metadata": {
    "deletable": false,
    "editable": false,
    "nbgrader": {
     "checksum": "48182f6d9c9b2bdcfe436587f3fc88da",
     "grade": false,
     "grade_id": "cell-f788f24e3b032440",
     "locked": true,
     "schema_version": 1,
     "solution": false
    }
   },
   "source": [
    "## Problem 5 (Power Set Problem) \n",
    "\n",
    "For a given list L, generate a list of lists which contain all subsets of L.  You are not allowed to use Python helper packages to do this.\n",
    "\n",
    "Example:\n",
    "\n",
    "Input: \n",
    "\n",
    "    L = [1,2]\n",
    "\n",
    "Output:\n",
    "\n",
    "    power_set = [[], [1], [2], [1,2]]"
   ]
  },
  {
   "cell_type": "code",
   "execution_count": 104,
   "metadata": {
    "deletable": false,
    "nbgrader": {
     "checksum": "ff184c6bdfd7292c5ce34c8649de4713",
     "grade": false,
     "grade_id": "cell-d3b79352a6e89063",
     "locked": false,
     "schema_version": 1,
     "solution": true
    }
   },
   "outputs": [
    {
     "data": {
      "text/plain": [
       "[[], [1], [1, 2], [1, 2, 3], [2], [2, 3], [3]]"
      ]
     },
     "execution_count": 104,
     "metadata": {},
     "output_type": "execute_result"
    }
   ],
   "source": [
    "def problem5(original_set):\n",
    "    power_set = [[]]\n",
    "\n",
    "    # YOUR CODE HERE\n",
    "    # method 1 (It'll has repetitions after the nested for loop. SO we have to eliminate the repetitions by using the set)\n",
    "#     new_power_set = []\n",
    "#     count = 1\n",
    "#     for j in range(len(original_set)):\n",
    "#         temp_list = []\n",
    "#         for i in range(len(original_set)-j):\n",
    "#             temp_list.append(original_set[i+j])\n",
    "#             power_set.append(tuple(temp_list))\n",
    "#         for i in range(len(power_set)):\n",
    "#              new_power_set.append(list(power_set[i]))\n",
    "                \n",
    "#     new_unique_power_set = set(map(tuple, new_power_set))\n",
    "#     new_unique_power_set = [list(item) for item in new_unique_power_set]\n",
    "#     return(new_unique_power_set)\n",
    "    \n",
    "    # Method 2 By adding the (if not) statement to filter out the repetitions when add the new subset into the power_set\n",
    "    new_power_set = []\n",
    "    for i in range(len(original_set)):\n",
    "        temp_list = []\n",
    "        for j in range(len(original_set) - i):\n",
    "            temp_list.append(original_set[i + j])\n",
    "            power_set.append(tuple(temp_list))\n",
    "        for j in range(len(power_set)):\n",
    "            if list(power_set[j]) not in new_power_set:\n",
    "                new_power_set.append(list(power_set[j]))\n",
    "    \n",
    "        \n",
    "    \n",
    "\n",
    "    return(new_power_set)\n",
    "problem5([1, 2, 3])"
   ]
  },
  {
   "cell_type": "code",
   "execution_count": 105,
   "metadata": {
    "deletable": false,
    "editable": false,
    "nbgrader": {
     "checksum": "23073b2fe567a964d826aae48e9de415",
     "grade": true,
     "grade_id": "cell-a2097c9f7e471e1c",
     "locked": true,
     "points": 10,
     "schema_version": 1,
     "solution": false
    }
   },
   "outputs": [],
   "source": [
    "assert sorted(problem5([1])) == sorted([[], [1]])"
   ]
  },
  {
   "cell_type": "code",
   "execution_count": 106,
   "metadata": {
    "deletable": false,
    "editable": false,
    "nbgrader": {
     "checksum": "1ef1917bcc6bc1e4761071eae1ea6f01",
     "grade": true,
     "grade_id": "cell-cfabbede7b5a2d5b",
     "locked": true,
     "points": 10,
     "schema_version": 1,
     "solution": false
    }
   },
   "outputs": [],
   "source": [
    "assert sorted(problem5([1, 2])) == sorted([[], [1], [2], [1,2]])"
   ]
  },
  {
   "cell_type": "code",
   "execution_count": null,
   "metadata": {},
   "outputs": [],
   "source": []
  },
  {
   "cell_type": "code",
   "execution_count": null,
   "metadata": {},
   "outputs": [],
   "source": []
  }
 ],
 "metadata": {
  "kernelspec": {
   "display_name": "Python 3 (ipykernel)",
   "language": "python",
   "name": "python3"
  },
  "language_info": {
   "codemirror_mode": {
    "name": "ipython",
    "version": 3
   },
   "file_extension": ".py",
   "mimetype": "text/x-python",
   "name": "python",
   "nbconvert_exporter": "python",
   "pygments_lexer": "ipython3",
   "version": "3.11.4"
  },
  "toc": {
   "colors": {
    "hover_highlight": "#DAA520",
    "navigate_num": "#000000",
    "navigate_text": "#333333",
    "running_highlight": "#FF0000",
    "selected_highlight": "#FFD700",
    "sidebar_border": "#EEEEEE",
    "wrapper_background": "#FFFFFF"
   },
   "moveMenuLeft": true,
   "nav_menu": {
    "height": "30px",
    "width": "252px"
   },
   "navigate_menu": true,
   "number_sections": true,
   "sideBar": true,
   "skip_h1_title": false,
   "threshold": 4,
   "toc_cell": false,
   "toc_position": {},
   "toc_section_display": "block",
   "toc_window_display": false,
   "widenNotebook": false
  }
 },
 "nbformat": 4,
 "nbformat_minor": 2
}
