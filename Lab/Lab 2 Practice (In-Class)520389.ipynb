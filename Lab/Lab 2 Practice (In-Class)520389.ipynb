{
 "cells": [
  {
   "cell_type": "markdown",
   "metadata": {},
   "source": [
    "# Conditionals\n",
    "\n",
    "Check if the x is perfect square.  If it is, print \"x is a perfect square\".  If not print \"x is not a perfect square\"."
   ]
  },
  {
   "cell_type": "code",
   "execution_count": 18,
   "metadata": {},
   "outputs": [
    {
     "name": "stdout",
     "output_type": "stream",
     "text": [
      "x is a perfect square\n",
      "4.0\n"
     ]
    }
   ],
   "source": [
    "#Write your code here\n",
    "import math\n",
    "x = 16\n",
    "if math.sqrt(x).is_integer():\n",
    "    print(\"x is a perfect square\")\n",
    "else: \n",
    "    print(\"x is not a perfect square\")\n",
    "\n",
    "print(math.sqrt(x))\n"
   ]
  },
  {
   "cell_type": "markdown",
   "metadata": {},
   "source": [
    "Create a list L of arbitrary length. Get the median.\n"
   ]
  },
  {
   "cell_type": "code",
   "execution_count": 57,
   "metadata": {},
   "outputs": [
    {
     "name": "stdout",
     "output_type": "stream",
     "text": [
      "[2, 7, 11, 12, 21, 123, 213]\n",
      "12\n"
     ]
    }
   ],
   "source": [
    "#Write your code here\n",
    "L = [213, 123, 21, 2, 12, 11, 7]\n",
    "L = sorted(L)\n",
    "print(L)\n",
    "if len(L)%2 ==0:\n",
    "    print((L[int((len(L)/2-1))]+L[int((len(L)/2))])/2)\n",
    "else:\n",
    "    print(L[int((len(L)/2-0.5))])\n"
   ]
  },
  {
   "cell_type": "markdown",
   "metadata": {},
   "source": [
    "If there are fewer than 10 students in the class, then the top three students get an  A and the rest get a B.  Otherwise, the grade breakdown is as follows:\n",
    "\n",
    "- A: 90-100\n",
    "- B: 80-89\n",
    "- C: 70 - 79\n",
    "- D: 65 - 69\n",
    "- Failing: Below 65\n",
    "\n",
    "Given the list of grades in grades_list, print the grade received by the last student in this list. So if we have\n",
    "\n",
    "    grade_list = [50, 90, 91, 88, 75]\n",
    "\n",
    "we want to print the grade received by the student who received a 75. In this case it would be a B.\n",
    "\n"
   ]
  },
  {
   "cell_type": "code",
   "execution_count": 49,
   "metadata": {},
   "outputs": [
    {
     "name": "stdout",
     "output_type": "stream",
     "text": [
      "[91, 90, 88, 75, 50]\n",
      "['A', 'A', 'A', 'B', 'B']\n"
     ]
    }
   ],
   "source": [
    "#Write your code here\n",
    "grade_list = [50, 90, 91, 88, 75]\n",
    "grade_list = sorted(grade_list, reverse = True)\n",
    "print(grade_list)\n",
    "new_grade_list = []\n",
    "\n",
    "\n",
    "count = 0\n",
    "if len(grade_list) < 10:\n",
    "    for i in range(len(grade_list)):\n",
    "        count += 1\n",
    "        if count <=3:\n",
    "            new_grade_list.append(\"A\")\n",
    "        if count >3:\n",
    "            new_grade_list.append(\"B\")\n",
    "else:\n",
    "    for i in range(len(grade_list)):\n",
    "        if 90 <= grade_list[i] <= 100:\n",
    "            new_grade_list.append(\"A\")\n",
    "        elif 80 <= grade_list[i] <= 89:\n",
    "            new_grade_list.append(\"B\")\n",
    "        elif 70 <= grade_list[i] <= 79:\n",
    "            new_grade_list.append(\"C\")\n",
    "        elif 65 <= grade_list[i] <= 69:\n",
    "            new_grade_list.append(\"D\")\n",
    "        else:\n",
    "            new_grade_list.append(\"Failing\")\n",
    "print(new_grade_list)\n",
    "        "
   ]
  },
  {
   "cell_type": "markdown",
   "metadata": {},
   "source": [
    "# For Loops\n",
    "\n",
    "Count the number of n's in your name (lower and uppercase count)"
   ]
  },
  {
   "cell_type": "code",
   "execution_count": 19,
   "metadata": {},
   "outputs": [
    {
     "name": "stdout",
     "output_type": "stream",
     "text": [
      "1\n"
     ]
    }
   ],
   "source": [
    "#Write your code here\n",
    "name = \"Salih Tutun\"\n",
    "want_character = [\"n\",\"N\"]\n",
    "\n",
    "count = 0\n",
    "for chr in name:\n",
    "    if chr in want_character:\n",
    "        count += 1\n",
    "print(count)"
   ]
  },
  {
   "cell_type": "markdown",
   "metadata": {},
   "source": [
    "Get all of the factors of a number and store them in a list"
   ]
  },
  {
   "cell_type": "code",
   "execution_count": null,
   "metadata": {},
   "outputs": [],
   "source": [
    "#Write your code here\n",
    "n = 6 # [1, 2, 3, 6]\n",
    "factor_list = []\n",
    "    for i in range(1, n+1):\n",
    "        if n % i == 0:\n",
    "            factor_list.append(i)\n",
    "    print(factor_list)"
   ]
  },
  {
   "cell_type": "markdown",
   "metadata": {},
   "source": [
    "Generate the first N numbers of the Fibonacci sequence where \n",
    "\n",
    "$a_0 = 1$\n",
    "\n",
    "$a_1=1$\n",
    "\n",
    "$a_n = a_{n-1} + a_{n-2}$"
   ]
  },
  {
   "cell_type": "code",
   "execution_count": 24,
   "metadata": {},
   "outputs": [
    {
     "name": "stdout",
     "output_type": "stream",
     "text": [
      "[0, 1, 1, 2, 3, 5, 8, 13, 21, 34]\n",
      "[0, 1, 1, 2, 3, 5, 8, 13, 21, 34]\n"
     ]
    }
   ],
   "source": [
    "#Write your code here\n",
    "n = 10\n",
    "Fibonacci_list =[0,1]\n",
    "\n",
    "while len(Fibonacci_list) < n:\n",
    "    Fibonacci_list.append(Fibonacci_list[-1]+Fibonacci_list[-2])\n",
    "print(Fibonacci_list)\n",
    "\n",
    "test_list = [0,1]\n",
    "for i in range(n-len(test_list)):\n",
    "    test_list.append(test_list[-1]+test_list[-2])\n",
    "print(test_list)\n"
   ]
  },
  {
   "cell_type": "markdown",
   "metadata": {},
   "source": [
    "Compute the dot product of lists l1 and l2. **This is an example where iterating over the index is better than over the elements themselves**\n"
   ]
  },
  {
   "cell_type": "code",
   "execution_count": 70,
   "metadata": {},
   "outputs": [
    {
     "name": "stdout",
     "output_type": "stream",
     "text": [
      "[6, 3, 20, 5, 12, 1, 900]\n"
     ]
    }
   ],
   "source": [
    "#Write your code here\n",
    "l1 = [2, 3, 4, 5, 6, 1, 90]\n",
    "l2 = [3, 1, 5, 1, 2, 1, 10]\n",
    "\n",
    "new_list = []\n",
    "for i in range(len(l1)):\n",
    "    new_list.append(l1[i]*l2[i])\n",
    "print(new_list)\n",
    "        "
   ]
  },
  {
   "cell_type": "markdown",
   "metadata": {},
   "source": [
    "Given two strings, test how many times the first string contains the second.  For example if str1 = \"**co**ding is **co**ol\" and str2 = \"co\" then output should be 2."
   ]
  },
  {
   "cell_type": "code",
   "execution_count": 30,
   "metadata": {},
   "outputs": [
    {
     "name": "stdout",
     "output_type": "stream",
     "text": [
      "2\n"
     ]
    }
   ],
   "source": [
    "#Write you code here\n",
    "# str1 = \"coding is cool\"\n",
    "# str2 = \"co\"\n",
    "\n",
    "# index = 0\n",
    "#     count = 0\n",
    "#     while True:\n",
    "#         index = str1.find(str2,index)\n",
    "#         if index == -1:\n",
    "#             break\n",
    "#         count +=1\n",
    "#         index +=1\n",
    "\n",
    "#     print(count)\n",
    "\n",
    "# Professor Method\n",
    "str1 = \"coding is cool\"\n",
    "str2 = \"co\"\n",
    "\n",
    "count = 0\n",
    "for i in range(len(str1)-len(str2)+1):\n",
    "    if str1[i:i+len(str2)] == str2:\n",
    "        count += 1\n",
    "print(count)"
   ]
  },
  {
   "cell_type": "markdown",
   "metadata": {},
   "source": [
    "Code up the locker brain teaser below. Print out a list of the open locker numbers. Let N be the number of lockers and students"
   ]
  },
  {
   "cell_type": "code",
   "execution_count": 31,
   "metadata": {},
   "outputs": [
    {
     "name": "stdout",
     "output_type": "stream",
     "text": [
      "[1, 0, 0, 1, 0, 0, 0, 0, 1, 0, 0, 0, 0, 0, 0, 1, 0, 0, 0, 0, 0, 0, 0, 0, 1, 0, 0, 0, 0, 0, 0, 0, 0, 0, 0, 1, 0, 0, 0, 0, 0, 0, 0, 0, 0, 0, 0, 0, 1, 0, 0, 0, 0, 0, 0, 0, 0, 0, 0, 0, 0, 0, 0, 1, 0, 0, 0, 0, 0, 0, 0, 0, 0, 0, 0, 0, 0, 0, 0, 0, 1, 0, 0, 0, 0, 0, 0, 0, 0, 0, 0, 0, 0, 0, 0, 0, 0, 0, 0, 1]\n",
      "[1, 4, 9, 16, 25, 36, 49, 64, 81, 100]\n"
     ]
    }
   ],
   "source": [
    "#Write your code here  \n",
    "\n",
    "\n",
    "N=100\n",
    "locker_list = [0]*N\n",
    "for i in range(1,N+1):\n",
    "    for y in range(N):\n",
    "        if (y+1)%i==0:\n",
    "            if locker_list[y]== 0:\n",
    "                locker_list[y]=1\n",
    "            else:\n",
    "                locker_list[y]=0\n",
    "print(locker_list)\n",
    "\n",
    "open_locker_number = []\n",
    "for i in range(len(locker_list)):\n",
    "    if locker_list[i] == 1:\n",
    "        open_locker_number.append(i+1)\n",
    "print(open_locker_number)\n",
    "        \n",
    "        \n",
    "    "
   ]
  },
  {
   "cell_type": "markdown",
   "metadata": {},
   "source": [
    "initial[0,0,0,0,0,0]\n",
    "s=1--> [1,1,1,1,1,1]\n",
    "s=2--> [1,0,1,0,1,0]\n",
    "s=3--> [1,0,0,0,1,1]\n",
    "s=4--> [1,0,0,1,1,1]\n",
    "s=5--> [1,0,0,1,0,1]\n",
    "s=6--> [1,0,0,1,0,0]"
   ]
  }
 ],
 "metadata": {
  "kernelspec": {
   "display_name": "Python 3 (ipykernel)",
   "language": "python",
   "name": "python3"
  },
  "language_info": {
   "codemirror_mode": {
    "name": "ipython",
    "version": 3
   },
   "file_extension": ".py",
   "mimetype": "text/x-python",
   "name": "python",
   "nbconvert_exporter": "python",
   "pygments_lexer": "ipython3",
   "version": "3.11.4"
  },
  "toc": {
   "nav_menu": {
    "height": "48px",
    "width": "252px"
   },
   "number_sections": true,
   "sideBar": true,
   "skip_h1_title": false,
   "toc_cell": false,
   "toc_position": {},
   "toc_section_display": "block",
   "toc_window_display": false
  }
 },
 "nbformat": 4,
 "nbformat_minor": 2
}
