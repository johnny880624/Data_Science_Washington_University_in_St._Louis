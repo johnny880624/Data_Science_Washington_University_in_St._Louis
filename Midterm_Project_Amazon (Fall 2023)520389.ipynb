{
 "cells": [
  {
   "cell_type": "markdown",
   "metadata": {},
   "source": [
    "# Smart Logistic System in Amazon "
   ]
  },
  {
   "cell_type": "markdown",
   "metadata": {},
   "source": [
    "### Note:  \n",
    "\n",
    "1. This is a group-based project, you are only allowed to discuss with your team members.\n",
    "\n",
    "2. You are not allowed to use any packages to read or write csv files.\n",
    "3. You are not allowed to use dynamic programming for this problem."
   ]
  },
  {
   "cell_type": "code",
   "execution_count": 18,
   "metadata": {},
   "outputs": [],
   "source": [
    "import numpy as np   # Numpy package would be the only package you could use for this project.\n",
    "                     # Please do not use pandas or other packages.\n"
   ]
  },
  {
   "cell_type": "markdown",
   "metadata": {},
   "source": [
    "## Problem1: The Estimated Value for Each Warehouse"
   ]
  },
  {
   "cell_type": "markdown",
   "metadata": {},
   "source": [
    "In this problem 1, calculating the estimated total value and accumulated weight of each of 300 warehouses will be helpful for the later decision of cross-warehouse-transshipment solution in problem 2. "
   ]
  },
  {
   "cell_type": "markdown",
   "metadata": {},
   "source": [
    "### Step 1: Estimate the Maximized Total Value and Accumulated Weight of One Warehouse"
   ]
  },
  {
   "cell_type": "markdown",
   "metadata": {},
   "source": [
    "Read the dataset from  \"Products.csv\" first."
   ]
  },
  {
   "cell_type": "code",
   "execution_count": 19,
   "metadata": {},
   "outputs": [],
   "source": [
    "file_name='Products.csv'\n",
    "\n",
    "# Write your codes here\n",
    "data = []\n",
    "with open(file_name, \"r\") as f:\n",
    "    for ele in f:\n",
    "        ele = ele.strip().split(\",\")\n",
    "        data.append(ele)\n",
    "# print(data)"
   ]
  },
  {
   "cell_type": "markdown",
   "metadata": {},
   "source": [
    "Now let's get the estimated value and weight for one warehouse.You need to write a function \"get_max_value\" which could do the following 4 things:\n",
    "1. Calculate the Value_Weight Ratio for each product. \n",
    "2. Sort the calculated Value_Weight Ratios in descending order. \n",
    "3. Select the products from the top of the descending order to the bottom while looking at the accumulated         weight of products to make sure the accumulated weight does not exceed the warehouse weight capacity.\n",
    "4. Calculate the  corresponding estimated value for this warehouse after finishing product selection.\n",
    "\n",
    "Remember, take every product into consideration; otherwise, you may have the risk of missing products. You want to put as many product with highest Value_Weight Ratio as possible before reaching the weight capacity for this warehouse."
   ]
  },
  {
   "cell_type": "code",
   "execution_count": 20,
   "metadata": {},
   "outputs": [
    {
     "name": "stdout",
     "output_type": "stream",
     "text": [
      "[1530.89, 850.0]\n"
     ]
    }
   ],
   "source": [
    "# test data from first two rows\n",
    "# weight_list = ['119', '100', '108', '88', '95', '91', '35', '55', '27', '91', '99', '34', '71', '95', '55', '113', '59', '15', '20', '25', '40', '48', '49', '23', '48', '72', '72', '39', '53', '11', '71', '56', '119', '44', '6', '114', '66', '83', '23', '45', '16', '20', '67', '77', '9', '26', '3', '117', '60', '12']\n",
    "# value_list = ['66', '170.66', '130', '67.32', '65.48', '27.08', '65', '17.23', '44.05', '34.92', '121.4', '4.12', '28.5', '65.52', '98.53', '89.46', '73.92', '3.26', '25.84', '23.28', '32.14', '27.79', '38.83', '26.12', '3.09', '160.1', '91.58', '19.4', '50.56', '5.81', '33.1', '49.63', '28.32', '44.49', '5.35', '93.4', '20.7', '146.5', '63.39', '10.1', '11.78', '20.46', '79.58', '123.3', '6.35', '21.88', '4.79', '119.31', '23', '35.33']\n",
    "\n",
    "def get_max_value(weight_list, value_list):          # You should add input variables yourself in the parentheses\n",
    "    # Write your codes here\n",
    "    v_w_ratio = []\n",
    "    weight_sum = 0\n",
    "    value_sum = 0\n",
    "    for i in range(len(weight_list)):\n",
    "        v_w_ratio.append([i,(float(value_list[i])/ float(weight_list[i])),float(value_list[i]),float(weight_list[i])] ) \n",
    "    sorted_v_w_ratio = sorted(v_w_ratio, key=lambda x: x[1], reverse=True)\n",
    "    for i in range(len(sorted_v_w_ratio)):\n",
    "        if weight_sum + sorted_v_w_ratio[i][3] <= 850:\n",
    "            weight_sum = weight_sum + sorted_v_w_ratio[i][3]\n",
    "            value_sum = value_sum + sorted_v_w_ratio[i][2]\n",
    "      \n",
    "    return [value_sum, weight_sum]  \n",
    "\n",
    "# Make sure you have calculated the total Value and accumulated weight for one warehouse\n",
    "print(get_max_value(weight_list, value_list))"
   ]
  },
  {
   "cell_type": "markdown",
   "metadata": {},
   "source": [
    "### Step 2: Estimate the Total Value for 300 Warehouses\n",
    "Let's apply the same calculation process of step 1 for one warehouse to the 299 warehouses left. \n",
    "\n",
    "Keep in mind that calculating the estimated total value and accumulated weight of 300 warehouses will be helpful for the later decision of cross-warehouse-transshipment solution in problem 2. "
   ]
  },
  {
   "cell_type": "code",
   "execution_count": 21,
   "metadata": {},
   "outputs": [
    {
     "name": "stdout",
     "output_type": "stream",
     "text": [
      "{0: [1354.39, 845.0], 1: [1328.4299999999998, 848.0], 2: [1555.0800000000002, 850.0], 3: [1275.82, 850.0], 4: [1380.2199999999998, 850.0], 5: [1281.6899999999996, 850.0], 6: [1506.4800000000002, 850.0], 7: [1214.1599999999999, 844.0], 8: [1261.0200000000002, 848.0], 9: [1321.6000000000001, 847.0], 10: [1191.76, 844.0], 11: [1394.1899999999998, 847.0], 12: [1423.6, 845.0], 13: [1361.8199999999997, 843.0], 14: [1211.1399999999999, 849.0], 15: [1337.99, 838.0], 16: [1473.47, 850.0], 17: [1261.3700000000001, 849.0], 18: [1250.3200000000002, 849.0], 19: [1257.1299999999999, 836.0], 20: [1503.6499999999999, 845.0], 21: [1283.2900000000002, 847.0], 22: [1322.0800000000002, 850.0], 23: [1341.2600000000002, 850.0], 24: [1391.84, 850.0], 25: [1320.6800000000003, 847.0], 26: [1327.7599999999998, 849.0], 27: [1362.9499999999996, 849.0], 28: [1315.3799999999997, 847.0], 29: [1323.28, 850.0], 30: [1312.8500000000001, 848.0], 31: [1283.64, 849.0], 32: [1420.7999999999997, 848.0], 33: [1491.2099999999998, 850.0], 34: [1234.21, 842.0], 35: [1330.3600000000001, 843.0], 36: [1290.74, 849.0], 37: [1515.18, 841.0], 38: [1376.0700000000002, 850.0], 39: [1429.07, 848.0], 40: [1436.44, 848.0], 41: [1254.72, 847.0], 42: [1291.26, 841.0], 43: [1456.1, 846.0], 44: [1355.38, 849.0], 45: [1410.6500000000003, 846.0], 46: [1475.4500000000003, 848.0], 47: [1345.3000000000002, 849.0], 48: [1365.29, 850.0], 49: [1401.5900000000004, 850.0], 50: [1316.98, 843.0], 51: [1476.6599999999999, 849.0], 52: [1156.39, 848.0], 53: [1283.5800000000002, 844.0], 54: [1328.9799999999998, 850.0], 55: [1441.07, 847.0], 56: [1242.42, 841.0], 57: [1348.6900000000003, 847.0], 58: [1365.19, 848.0], 59: [1335.0800000000002, 850.0], 60: [1306.2799999999997, 847.0], 61: [1298.2099999999998, 847.0], 62: [1299.34, 849.0], 63: [1463.1300000000003, 845.0], 64: [1236.0800000000002, 848.0], 65: [1496.36, 849.0], 66: [1232.7899999999997, 846.0], 67: [1242.38, 849.0], 68: [1463.3100000000002, 850.0], 69: [1344.32, 850.0], 70: [1418.53, 850.0], 71: [1260.4799999999996, 846.0], 72: [1323.3099999999997, 844.0], 73: [1519.47, 849.0], 74: [1479.8999999999999, 850.0], 75: [1270.82, 850.0], 76: [1245.04, 848.0], 77: [1298.8100000000004, 846.0], 78: [1233.7599999999998, 850.0], 79: [1218.67, 845.0], 80: [1376.4899999999998, 848.0], 81: [1300.31, 850.0], 82: [1354.45, 844.0], 83: [1224.6399999999999, 846.0], 84: [1412.34, 849.0], 85: [1436.8799999999997, 846.0], 86: [1358.1100000000001, 847.0], 87: [1381.58, 849.0], 88: [1267.5800000000004, 848.0], 89: [1305.5000000000002, 848.0], 90: [1152.42, 844.0], 91: [1493.8500000000001, 850.0], 92: [1342.0599999999997, 850.0], 93: [1250.08, 850.0], 94: [1331.5600000000002, 848.0], 95: [1303.44, 839.0], 96: [1174.84, 846.0], 97: [1226.7500000000002, 848.0], 98: [1226.33, 850.0], 99: [1309.1299999999997, 849.0], 100: [1373.6399999999999, 850.0], 101: [1279.4, 850.0], 102: [1369.9699999999998, 841.0], 103: [1315.4499999999998, 848.0], 104: [1283.7400000000002, 848.0], 105: [1383.2800000000002, 847.0], 106: [1296.14, 848.0], 107: [1285.65, 840.0], 108: [1265.1399999999999, 849.0], 109: [1500.8200000000002, 850.0], 110: [1317.9900000000002, 845.0], 111: [1374.9299999999996, 849.0], 112: [1317.6299999999999, 849.0], 113: [1417.08, 846.0], 114: [1256.7100000000005, 848.0], 115: [1270.8700000000001, 846.0], 116: [1227.42, 850.0], 117: [1404.7200000000003, 850.0], 118: [1210.54, 848.0], 119: [1362.5300000000002, 850.0], 120: [1391.97, 850.0], 121: [1487.3400000000001, 850.0], 122: [1422.98, 850.0], 123: [1460.69, 847.0], 124: [1185.5300000000002, 848.0], 125: [1251.9099999999999, 847.0], 126: [1303.8300000000002, 845.0], 127: [1412.8200000000002, 849.0], 128: [1272.0599999999997, 848.0], 129: [1405.3300000000002, 850.0], 130: [1387.8299999999997, 850.0], 131: [1344.06, 847.0], 132: [1513.39, 846.0], 133: [1211.54, 848.0], 134: [1341.0700000000002, 846.0], 135: [1278.81, 849.0], 136: [1384.62, 848.0], 137: [1500.1100000000001, 850.0], 138: [1538.19, 847.0], 139: [1295.5300000000002, 836.0], 140: [1441.2600000000002, 847.0], 141: [1540.48, 849.0], 142: [1313.1200000000003, 840.0], 143: [1272.88, 848.0], 144: [1422.08, 845.0], 145: [1374.96, 845.0], 146: [1306.9900000000005, 850.0], 147: [1331.76, 842.0], 148: [1406.17, 840.0], 149: [1123.1799999999998, 849.0], 150: [1275.3500000000001, 849.0], 151: [1347.0, 848.0], 152: [1334.5399999999995, 850.0], 153: [1369.2000000000003, 849.0], 154: [1501.6999999999998, 849.0], 155: [1238.9900000000005, 848.0], 156: [1541.6200000000003, 846.0], 157: [1243.26, 849.0], 158: [1500.26, 849.0], 159: [1384.04, 848.0], 160: [1423.5900000000001, 846.0], 161: [1151.74, 843.0], 162: [1298.4699999999996, 842.0], 163: [1375.73, 847.0], 164: [1373.83, 849.0], 165: [1505.5600000000002, 847.0], 166: [1285.1700000000003, 849.0], 167: [1489.31, 850.0], 168: [1177.9999999999998, 849.0], 169: [1486.85, 844.0], 170: [1274.46, 845.0], 171: [1255.4199999999998, 850.0], 172: [1367.34, 848.0], 173: [1418.1500000000003, 847.0], 174: [1291.1599999999999, 849.0], 175: [1278.78, 850.0], 176: [1356.24, 845.0], 177: [1402.3, 838.0], 178: [1377.8799999999999, 850.0], 179: [1363.6600000000005, 850.0], 180: [1304.2099999999998, 840.0], 181: [1259.9, 850.0], 182: [1363.31, 848.0], 183: [1238.3200000000002, 841.0], 184: [1134.9299999999998, 843.0], 185: [1339.55, 850.0], 186: [1278.5700000000002, 849.0], 187: [1361.3799999999999, 849.0], 188: [1460.1299999999999, 848.0], 189: [1379.86, 846.0], 190: [1352.2299999999998, 850.0], 191: [1194.48, 848.0], 192: [1245.65, 846.0], 193: [1315.4399999999998, 849.0], 194: [1177.95, 849.0], 195: [1297.0900000000001, 848.0], 196: [1395.59, 850.0], 197: [1479.54, 848.0], 198: [1362.32, 844.0], 199: [1472.4199999999996, 850.0], 200: [1342.9399999999998, 849.0], 201: [1341.69, 845.0], 202: [1219.74, 849.0], 203: [1323.34, 849.0], 204: [1325.9299999999998, 849.0], 205: [1257.43, 843.0], 206: [1356.0600000000002, 849.0], 207: [1457.0900000000001, 846.0], 208: [1262.56, 845.0], 209: [1412.8900000000003, 846.0], 210: [1419.51, 847.0], 211: [1500.75, 848.0], 212: [1347.6400000000003, 849.0], 213: [1310.2400000000002, 847.0], 214: [1340.6100000000001, 849.0], 215: [1259.59, 848.0], 216: [1451.54, 846.0], 217: [1398.6699999999996, 848.0], 218: [1405.6999999999998, 834.0], 219: [1423.42, 834.0], 220: [1410.9500000000003, 849.0], 221: [1237.02, 845.0], 222: [1348.7999999999997, 846.0], 223: [1305.39, 849.0], 224: [1454.3800000000003, 850.0], 225: [1524.23, 843.0], 226: [1448.0000000000002, 843.0], 227: [1335.3100000000002, 843.0], 228: [1406.5600000000002, 846.0], 229: [1416.84, 846.0], 230: [1396.0999999999997, 844.0], 231: [1338.5900000000001, 843.0], 232: [1316.98, 848.0], 233: [1316.95, 850.0], 234: [1256.5200000000002, 849.0], 235: [1389.09, 837.0], 236: [1310.2699999999998, 846.0], 237: [1495.24, 845.0], 238: [1131.0500000000002, 847.0], 239: [1245.27, 849.0], 240: [1246.81, 847.0], 241: [1306.92, 848.0], 242: [1314.2500000000002, 848.0], 243: [1299.02, 847.0], 244: [1334.94, 846.0], 245: [1354.2400000000002, 847.0], 246: [1462.46, 849.0], 247: [1283.5600000000002, 849.0], 248: [1144.0700000000002, 846.0], 249: [1386.3, 848.0], 250: [1299.5100000000002, 848.0], 251: [1366.5, 846.0], 252: [1354.2699999999998, 843.0], 253: [1367.9800000000005, 850.0], 254: [1263.7300000000002, 847.0], 255: [1273.5700000000002, 848.0], 256: [1355.4200000000003, 848.0], 257: [1104.8400000000001, 848.0], 258: [1495.3600000000001, 848.0], 259: [1556.45, 849.0], 260: [1340.9599999999998, 847.0], 261: [1248.4499999999996, 842.0], 262: [1239.0200000000002, 838.0], 263: [1458.4299999999998, 846.0], 264: [1277.8999999999999, 843.0], 265: [1097.3100000000004, 849.0], 266: [1358.74, 850.0], 267: [1438.12, 850.0], 268: [1248.5300000000002, 847.0], 269: [1275.8899999999999, 848.0], 270: [1388.37, 850.0], 271: [1469.11, 848.0], 272: [1386.97, 850.0], 273: [1334.7500000000002, 850.0], 274: [1278.81, 845.0], 275: [1295.43, 845.0], 276: [1403.16, 848.0], 277: [1185.0500000000002, 842.0], 278: [1502.09, 847.0], 279: [1244.6899999999998, 844.0], 280: [1193.0300000000004, 846.0], 281: [1329.5799999999997, 845.0], 282: [1299.6599999999999, 849.0], 283: [1247.83, 849.0], 284: [1286.05, 847.0], 285: [1596.87, 849.0], 286: [1499.6000000000001, 850.0], 287: [1247.2000000000003, 842.0], 288: [1449.3500000000004, 847.0], 289: [1410.1100000000001, 849.0], 290: [1557.3400000000001, 850.0], 291: [1355.6399999999999, 849.0], 292: [1293.14, 848.0], 293: [1540.5399999999995, 849.0], 294: [1449.31, 848.0], 295: [1188.6, 848.0], 296: [1110.6699999999998, 850.0], 297: [1316.6999999999998, 846.0], 298: [1514.04, 844.0], 299: [1530.89, 850.0]}\n"
     ]
    }
   ],
   "source": [
    "# Write your codes here\n",
    "warehouse_value = {}\n",
    "number_warehouse = 0\n",
    "''' we have 300 instances and one warehouse has 3 rows on the dataset. So, we will iterate for 900'''\n",
    "for i in range(0,900,3):\n",
    "        \n",
    "    # Write your codes here\n",
    "    weight_list = data[i]\n",
    "    value_list = data[i+1]\n",
    "    warehouse_value[number_warehouse] = get_max_value(weight_list, value_list)\n",
    "    number_warehouse += 1\n",
    "    \n",
    "    # Write your codes here \n",
    "    \n",
    "print(warehouse_value)         # Show the warehouse_value you generated"
   ]
  },
  {
   "cell_type": "code",
   "execution_count": 22,
   "metadata": {},
   "outputs": [],
   "source": [
    "# # problem 1: without using any function \n",
    "# file_name = 'Products.csv'\n",
    "# dict_ = {}\n",
    "# count = 0\n",
    "# weight_list = []\n",
    "# value_list = []\n",
    "# number_warehouse = 0\n",
    "# with open(file_name, \"r\") as f:\n",
    "#     for ele in f:\n",
    "#         v_w_ratio = []\n",
    "#         weight_sum = 0\n",
    "#         value_sum = 0\n",
    "#         ele = ele.strip().split(\",\")\n",
    "#         if count % 3==0:\n",
    "#             weight_list = ele\n",
    "#         elif count % 3 ==1:\n",
    "#             value_list = ele\n",
    "#             for i in range(len(value_list)):\n",
    "#                 v_w_ratio.append([i,(float(value_list[i])/ float(weight_list[i])),float(value_list[i]),float(weight_list[i])])\n",
    "# #             # sorted_data = sorted(data, key=lambda x: x[1])\n",
    "#             sorted_v_w_ratio = sorted(v_w_ratio, key=lambda x: x[1], reverse=True)\n",
    "#             for i in range(len(sorted_v_w_ratio)):\n",
    "#                 if weight_sum + sorted_v_w_ratio[i][3] <= 850:\n",
    "#                     weight_sum = weight_sum + sorted_v_w_ratio[i][3]\n",
    "#                     value_sum = value_sum + sorted_v_w_ratio[i][2]\n",
    "#             dict_[number_warehouse] = [value_sum, weight_sum]\n",
    "#             number_warehouse += 1\n",
    "#         count += 1\n",
    "# print(dict_)"
   ]
  },
  {
   "cell_type": "markdown",
   "metadata": {},
   "source": [
    "## Problem 2: Top Alternative Selections\n",
    "\n",
    "In this problem, you will simulate the cross-warehouse-transshipment solutions when a random warehouse is out-of-stock during the promotion period."
   ]
  },
  {
   "cell_type": "markdown",
   "metadata": {},
   "source": [
    "### Step 1: Generate the 300*300 distance matrix and write the results to \"Distances.csv\"\n",
    "Let's generate a distance matrix among the 300 warehouses first. Each of the distances can be generated by using a normal distribution with a mean of 600 and a standard deviation of 400. \n",
    "\n",
    "Be careful, all the distances generated should be positive numbers and should be rounded to integers using the round() function. After successfully generating the distance matrix, please write it to a new CSV file called “Distances.csv”."
   ]
  },
  {
   "cell_type": "code",
   "execution_count": 23,
   "metadata": {},
   "outputs": [
    {
     "data": {
      "text/plain": [
       "array([[   0., 1072.,  329., ...,  323.,  551.,  578.],\n",
       "       [1072.,    0.,  720., ...,  787.,  515.,  702.],\n",
       "       [ 329.,  720.,    0., ...,  357.,  307.,  376.],\n",
       "       ...,\n",
       "       [ 323.,  787.,  357., ...,    0.,   30., 1257.],\n",
       "       [ 551.,  515.,  307., ...,   30.,    0.,  650.],\n",
       "       [ 578.,  702.,  376., ..., 1257.,  650.,    0.]])"
      ]
     },
     "execution_count": 23,
     "metadata": {},
     "output_type": "execute_result"
    }
   ],
   "source": [
    "# Generate the Distance matrix 300*300\n",
    "\n",
    "# Write your codes here\n",
    "\n",
    "mu = 600\n",
    "sigma = 400\n",
    "\n",
    "distances = np.zeros((300, 300))\n",
    "\n",
    "for i in range(300):\n",
    "    for j in range(300):\n",
    "        if j > i:\n",
    "            distances[i, j] = round(np.abs(np.random.normal(mu, sigma)))\n",
    "        elif j == i:\n",
    "            distances[i, j] = 0\n",
    "\n",
    "for i in range(300):\n",
    "    for j in range(300):\n",
    "        if j < i:\n",
    "            distances[i, j] = distances[j,i]\n",
    "\n",
    "distances          # Show the distance matrix you generated \n",
    "\n",
    "# Check your maxtrix and see if all numbers are positive and rounded to integer"
   ]
  },
  {
   "cell_type": "markdown",
   "metadata": {},
   "source": [
    "Now we are going to save the file in 'Distance.csv'"
   ]
  },
  {
   "cell_type": "code",
   "execution_count": 24,
   "metadata": {},
   "outputs": [],
   "source": [
    "f = open(\"Distances.csv\", \"w\") # We will create this file.\n",
    "\n",
    "# Write your codes here\n",
    "for row in distances:\n",
    "    f.write(\",\".join(map(str, row)))\n",
    "    f.write(\"\\n\")      \n",
    "     \n",
    "f.close()"
   ]
  },
  {
   "cell_type": "markdown",
   "metadata": {},
   "source": [
    "### Step2：Select the Alternative Warehouse (\"Helper\")"
   ]
  },
  {
   "cell_type": "markdown",
   "metadata": {},
   "source": [
    "Marlon randomly selects No.p warehouse that is out-of-stock in this simulation."
   ]
  },
  {
   "cell_type": "code",
   "execution_count": 25,
   "metadata": {},
   "outputs": [
    {
     "data": {
      "text/plain": [
       "0"
      ]
     },
     "execution_count": 25,
     "metadata": {},
     "output_type": "execute_result"
    }
   ],
   "source": [
    "'''p is offered by Malron. Do not change the code below.'''\n",
    "\n",
    "p = np.random.randint(0,300) \n",
    "p"
   ]
  },
  {
   "cell_type": "markdown",
   "metadata": {},
   "source": [
    "There are 3 things to do:\n",
    "1. Based on the generated p, find the corresponding distance between this warehouse No.p and each of the other Helpers from the distance matrix you generated in Step 1 of Problem 2.\n",
    "2. Find the corresponding total value and total weight of all products stored in each Helper (you have calculated these numbers in Problem 1).\n",
    "3. Calculate the “Value_per_Weight” ratio for each Helper, sort the ratio in descending order and choose top helpers with 10 highest “Value_per_Weight”ratios.\n",
    "\n",
    "#### <center> $Value\\_per\\_Weight = \\frac{Total\\_Value}{Total\\_Weight}-Distance\\times\\ Transpotation\\_Cost$"
   ]
  },
  {
   "cell_type": "code",
   "execution_count": 29,
   "metadata": {},
   "outputs": [
    {
     "name": "stdout",
     "output_type": "stream",
     "text": [
      "[[273, 1.540294117647059], [27, 1.4103592461719665], [247, 1.3168492343934042], [294, 1.2740919811320754], [32, 1.2254716981132072], [262, 1.1785441527446303], [17, 1.1707126030624266], [202, 1.1366784452296819], [151, 1.0634433962264151], [182, 1.0376768867924526]]\n",
      "---------------------------------------------------------------------------------\n",
      "Helper index_0: 273, and Corresponding Value_Per_Weight_ratio: 1.540294117647059\n",
      "Helper index_1: 27, and Corresponding Value_Per_Weight_ratio: 1.4103592461719665\n",
      "Helper index_2: 247, and Corresponding Value_Per_Weight_ratio: 1.3168492343934042\n",
      "Helper index_3: 294, and Corresponding Value_Per_Weight_ratio: 1.2740919811320754\n",
      "Helper index_4: 32, and Corresponding Value_Per_Weight_ratio: 1.2254716981132072\n",
      "Helper index_5: 262, and Corresponding Value_Per_Weight_ratio: 1.1785441527446303\n",
      "Helper index_6: 17, and Corresponding Value_Per_Weight_ratio: 1.1707126030624266\n",
      "Helper index_7: 202, and Corresponding Value_Per_Weight_ratio: 1.1366784452296819\n",
      "Helper index_8: 151, and Corresponding Value_Per_Weight_ratio: 1.0634433962264151\n",
      "Helper index_9: 182, and Corresponding Value_Per_Weight_ratio: 1.0376768867924526\n"
     ]
    }
   ],
   "source": [
    "# Write your codes here\n",
    "# 299: [1530.89, 850.0]\n",
    "Value_per_Weight = []\n",
    "Transportation_Cost = 0.015\n",
    "for j in range(300):\n",
    "    Value_per_Weight.append([j,warehouse_value[j][0]/warehouse_value[j][1]- distances[p,j] * Transportation_Cost])\n",
    "sorted_Value_per_Weight = sorted(Value_per_Weight, key=lambda x: x[1], reverse=True)\n",
    "\n",
    "# print(sorted_Value_per_Weight[0:20])\n",
    "\n",
    "helpers = []\n",
    "for i in range(20):\n",
    "    if i < 11 :\n",
    "        if i !=0:\n",
    "            helpers.append(sorted_Value_per_Weight[i])\n",
    "    elif i >11 and sorted_Value_per_Weight[i] == sorted_Value_per_Weight[i-1]: \n",
    "        # if the value of number 10 is identical to that of number 11, we will still consider it helper.\n",
    "        # And we keep tracking whether there is any value is also as same as the value of number 10 until finding\n",
    "        # the value is not identical.\n",
    "        helpers.append(sorted_Value_per_Weight[i])\n",
    "    else:\n",
    "        break\n",
    "    \n",
    "     \n",
    "# Show the cross-warehouse-transshipment solution when No.p warehouse is out-of-stock during the promotion period. \n",
    "# The solution should contain Helper indexes and the corresponding \"Value_Per_Weight\" ratios. \n",
    "\n",
    "# index0: Helper indexes\n",
    "# index1: the corresponding \"Value_Per_Weight\" ratios\n",
    "print(helpers)\n",
    "print(\"---------------------------------------------------------------------------------\")\n",
    "for i in range(len(helpers)):\n",
    "    print(\"Helper index_\"+ str(i) + \": \" + str(helpers[i][0]) + \", and Corresponding Value_Per_Weight_ratio: \" + str(helpers[i][1]))"
   ]
  },
  {
   "cell_type": "markdown",
   "metadata": {},
   "source": [
    "#### Note:\n",
    "\n",
    "Due to random assignment of No.p warehouse, it's acceptable if your recommended solution changes each time you re-run the code. "
   ]
  },
  {
   "cell_type": "markdown",
   "metadata": {},
   "source": [
    "### Submision Requirement:\n",
    "\n",
    "Please submit all files (Distances.csv, and Fall23_Midterm_Amazon.ipynb files) as one zip file on Canvas. Please add IDs on the name of zip file. For example, 14325_34672_12345.zip."
   ]
  }
 ],
 "metadata": {
  "kernelspec": {
   "display_name": "Python 3 (ipykernel)",
   "language": "python",
   "name": "python3"
  },
  "language_info": {
   "codemirror_mode": {
    "name": "ipython",
    "version": 3
   },
   "file_extension": ".py",
   "mimetype": "text/x-python",
   "name": "python",
   "nbconvert_exporter": "python",
   "pygments_lexer": "ipython3",
   "version": "3.11.4"
  }
 },
 "nbformat": 4,
 "nbformat_minor": 2
}
